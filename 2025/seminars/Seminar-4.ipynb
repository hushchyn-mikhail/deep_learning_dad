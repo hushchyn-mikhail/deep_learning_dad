{
  "cells": [
    {
      "cell_type": "markdown",
      "id": "ba292991",
      "metadata": {
        "id": "ba292991"
      },
      "source": [
        "## Regularizations"
      ]
    },
    {
      "cell_type": "code",
      "execution_count": null,
      "id": "b00eb016",
      "metadata": {
        "id": "b00eb016"
      },
      "outputs": [],
      "source": [
        "import numpy as np\n",
        "import os\n",
        "import pandas as pd\n",
        "import torch\n",
        "import torch.nn as nn\n",
        "import torch.optim as optim\n",
        "from torchvision.datasets import MNIST\n",
        "from torch.utils.data import DataLoader, Dataset\n",
        "from torchvision import transforms\n",
        "from matplotlib import pyplot as plt\n",
        "from sklearn.preprocessing import LabelEncoder\n",
        "from sklearn.model_selection import StratifiedKFold\n",
        "import warnings\n",
        "\n",
        "warnings.filterwarnings('ignore')"
      ]
    },
    {
      "cell_type": "markdown",
      "id": "20e8bc51",
      "metadata": {
        "id": "20e8bc51"
      },
      "source": [
        "### Dropout"
      ]
    },
    {
      "cell_type": "code",
      "execution_count": null,
      "id": "e5b275d2",
      "metadata": {
        "colab": {
          "base_uri": "https://localhost:8080/",
          "height": 256
        },
        "id": "e5b275d2",
        "outputId": "4fd741b8-3210-4493-a6f5-3063d8a34560"
      },
      "outputs": [
        {
          "output_type": "display_data",
          "data": {
            "text/plain": [
              "       0       1       2       3       4       5       6       7       8   \\\n",
              "0  0.0200  0.0371  0.0428  0.0207  0.0954  0.0986  0.1539  0.1601  0.3109   \n",
              "1  0.0453  0.0523  0.0843  0.0689  0.1183  0.2583  0.2156  0.3481  0.3337   \n",
              "2  0.0262  0.0582  0.1099  0.1083  0.0974  0.2280  0.2431  0.3771  0.5598   \n",
              "3  0.0100  0.0171  0.0623  0.0205  0.0205  0.0368  0.1098  0.1276  0.0598   \n",
              "4  0.0762  0.0666  0.0481  0.0394  0.0590  0.0649  0.1209  0.2467  0.3564   \n",
              "\n",
              "       9   ...      51      52      53      54      55      56      57  \\\n",
              "0  0.2111  ...  0.0027  0.0065  0.0159  0.0072  0.0167  0.0180  0.0084   \n",
              "1  0.2872  ...  0.0084  0.0089  0.0048  0.0094  0.0191  0.0140  0.0049   \n",
              "2  0.6194  ...  0.0232  0.0166  0.0095  0.0180  0.0244  0.0316  0.0164   \n",
              "3  0.1264  ...  0.0121  0.0036  0.0150  0.0085  0.0073  0.0050  0.0044   \n",
              "4  0.4459  ...  0.0031  0.0054  0.0105  0.0110  0.0015  0.0072  0.0048   \n",
              "\n",
              "       58      59  60  \n",
              "0  0.0090  0.0032   R  \n",
              "1  0.0052  0.0044   R  \n",
              "2  0.0095  0.0078   R  \n",
              "3  0.0040  0.0117   R  \n",
              "4  0.0107  0.0094   R  \n",
              "\n",
              "[5 rows x 61 columns]"
            ],
            "text/html": [
              "\n",
              "  <div id=\"df-f1c9c4b3-7922-49f6-a134-8a5d0ad3861b\" class=\"colab-df-container\">\n",
              "    <div>\n",
              "<style scoped>\n",
              "    .dataframe tbody tr th:only-of-type {\n",
              "        vertical-align: middle;\n",
              "    }\n",
              "\n",
              "    .dataframe tbody tr th {\n",
              "        vertical-align: top;\n",
              "    }\n",
              "\n",
              "    .dataframe thead th {\n",
              "        text-align: right;\n",
              "    }\n",
              "</style>\n",
              "<table border=\"1\" class=\"dataframe\">\n",
              "  <thead>\n",
              "    <tr style=\"text-align: right;\">\n",
              "      <th></th>\n",
              "      <th>0</th>\n",
              "      <th>1</th>\n",
              "      <th>2</th>\n",
              "      <th>3</th>\n",
              "      <th>4</th>\n",
              "      <th>5</th>\n",
              "      <th>6</th>\n",
              "      <th>7</th>\n",
              "      <th>8</th>\n",
              "      <th>9</th>\n",
              "      <th>...</th>\n",
              "      <th>51</th>\n",
              "      <th>52</th>\n",
              "      <th>53</th>\n",
              "      <th>54</th>\n",
              "      <th>55</th>\n",
              "      <th>56</th>\n",
              "      <th>57</th>\n",
              "      <th>58</th>\n",
              "      <th>59</th>\n",
              "      <th>60</th>\n",
              "    </tr>\n",
              "  </thead>\n",
              "  <tbody>\n",
              "    <tr>\n",
              "      <th>0</th>\n",
              "      <td>0.0200</td>\n",
              "      <td>0.0371</td>\n",
              "      <td>0.0428</td>\n",
              "      <td>0.0207</td>\n",
              "      <td>0.0954</td>\n",
              "      <td>0.0986</td>\n",
              "      <td>0.1539</td>\n",
              "      <td>0.1601</td>\n",
              "      <td>0.3109</td>\n",
              "      <td>0.2111</td>\n",
              "      <td>...</td>\n",
              "      <td>0.0027</td>\n",
              "      <td>0.0065</td>\n",
              "      <td>0.0159</td>\n",
              "      <td>0.0072</td>\n",
              "      <td>0.0167</td>\n",
              "      <td>0.0180</td>\n",
              "      <td>0.0084</td>\n",
              "      <td>0.0090</td>\n",
              "      <td>0.0032</td>\n",
              "      <td>R</td>\n",
              "    </tr>\n",
              "    <tr>\n",
              "      <th>1</th>\n",
              "      <td>0.0453</td>\n",
              "      <td>0.0523</td>\n",
              "      <td>0.0843</td>\n",
              "      <td>0.0689</td>\n",
              "      <td>0.1183</td>\n",
              "      <td>0.2583</td>\n",
              "      <td>0.2156</td>\n",
              "      <td>0.3481</td>\n",
              "      <td>0.3337</td>\n",
              "      <td>0.2872</td>\n",
              "      <td>...</td>\n",
              "      <td>0.0084</td>\n",
              "      <td>0.0089</td>\n",
              "      <td>0.0048</td>\n",
              "      <td>0.0094</td>\n",
              "      <td>0.0191</td>\n",
              "      <td>0.0140</td>\n",
              "      <td>0.0049</td>\n",
              "      <td>0.0052</td>\n",
              "      <td>0.0044</td>\n",
              "      <td>R</td>\n",
              "    </tr>\n",
              "    <tr>\n",
              "      <th>2</th>\n",
              "      <td>0.0262</td>\n",
              "      <td>0.0582</td>\n",
              "      <td>0.1099</td>\n",
              "      <td>0.1083</td>\n",
              "      <td>0.0974</td>\n",
              "      <td>0.2280</td>\n",
              "      <td>0.2431</td>\n",
              "      <td>0.3771</td>\n",
              "      <td>0.5598</td>\n",
              "      <td>0.6194</td>\n",
              "      <td>...</td>\n",
              "      <td>0.0232</td>\n",
              "      <td>0.0166</td>\n",
              "      <td>0.0095</td>\n",
              "      <td>0.0180</td>\n",
              "      <td>0.0244</td>\n",
              "      <td>0.0316</td>\n",
              "      <td>0.0164</td>\n",
              "      <td>0.0095</td>\n",
              "      <td>0.0078</td>\n",
              "      <td>R</td>\n",
              "    </tr>\n",
              "    <tr>\n",
              "      <th>3</th>\n",
              "      <td>0.0100</td>\n",
              "      <td>0.0171</td>\n",
              "      <td>0.0623</td>\n",
              "      <td>0.0205</td>\n",
              "      <td>0.0205</td>\n",
              "      <td>0.0368</td>\n",
              "      <td>0.1098</td>\n",
              "      <td>0.1276</td>\n",
              "      <td>0.0598</td>\n",
              "      <td>0.1264</td>\n",
              "      <td>...</td>\n",
              "      <td>0.0121</td>\n",
              "      <td>0.0036</td>\n",
              "      <td>0.0150</td>\n",
              "      <td>0.0085</td>\n",
              "      <td>0.0073</td>\n",
              "      <td>0.0050</td>\n",
              "      <td>0.0044</td>\n",
              "      <td>0.0040</td>\n",
              "      <td>0.0117</td>\n",
              "      <td>R</td>\n",
              "    </tr>\n",
              "    <tr>\n",
              "      <th>4</th>\n",
              "      <td>0.0762</td>\n",
              "      <td>0.0666</td>\n",
              "      <td>0.0481</td>\n",
              "      <td>0.0394</td>\n",
              "      <td>0.0590</td>\n",
              "      <td>0.0649</td>\n",
              "      <td>0.1209</td>\n",
              "      <td>0.2467</td>\n",
              "      <td>0.3564</td>\n",
              "      <td>0.4459</td>\n",
              "      <td>...</td>\n",
              "      <td>0.0031</td>\n",
              "      <td>0.0054</td>\n",
              "      <td>0.0105</td>\n",
              "      <td>0.0110</td>\n",
              "      <td>0.0015</td>\n",
              "      <td>0.0072</td>\n",
              "      <td>0.0048</td>\n",
              "      <td>0.0107</td>\n",
              "      <td>0.0094</td>\n",
              "      <td>R</td>\n",
              "    </tr>\n",
              "  </tbody>\n",
              "</table>\n",
              "<p>5 rows × 61 columns</p>\n",
              "</div>\n",
              "    <div class=\"colab-df-buttons\">\n",
              "\n",
              "  <div class=\"colab-df-container\">\n",
              "    <button class=\"colab-df-convert\" onclick=\"convertToInteractive('df-f1c9c4b3-7922-49f6-a134-8a5d0ad3861b')\"\n",
              "            title=\"Convert this dataframe to an interactive table.\"\n",
              "            style=\"display:none;\">\n",
              "\n",
              "  <svg xmlns=\"http://www.w3.org/2000/svg\" height=\"24px\" viewBox=\"0 -960 960 960\">\n",
              "    <path d=\"M120-120v-720h720v720H120Zm60-500h600v-160H180v160Zm220 220h160v-160H400v160Zm0 220h160v-160H400v160ZM180-400h160v-160H180v160Zm440 0h160v-160H620v160ZM180-180h160v-160H180v160Zm440 0h160v-160H620v160Z\"/>\n",
              "  </svg>\n",
              "    </button>\n",
              "\n",
              "  <style>\n",
              "    .colab-df-container {\n",
              "      display:flex;\n",
              "      gap: 12px;\n",
              "    }\n",
              "\n",
              "    .colab-df-convert {\n",
              "      background-color: #E8F0FE;\n",
              "      border: none;\n",
              "      border-radius: 50%;\n",
              "      cursor: pointer;\n",
              "      display: none;\n",
              "      fill: #1967D2;\n",
              "      height: 32px;\n",
              "      padding: 0 0 0 0;\n",
              "      width: 32px;\n",
              "    }\n",
              "\n",
              "    .colab-df-convert:hover {\n",
              "      background-color: #E2EBFA;\n",
              "      box-shadow: 0px 1px 2px rgba(60, 64, 67, 0.3), 0px 1px 3px 1px rgba(60, 64, 67, 0.15);\n",
              "      fill: #174EA6;\n",
              "    }\n",
              "\n",
              "    .colab-df-buttons div {\n",
              "      margin-bottom: 4px;\n",
              "    }\n",
              "\n",
              "    [theme=dark] .colab-df-convert {\n",
              "      background-color: #3B4455;\n",
              "      fill: #D2E3FC;\n",
              "    }\n",
              "\n",
              "    [theme=dark] .colab-df-convert:hover {\n",
              "      background-color: #434B5C;\n",
              "      box-shadow: 0px 1px 3px 1px rgba(0, 0, 0, 0.15);\n",
              "      filter: drop-shadow(0px 1px 2px rgba(0, 0, 0, 0.3));\n",
              "      fill: #FFFFFF;\n",
              "    }\n",
              "  </style>\n",
              "\n",
              "    <script>\n",
              "      const buttonEl =\n",
              "        document.querySelector('#df-f1c9c4b3-7922-49f6-a134-8a5d0ad3861b button.colab-df-convert');\n",
              "      buttonEl.style.display =\n",
              "        google.colab.kernel.accessAllowed ? 'block' : 'none';\n",
              "\n",
              "      async function convertToInteractive(key) {\n",
              "        const element = document.querySelector('#df-f1c9c4b3-7922-49f6-a134-8a5d0ad3861b');\n",
              "        const dataTable =\n",
              "          await google.colab.kernel.invokeFunction('convertToInteractive',\n",
              "                                                    [key], {});\n",
              "        if (!dataTable) return;\n",
              "\n",
              "        const docLinkHtml = 'Like what you see? Visit the ' +\n",
              "          '<a target=\"_blank\" href=https://colab.research.google.com/notebooks/data_table.ipynb>data table notebook</a>'\n",
              "          + ' to learn more about interactive tables.';\n",
              "        element.innerHTML = '';\n",
              "        dataTable['output_type'] = 'display_data';\n",
              "        await google.colab.output.renderOutput(dataTable, element);\n",
              "        const docLink = document.createElement('div');\n",
              "        docLink.innerHTML = docLinkHtml;\n",
              "        element.appendChild(docLink);\n",
              "      }\n",
              "    </script>\n",
              "  </div>\n",
              "\n",
              "\n",
              "<div id=\"df-b8f05426-366d-476d-ae69-4326459ffe5f\">\n",
              "  <button class=\"colab-df-quickchart\" onclick=\"quickchart('df-b8f05426-366d-476d-ae69-4326459ffe5f')\"\n",
              "            title=\"Suggest charts\"\n",
              "            style=\"display:none;\">\n",
              "\n",
              "<svg xmlns=\"http://www.w3.org/2000/svg\" height=\"24px\"viewBox=\"0 0 24 24\"\n",
              "     width=\"24px\">\n",
              "    <g>\n",
              "        <path d=\"M19 3H5c-1.1 0-2 .9-2 2v14c0 1.1.9 2 2 2h14c1.1 0 2-.9 2-2V5c0-1.1-.9-2-2-2zM9 17H7v-7h2v7zm4 0h-2V7h2v10zm4 0h-2v-4h2v4z\"/>\n",
              "    </g>\n",
              "</svg>\n",
              "  </button>\n",
              "\n",
              "<style>\n",
              "  .colab-df-quickchart {\n",
              "      --bg-color: #E8F0FE;\n",
              "      --fill-color: #1967D2;\n",
              "      --hover-bg-color: #E2EBFA;\n",
              "      --hover-fill-color: #174EA6;\n",
              "      --disabled-fill-color: #AAA;\n",
              "      --disabled-bg-color: #DDD;\n",
              "  }\n",
              "\n",
              "  [theme=dark] .colab-df-quickchart {\n",
              "      --bg-color: #3B4455;\n",
              "      --fill-color: #D2E3FC;\n",
              "      --hover-bg-color: #434B5C;\n",
              "      --hover-fill-color: #FFFFFF;\n",
              "      --disabled-bg-color: #3B4455;\n",
              "      --disabled-fill-color: #666;\n",
              "  }\n",
              "\n",
              "  .colab-df-quickchart {\n",
              "    background-color: var(--bg-color);\n",
              "    border: none;\n",
              "    border-radius: 50%;\n",
              "    cursor: pointer;\n",
              "    display: none;\n",
              "    fill: var(--fill-color);\n",
              "    height: 32px;\n",
              "    padding: 0;\n",
              "    width: 32px;\n",
              "  }\n",
              "\n",
              "  .colab-df-quickchart:hover {\n",
              "    background-color: var(--hover-bg-color);\n",
              "    box-shadow: 0 1px 2px rgba(60, 64, 67, 0.3), 0 1px 3px 1px rgba(60, 64, 67, 0.15);\n",
              "    fill: var(--button-hover-fill-color);\n",
              "  }\n",
              "\n",
              "  .colab-df-quickchart-complete:disabled,\n",
              "  .colab-df-quickchart-complete:disabled:hover {\n",
              "    background-color: var(--disabled-bg-color);\n",
              "    fill: var(--disabled-fill-color);\n",
              "    box-shadow: none;\n",
              "  }\n",
              "\n",
              "  .colab-df-spinner {\n",
              "    border: 2px solid var(--fill-color);\n",
              "    border-color: transparent;\n",
              "    border-bottom-color: var(--fill-color);\n",
              "    animation:\n",
              "      spin 1s steps(1) infinite;\n",
              "  }\n",
              "\n",
              "  @keyframes spin {\n",
              "    0% {\n",
              "      border-color: transparent;\n",
              "      border-bottom-color: var(--fill-color);\n",
              "      border-left-color: var(--fill-color);\n",
              "    }\n",
              "    20% {\n",
              "      border-color: transparent;\n",
              "      border-left-color: var(--fill-color);\n",
              "      border-top-color: var(--fill-color);\n",
              "    }\n",
              "    30% {\n",
              "      border-color: transparent;\n",
              "      border-left-color: var(--fill-color);\n",
              "      border-top-color: var(--fill-color);\n",
              "      border-right-color: var(--fill-color);\n",
              "    }\n",
              "    40% {\n",
              "      border-color: transparent;\n",
              "      border-right-color: var(--fill-color);\n",
              "      border-top-color: var(--fill-color);\n",
              "    }\n",
              "    60% {\n",
              "      border-color: transparent;\n",
              "      border-right-color: var(--fill-color);\n",
              "    }\n",
              "    80% {\n",
              "      border-color: transparent;\n",
              "      border-right-color: var(--fill-color);\n",
              "      border-bottom-color: var(--fill-color);\n",
              "    }\n",
              "    90% {\n",
              "      border-color: transparent;\n",
              "      border-bottom-color: var(--fill-color);\n",
              "    }\n",
              "  }\n",
              "</style>\n",
              "\n",
              "  <script>\n",
              "    async function quickchart(key) {\n",
              "      const quickchartButtonEl =\n",
              "        document.querySelector('#' + key + ' button');\n",
              "      quickchartButtonEl.disabled = true;  // To prevent multiple clicks.\n",
              "      quickchartButtonEl.classList.add('colab-df-spinner');\n",
              "      try {\n",
              "        const charts = await google.colab.kernel.invokeFunction(\n",
              "            'suggestCharts', [key], {});\n",
              "      } catch (error) {\n",
              "        console.error('Error during call to suggestCharts:', error);\n",
              "      }\n",
              "      quickchartButtonEl.classList.remove('colab-df-spinner');\n",
              "      quickchartButtonEl.classList.add('colab-df-quickchart-complete');\n",
              "    }\n",
              "    (() => {\n",
              "      let quickchartButtonEl =\n",
              "        document.querySelector('#df-b8f05426-366d-476d-ae69-4326459ffe5f button');\n",
              "      quickchartButtonEl.style.display =\n",
              "        google.colab.kernel.accessAllowed ? 'block' : 'none';\n",
              "    })();\n",
              "  </script>\n",
              "</div>\n",
              "    </div>\n",
              "  </div>\n"
            ],
            "application/vnd.google.colaboratory.intrinsic+json": {
              "type": "dataframe"
            }
          },
          "metadata": {}
        }
      ],
      "source": [
        "# Read data\n",
        "data = pd.read_csv(\"sonar.csv\", header=None)\n",
        "X = data.iloc[:, 0:60]\n",
        "y = data.iloc[:, 60]\n",
        "\n",
        "display(data.head())"
      ]
    },
    {
      "cell_type": "code",
      "source": [
        "y.unique()"
      ],
      "metadata": {
        "colab": {
          "base_uri": "https://localhost:8080/"
        },
        "id": "XRgh4lCt1nV6",
        "outputId": "93f5ed59-8cc9-42f4-e58c-feab7ecff2a4"
      },
      "id": "XRgh4lCt1nV6",
      "execution_count": null,
      "outputs": [
        {
          "output_type": "execute_result",
          "data": {
            "text/plain": [
              "array(['R', 'M'], dtype=object)"
            ]
          },
          "metadata": {},
          "execution_count": 4
        }
      ]
    },
    {
      "cell_type": "code",
      "source": [
        "mapping = {'R': 1, 'M': 0}\n",
        "reverse_mapping = {1: 'R', 0: 'M'}"
      ],
      "metadata": {
        "id": "AkYx1uW8134D"
      },
      "id": "AkYx1uW8134D",
      "execution_count": null,
      "outputs": []
    },
    {
      "cell_type": "code",
      "execution_count": null,
      "id": "1761130b",
      "metadata": {
        "id": "1761130b"
      },
      "outputs": [],
      "source": [
        "# Label encode the target from string to integer\n",
        "encoder = LabelEncoder()\n",
        "encoder.fit(y)\n",
        "y = encoder.transform(y)\n",
        "\n",
        "# Convert to 2D PyTorch tensors\n",
        "X = torch.tensor(X.values, dtype=torch.float32)\n",
        "y = torch.tensor(y, dtype=torch.float32).reshape(-1, 1)"
      ]
    },
    {
      "cell_type": "markdown",
      "id": "c16e0803",
      "metadata": {
        "id": "c16e0803"
      },
      "source": [
        "#### Base model, no regulariations:"
      ]
    },
    {
      "cell_type": "code",
      "execution_count": null,
      "id": "168a459f",
      "metadata": {
        "id": "168a459f"
      },
      "outputs": [],
      "source": [
        "class BaseModel(nn.Module):\n",
        "    def __init__(self):\n",
        "        super().__init__()\n",
        "        self.layer1 = nn.Linear(60, 60)\n",
        "        self.act1 = nn.ReLU()\n",
        "        self.layer2 = nn.Linear(60, 30)\n",
        "        self.act2 = nn.ReLU()\n",
        "        self.output = nn.Linear(30, 1)\n",
        "        self.sigmoid = nn.Sigmoid()\n",
        "\n",
        "    def forward(self, x):\n",
        "        x = self.act1(self.layer1(x))\n",
        "        x = self.act2(self.layer2(x))\n",
        "        x = self.sigmoid(self.output(x))\n",
        "        return x"
      ]
    },
    {
      "cell_type": "code",
      "execution_count": null,
      "id": "dca14d13",
      "metadata": {
        "id": "dca14d13"
      },
      "outputs": [],
      "source": [
        "def model_train(model, X_train, y_train, X_val, y_val,\n",
        "                n_epochs=300, batch_size=16):\n",
        "    loss_fn = nn.BCELoss()\n",
        "    optimizer = optim.SGD(model.parameters(), lr=0.01, momentum=0.8)\n",
        "    batch_start = torch.arange(0, len(X_train), batch_size)\n",
        "\n",
        "    model.train()\n",
        "    for epoch in range(n_epochs):\n",
        "        for start in batch_start:\n",
        "            X_batch = X_train[start:start+batch_size]\n",
        "            y_batch = y_train[start:start+batch_size]\n",
        "            y_pred = model(X_batch)\n",
        "            loss = loss_fn(y_pred, y_batch)\n",
        "            optimizer.zero_grad()\n",
        "            loss.backward()\n",
        "            optimizer.step()\n",
        "\n",
        "    # evaluation\n",
        "    model.eval()\n",
        "    y_pred = model(X_val)\n",
        "    acc = (y_pred.round() == y_val).float().mean()\n",
        "    acc = float(acc)\n",
        "    return acc"
      ]
    },
    {
      "cell_type": "code",
      "execution_count": null,
      "id": "d12016d3",
      "metadata": {
        "colab": {
          "base_uri": "https://localhost:8080/"
        },
        "id": "d12016d3",
        "outputId": "7bf0558a-b1f4-486f-a3bf-814ca0edd8ef"
      },
      "outputs": [
        {
          "output_type": "stream",
          "name": "stdout",
          "text": [
            "Accuracy: 0.90\n",
            "Accuracy: 0.86\n",
            "Accuracy: 0.76\n",
            "Accuracy: 0.90\n",
            "Accuracy: 0.86\n",
            "Accuracy: 0.86\n",
            "Accuracy: 0.81\n",
            "Accuracy: 0.86\n",
            "Accuracy: 0.80\n",
            "Accuracy: 0.85\n",
            "Overal for baseline model: 84.60% (+/- 4.24%)\n"
          ]
        }
      ],
      "source": [
        "# run 10-fold cross validation\n",
        "kfold = StratifiedKFold(n_splits=10, shuffle=True)\n",
        "accuracies = []\n",
        "for train, test in kfold.split(X, y):\n",
        "    # create model, train, and get accuracy\n",
        "    model = BaseModel()\n",
        "    acc = model_train(model, X[train], y[train], X[test], y[test])\n",
        "    print(\"Accuracy: %.2f\" % acc)\n",
        "    accuracies.append(acc)\n",
        "\n",
        "# evaluate the model\n",
        "mean = np.mean(accuracies)\n",
        "std = np.std(accuracies)\n",
        "print(\"Overal for baseline model: %.2f%% (+/- %.2f%%)\" % (mean*100, std*100))"
      ]
    },
    {
      "cell_type": "markdown",
      "id": "9ec53cf2",
      "metadata": {
        "id": "9ec53cf2"
      },
      "source": [
        "#### Dropout"
      ]
    },
    {
      "cell_type": "code",
      "execution_count": null,
      "id": "bbaec452",
      "metadata": {
        "id": "bbaec452"
      },
      "outputs": [],
      "source": [
        "class SonarModel(nn.Module):\n",
        "    def __init__(self):\n",
        "        super().__init__()\n",
        "        self.dropout = nn.Dropout(0.2) ## Adding a dropout layer\n",
        "        self.layer1 = nn.Linear(60, 60)\n",
        "        self.act1 = nn.ReLU()\n",
        "        self.layer2 = nn.Linear(60, 30)\n",
        "        self.act2 = nn.ReLU()\n",
        "        self.output = nn.Linear(30, 1)\n",
        "        self.sigmoid = nn.Sigmoid()\n",
        "\n",
        "    def forward(self, x):\n",
        "        x = self.dropout(x)\n",
        "        x = self.act1(self.layer1(x))\n",
        "        x = self.act2(self.layer2(x))\n",
        "        x = self.sigmoid(self.output(x))\n",
        "        return x"
      ]
    },
    {
      "cell_type": "code",
      "execution_count": null,
      "id": "6bc0da52",
      "metadata": {
        "colab": {
          "base_uri": "https://localhost:8080/"
        },
        "id": "6bc0da52",
        "outputId": "357768b5-7087-435a-8813-22690d17443b"
      },
      "outputs": [
        {
          "output_type": "stream",
          "name": "stdout",
          "text": [
            "Accuracy: 0.86\n",
            "Accuracy: 0.71\n",
            "Accuracy: 0.81\n",
            "Accuracy: 0.86\n",
            "Accuracy: 0.81\n",
            "Accuracy: 0.86\n",
            "Accuracy: 0.71\n",
            "Accuracy: 0.86\n",
            "Accuracy: 0.65\n",
            "Accuracy: 0.90\n",
            "Overall for input-dropout: 80.26% (+/- 7.77%)\n"
          ]
        }
      ],
      "source": [
        "kfold = StratifiedKFold(n_splits=10, shuffle=True)\n",
        "accuracies = []\n",
        "for train, test in kfold.split(X, y):\n",
        "    # create model, train, and get accuracy\n",
        "    model = SonarModel()\n",
        "    acc = model_train(model, X[train], y[train], X[test], y[test])\n",
        "    print(\"Accuracy: %.2f\" % acc)\n",
        "    accuracies.append(acc)\n",
        "\n",
        "# evaluate the model\n",
        "mean = np.mean(accuracies)\n",
        "std = np.std(accuracies)\n",
        "print(\"Overall for input-dropout: %.2f%% (+/- %.2f%%)\" % (mean*100, std*100))"
      ]
    },
    {
      "cell_type": "code",
      "execution_count": null,
      "id": "bc1826c6",
      "metadata": {
        "id": "bc1826c6"
      },
      "outputs": [],
      "source": [
        "class SonarModel(nn.Module):\n",
        "    def __init__(self):\n",
        "        super().__init__()\n",
        "        self.layer1 = nn.Linear(60, 60)\n",
        "        self.act1 = nn.ReLU()\n",
        "        self.dropout1 = nn.Dropout(0.2)\n",
        "        self.layer2 = nn.Linear(60, 30)\n",
        "        self.act2 = nn.ReLU()\n",
        "        self.dropout2 = nn.Dropout(0.2)\n",
        "        self.output = nn.Linear(30, 1)\n",
        "        self.sigmoid = nn.Sigmoid()\n",
        "\n",
        "    def forward(self, x):\n",
        "        x = self.act1(self.layer1(x))\n",
        "        x = self.dropout1(x)\n",
        "        x = self.act2(self.layer2(x))\n",
        "        x = self.dropout2(x)\n",
        "        x = self.sigmoid(self.output(x))\n",
        "        return x"
      ]
    },
    {
      "cell_type": "code",
      "execution_count": null,
      "id": "cbe1dac3",
      "metadata": {
        "colab": {
          "base_uri": "https://localhost:8080/"
        },
        "id": "cbe1dac3",
        "outputId": "685ebc55-6a7b-4dd2-a44a-b3927b498f42"
      },
      "outputs": [
        {
          "output_type": "stream",
          "name": "stdout",
          "text": [
            "Accuracy: 0.86\n",
            "Accuracy: 0.76\n",
            "Accuracy: 0.81\n",
            "Accuracy: 0.81\n",
            "Accuracy: 0.90\n",
            "Accuracy: 0.86\n",
            "Accuracy: 0.90\n",
            "Accuracy: 0.90\n",
            "Accuracy: 0.90\n",
            "Accuracy: 0.80\n",
            "OVeral for hidden-dropout: 85.10% (+/- 5.01%)\n"
          ]
        }
      ],
      "source": [
        "kfold = StratifiedKFold(n_splits=10, shuffle=True)\n",
        "accuracies = []\n",
        "for train, test in kfold.split(X, y):\n",
        "    # create model, train, and get accuracy\n",
        "    model = SonarModel()\n",
        "    acc = model_train(model, X[train], y[train], X[test], y[test])\n",
        "    print(\"Accuracy: %.2f\" % acc)\n",
        "    accuracies.append(acc)\n",
        "\n",
        "# evaluate the model\n",
        "mean = np.mean(accuracies)\n",
        "std = np.std(accuracies)\n",
        "print(\"OVeral for hidden-dropout: %.2f%% (+/- %.2f%%)\" % (mean*100, std*100))"
      ]
    },
    {
      "cell_type": "markdown",
      "id": "d7a3b4f1",
      "metadata": {
        "id": "d7a3b4f1"
      },
      "source": [
        "### Bonus: Elastic Net"
      ]
    },
    {
      "cell_type": "markdown",
      "id": "b5c28788",
      "metadata": {
        "id": "b5c28788"
      },
      "source": [
        "$$\\lambda_{L1} \\times \\sum_f{ _{i=1}^{n}} | w_i | + \\lambda_{L2} \\times \\sum_f{ _{i=1}^{n}} w_i^2$$"
      ]
    },
    {
      "cell_type": "markdown",
      "id": "2b051b00",
      "metadata": {
        "id": "2b051b00"
      },
      "source": [
        "$$\\text{full_loss = original_loss + } \\lambda_{L1} \\times \\sum_f{ _{i=1}^{n}} | w_i | + \\lambda_{L2} \\times \\sum_f{ _{i=1}^{n}} w_i^2 $$"
      ]
    },
    {
      "cell_type": "code",
      "execution_count": null,
      "id": "7d375958",
      "metadata": {
        "id": "7d375958"
      },
      "outputs": [],
      "source": [
        "class MLP(nn.Module):\n",
        "    def __init__(self):\n",
        "        super().__init__()\n",
        "        self.layers = nn.Sequential(\n",
        "          nn.Flatten(),\n",
        "          nn.Linear(28 * 28 * 1, 64),\n",
        "          nn.ReLU(),\n",
        "          nn.Linear(64, 32),\n",
        "          nn.ReLU(),\n",
        "          nn.Linear(32, 10)\n",
        "        )\n",
        "\n",
        "\n",
        "    def forward(self, x):\n",
        "        return self.layers(x)\n",
        "\n",
        "    def compute_l1_loss(self, w):\n",
        "        return torch.abs(w).sum()\n",
        "\n",
        "    def compute_l2_loss(self, w):\n",
        "        return torch.square(w).sum()"
      ]
    },
    {
      "cell_type": "code",
      "execution_count": null,
      "id": "ca539a2b",
      "metadata": {
        "id": "ca539a2b"
      },
      "outputs": [],
      "source": [
        "torch.manual_seed(42)\n",
        "\n",
        "# Prepare CIFAR-10 dataset\n",
        "dataset = MNIST(os.getcwd(), download=True, transform=transforms.ToTensor())\n",
        "trainloader = torch.utils.data.DataLoader(dataset, batch_size=10, shuffle=True, num_workers=1)\n",
        "\n",
        "# Initialize the MLP\n",
        "mlp = MLP()\n",
        "\n",
        "# Define the loss function and optimizer\n",
        "loss_function = nn.CrossEntropyLoss()\n",
        "optimizer = torch.optim.Adam(mlp.parameters(), lr=1e-4)\n",
        "losses_elastic = []"
      ]
    },
    {
      "cell_type": "code",
      "execution_count": null,
      "id": "c1ffa2d3",
      "metadata": {
        "id": "c1ffa2d3",
        "outputId": "d3c284dc-0a44-4960-9ed9-981d002c2e0a"
      },
      "outputs": [
        {
          "name": "stdout",
          "output_type": "stream",
          "text": [
            "Starting epoch 1\n",
            "Loss after mini-batch   500: 24.79362 (of which 19.77028 L1 loss; 2.74106 L2 loss)\n",
            "Loss after mini-batch  1000: 7.52453 (of which 4.81060 L1 loss; 0.39591 L2 loss)\n",
            "Loss after mini-batch  1500: 3.03675 (of which 0.69903 L1 loss; 0.03131 L2 loss)\n",
            "Loss after mini-batch  2000: 2.48315 (of which 0.18056 L1 loss; 0.00001 L2 loss)\n",
            "Loss after mini-batch  2500: 2.48123 (of which 0.17864 L1 loss; 0.00001 L2 loss)\n",
            "Loss after mini-batch  3000: 2.48011 (of which 0.17751 L1 loss; 0.00001 L2 loss)\n",
            "Loss after mini-batch  3500: 2.48004 (of which 0.17745 L1 loss; 0.00001 L2 loss)\n",
            "Loss after mini-batch  4000: 2.47988 (of which 0.17730 L1 loss; 0.00001 L2 loss)\n",
            "Loss after mini-batch  4500: 2.47929 (of which 0.17670 L1 loss; 0.00001 L2 loss)\n",
            "Loss after mini-batch  5000: 2.47955 (of which 0.17696 L1 loss; 0.00001 L2 loss)\n",
            "Loss after mini-batch  5500: 2.48013 (of which 0.17754 L1 loss; 0.00001 L2 loss)\n",
            "Loss after mini-batch  6000: 2.48089 (of which 0.17830 L1 loss; 0.00001 L2 loss)\n",
            "Starting epoch 2\n",
            "Loss after mini-batch   500: 2.48157 (of which 0.17898 L1 loss; 0.00001 L2 loss)\n",
            "Loss after mini-batch  1000: 2.48118 (of which 0.17859 L1 loss; 0.00001 L2 loss)\n",
            "Loss after mini-batch  1500: 2.48204 (of which 0.17945 L1 loss; 0.00001 L2 loss)\n",
            "Loss after mini-batch  2000: 2.48260 (of which 0.18001 L1 loss; 0.00001 L2 loss)\n",
            "Loss after mini-batch  2500: 2.48210 (of which 0.17951 L1 loss; 0.00001 L2 loss)\n",
            "Loss after mini-batch  3000: 2.48365 (of which 0.18106 L1 loss; 0.00001 L2 loss)\n",
            "Loss after mini-batch  3500: 2.48438 (of which 0.18179 L1 loss; 0.00001 L2 loss)\n",
            "Loss after mini-batch  4000: 2.48519 (of which 0.18259 L1 loss; 0.00001 L2 loss)\n",
            "Loss after mini-batch  4500: 2.48685 (of which 0.18425 L1 loss; 0.00001 L2 loss)\n",
            "Loss after mini-batch  5000: 2.48849 (of which 0.18589 L1 loss; 0.00001 L2 loss)\n",
            "Loss after mini-batch  5500: 2.48777 (of which 0.18517 L1 loss; 0.00001 L2 loss)\n",
            "Loss after mini-batch  6000: 2.48826 (of which 0.18567 L1 loss; 0.00001 L2 loss)\n",
            "Starting epoch 3\n",
            "Loss after mini-batch   500: 2.48831 (of which 0.18572 L1 loss; 0.00001 L2 loss)\n",
            "Loss after mini-batch  1000: 2.48774 (of which 0.18516 L1 loss; 0.00001 L2 loss)\n",
            "Loss after mini-batch  1500: 2.48812 (of which 0.18553 L1 loss; 0.00001 L2 loss)\n",
            "Loss after mini-batch  2000: 2.48788 (of which 0.18529 L1 loss; 0.00001 L2 loss)\n",
            "Loss after mini-batch  2500: 2.48773 (of which 0.18515 L1 loss; 0.00001 L2 loss)\n",
            "Loss after mini-batch  3000: 2.48855 (of which 0.18596 L1 loss; 0.00001 L2 loss)\n",
            "Loss after mini-batch  3500: 2.48858 (of which 0.18599 L1 loss; 0.00001 L2 loss)\n",
            "Loss after mini-batch  4000: 2.48787 (of which 0.18528 L1 loss; 0.00001 L2 loss)\n",
            "Loss after mini-batch  4500: 2.48815 (of which 0.18556 L1 loss; 0.00001 L2 loss)\n",
            "Loss after mini-batch  5000: 2.48851 (of which 0.18593 L1 loss; 0.00001 L2 loss)\n",
            "Loss after mini-batch  5500: 2.48780 (of which 0.18522 L1 loss; 0.00001 L2 loss)\n",
            "Loss after mini-batch  6000: 2.48869 (of which 0.18610 L1 loss; 0.00001 L2 loss)\n",
            "Starting epoch 4\n",
            "Loss after mini-batch   500: 2.48838 (of which 0.18580 L1 loss; 0.00001 L2 loss)\n",
            "Loss after mini-batch  1000: 2.48777 (of which 0.18517 L1 loss; 0.00001 L2 loss)\n",
            "Loss after mini-batch  1500: 2.48834 (of which 0.18575 L1 loss; 0.00001 L2 loss)\n",
            "Loss after mini-batch  2000: 2.48867 (of which 0.18607 L1 loss; 0.00001 L2 loss)\n",
            "Loss after mini-batch  2500: 2.48791 (of which 0.18532 L1 loss; 0.00001 L2 loss)\n",
            "Loss after mini-batch  3000: 2.48808 (of which 0.18549 L1 loss; 0.00001 L2 loss)\n",
            "Loss after mini-batch  3500: 2.48881 (of which 0.18622 L1 loss; 0.00001 L2 loss)\n",
            "Loss after mini-batch  4000: 2.48824 (of which 0.18563 L1 loss; 0.00001 L2 loss)\n",
            "Loss after mini-batch  4500: 2.48859 (of which 0.18600 L1 loss; 0.00001 L2 loss)\n",
            "Loss after mini-batch  5000: 2.48807 (of which 0.18547 L1 loss; 0.00001 L2 loss)\n",
            "Loss after mini-batch  5500: 2.48757 (of which 0.18496 L1 loss; 0.00001 L2 loss)\n",
            "Loss after mini-batch  6000: 2.48828 (of which 0.18567 L1 loss; 0.00001 L2 loss)\n",
            "Starting epoch 5\n",
            "Loss after mini-batch   500: 2.48850 (of which 0.18591 L1 loss; 0.00001 L2 loss)\n",
            "Loss after mini-batch  1000: 2.48815 (of which 0.18556 L1 loss; 0.00001 L2 loss)\n",
            "Loss after mini-batch  1500: 2.48870 (of which 0.18612 L1 loss; 0.00001 L2 loss)\n",
            "Loss after mini-batch  2000: 2.48881 (of which 0.18622 L1 loss; 0.00001 L2 loss)\n",
            "Loss after mini-batch  2500: 2.48784 (of which 0.18525 L1 loss; 0.00001 L2 loss)\n",
            "Loss after mini-batch  3000: 2.48824 (of which 0.18564 L1 loss; 0.00001 L2 loss)\n",
            "Loss after mini-batch  3500: 2.48806 (of which 0.18547 L1 loss; 0.00001 L2 loss)\n",
            "Loss after mini-batch  4000: 2.48741 (of which 0.18482 L1 loss; 0.00001 L2 loss)\n",
            "Loss after mini-batch  4500: 2.48861 (of which 0.18602 L1 loss; 0.00001 L2 loss)\n",
            "Loss after mini-batch  5000: 2.48888 (of which 0.18629 L1 loss; 0.00001 L2 loss)\n",
            "Loss after mini-batch  5500: 2.48805 (of which 0.18546 L1 loss; 0.00001 L2 loss)\n",
            "Loss after mini-batch  6000: 2.48850 (of which 0.18590 L1 loss; 0.00001 L2 loss)\n",
            "Training process has finished.\n"
          ]
        }
      ],
      "source": [
        "for epoch in range(0, 5): # 5 epochs at maximum\n",
        "    train_loss = 0.00\n",
        "# Print epoch\n",
        "    print(f'Starting epoch {epoch+1}')\n",
        "\n",
        "# Iterate over the DataLoader for training data\n",
        "    for i, data in enumerate(trainloader, 0):\n",
        "\n",
        "        # Get inputs\n",
        "        inputs, targets = data\n",
        "\n",
        "        # Zero the gradients\n",
        "        optimizer.zero_grad()\n",
        "\n",
        "        # Perform forward pass\n",
        "        outputs = mlp(inputs)\n",
        "\n",
        "        # Compute loss\n",
        "        loss = loss_function(outputs, targets)\n",
        "\n",
        "        # Specify L1 and L2 weights\n",
        "        l1_weight = 0.3\n",
        "        l2_weight = 0.7\n",
        "\n",
        "        # Compute L1 and L2 loss component\n",
        "        parameters = []\n",
        "        for parameter in mlp.parameters():\n",
        "            parameters.append(parameter.view(-1))\n",
        "        l1 = l1_weight * mlp.compute_l1_loss(torch.cat(parameters))\n",
        "        l2 = l2_weight * mlp.compute_l2_loss(torch.cat(parameters))\n",
        "\n",
        "        # Add L1 and L2 loss components\n",
        "        loss += l1\n",
        "        loss += l2\n",
        "\n",
        "        # Perform backward pass\n",
        "        loss.backward()\n",
        "\n",
        "        # Perform optimization\n",
        "        optimizer.step()\n",
        "\n",
        "        # Print statistics\n",
        "        minibatch_loss = loss.item()\n",
        "        train_loss += minibatch_loss\n",
        "        losses_elastic.append(train_loss/(i+1))\n",
        "        if i % 500 == 499:\n",
        "            print('Loss after mini-batch %5d: %.5f (of which %.5f L1 loss; %0.5f L2 loss)' %\n",
        "                (i + 1, minibatch_loss, l1, l2))\n",
        "            current_loss = 0.0\n",
        "\n",
        "# Process is complete.\n",
        "print('Training process has finished.')"
      ]
    },
    {
      "cell_type": "code",
      "execution_count": null,
      "id": "5093c0f7",
      "metadata": {
        "id": "5093c0f7",
        "outputId": "3aac6a3c-f6ac-439a-a570-d8c68c525604"
      },
      "outputs": [
        {
          "data": {
            "text/plain": [
              "<matplotlib.legend.Legend at 0x7f82ab483c10>"
            ]
          },
          "execution_count": 52,
          "metadata": {},
          "output_type": "execute_result"
        },
        {
          "data": {
            "image/png": "[encoded data removed]",
            "text/plain": [
              "<Figure size 1200x800 with 1 Axes>"
            ]
          },
          "metadata": {},
          "output_type": "display_data"
        }
      ],
      "source": [
        "fig, ax = plt.subplots(figsize=(12,8))\n",
        "#losses_batchnorm = np.array(losses_batchnorm)\n",
        "# #losses_no_norm = np.array(losses_no_norm)\n",
        "# plt.plot(losses_l1, label='L1', alpha=0.5)\n",
        "# plt.plot(losses_l2, label='L2', alpha=0.5)\n",
        "plt.plot(losses_elastic, label='Elastic', alpha=0.5)\n",
        "plt.title(\"Training Losses\")\n",
        "plt.legend()"
      ]
    },
    {
      "cell_type": "markdown",
      "id": "52081113",
      "metadata": {
        "id": "52081113"
      },
      "source": [
        "### Batch Norm"
      ]
    },
    {
      "cell_type": "code",
      "execution_count": null,
      "id": "c5a4458b",
      "metadata": {
        "id": "c5a4458b"
      },
      "outputs": [],
      "source": [
        "# number of subprocesses to use for data loading\n",
        "num_workers = 0\n",
        "# how many samples per batch to load\n",
        "batch_size = 64\n",
        "\n",
        "# convert data to torch.FloatTensor\n",
        "transform = transforms.ToTensor()\n",
        "\n",
        "# get the training and test datasets\n",
        "train_data = MNIST(root='data', train=True,\n",
        "                            download=True, transform=transform)\n",
        "\n",
        "test_data = MNIST(root='data', train=False,\n",
        "                           download=True, transform=transform)\n",
        "\n",
        "# prepare data loaders\n",
        "train_loader = torch.utils.data.DataLoader(train_data, batch_size=batch_size,\n",
        "                                           num_workers=num_workers)\n",
        "\n",
        "test_loader = torch.utils.data.DataLoader(test_data, batch_size=batch_size,\n",
        "                                          num_workers=num_workers)"
      ]
    },
    {
      "cell_type": "code",
      "execution_count": null,
      "id": "08af0058",
      "metadata": {
        "id": "08af0058"
      },
      "outputs": [],
      "source": [
        "import torch.nn.functional as F\n",
        "\n",
        "class NeuralNet(nn.Module):\n",
        "    def __init__(self, use_batch_norm, input_size=784, hidden_dim=256, output_size=10):\n",
        "        \"\"\"\n",
        "        Creates a PyTorch net using the given parameters.\n",
        "\n",
        "        :param use_batch_norm: bool\n",
        "            Pass True to create a network that uses batch normalization; False otherwise\n",
        "            Note: this network will not use batch normalization on layers that do not have an\n",
        "            activation function.\n",
        "        \"\"\"\n",
        "        super(NeuralNet, self).__init__() # init super\n",
        "\n",
        "        # Default layer sizes\n",
        "        self.input_size = input_size # (28*28 images)\n",
        "        self.hidden_dim = hidden_dim\n",
        "        self.output_size = output_size # (number of classes)\n",
        "        # Keep track of whether or not this network uses batch normalization.\n",
        "        self.use_batch_norm = use_batch_norm\n",
        "\n",
        "        # define hidden linear layers, with optional batch norm on their outputs\n",
        "        # layers with batch_norm applied have no bias term\n",
        "        if use_batch_norm:\n",
        "            self.fc1 = nn.Linear(input_size, hidden_dim*2, bias=False)\n",
        "            self.batch_norm1 = nn.BatchNorm1d(hidden_dim*2)\n",
        "        else:\n",
        "            self.fc1 = nn.Linear(input_size, hidden_dim*2)\n",
        "\n",
        "        # define *second* hidden linear layers, with optional batch norm on their outputs\n",
        "        if use_batch_norm:\n",
        "            self.fc2 = nn.Linear(hidden_dim*2, hidden_dim, bias=False)\n",
        "            self.batch_norm2 = nn.BatchNorm1d(hidden_dim)\n",
        "        else:\n",
        "            self.fc2 = nn.Linear(hidden_dim*2, hidden_dim)\n",
        "\n",
        "        # third and final, fully-connected layer\n",
        "        self.fc3 = nn.Linear(hidden_dim, output_size)\n",
        "\n",
        "\n",
        "    def forward(self, x):\n",
        "        # flatten image\n",
        "        x = x.view(-1, 28*28)\n",
        "        # all hidden layers + optional batch norm + relu activation\n",
        "        x = self.fc1(x)\n",
        "        if self.use_batch_norm:\n",
        "            x = self.batch_norm1(x)\n",
        "        x = F.relu(x)\n",
        "        # second layer\n",
        "        x = self.fc2(x)\n",
        "        if self.use_batch_norm:\n",
        "            x = self.batch_norm2(x)\n",
        "        x = F.relu(x)\n",
        "        # third layer, no batch norm or activation\n",
        "        x = self.fc3(x)\n",
        "        return x\n"
      ]
    },
    {
      "cell_type": "code",
      "execution_count": null,
      "id": "f0326917",
      "metadata": {
        "colab": {
          "base_uri": "https://localhost:8080/"
        },
        "id": "f0326917",
        "outputId": "90581171-1672-4c89-d492-dd95c3827862"
      },
      "outputs": [
        {
          "output_type": "stream",
          "name": "stdout",
          "text": [
            "NeuralNet(\n",
            "  (fc1): Linear(in_features=784, out_features=512, bias=False)\n",
            "  (batch_norm1): BatchNorm1d(512, eps=1e-05, momentum=0.1, affine=True, track_running_stats=True)\n",
            "  (fc2): Linear(in_features=512, out_features=256, bias=False)\n",
            "  (batch_norm2): BatchNorm1d(256, eps=1e-05, momentum=0.1, affine=True, track_running_stats=True)\n",
            "  (fc3): Linear(in_features=256, out_features=10, bias=True)\n",
            ")\n",
            "\n",
            "NeuralNet(\n",
            "  (fc1): Linear(in_features=784, out_features=512, bias=True)\n",
            "  (fc2): Linear(in_features=512, out_features=256, bias=True)\n",
            "  (fc3): Linear(in_features=256, out_features=10, bias=True)\n",
            ")\n"
          ]
        }
      ],
      "source": [
        "net_batchnorm = NeuralNet(use_batch_norm=True)\n",
        "net_no_norm = NeuralNet(use_batch_norm=False)\n",
        "\n",
        "print(net_batchnorm)\n",
        "print()\n",
        "print(net_no_norm)"
      ]
    },
    {
      "cell_type": "code",
      "execution_count": null,
      "id": "397dea5b",
      "metadata": {
        "id": "397dea5b"
      },
      "outputs": [],
      "source": [
        "def train(model, n_epochs=10):\n",
        "    # number of epochs to train the model\n",
        "    # track losses\n",
        "    losses = []\n",
        "\n",
        "    # optimization strategy\n",
        "    # specify loss function (categorical cross-entropy)\n",
        "    criterion = nn.CrossEntropyLoss()\n",
        "\n",
        "    # specify optimizer (stochastic gradient descent) and learning rate = 0.01\n",
        "    optimizer = torch.optim.SGD(model.parameters(), lr=0.01)\n",
        "\n",
        "    # set the model to training mode\n",
        "    model.train()\n",
        "\n",
        "    for epoch in range(1, n_epochs+1):\n",
        "        # monitor training loss\n",
        "        train_loss = 0.0\n",
        "\n",
        "        ###################\n",
        "        # train the model #\n",
        "        ###################\n",
        "        batch_count = 0\n",
        "        for batch_idx, (data, target) in enumerate(train_loader):\n",
        "            # clear the gradients of all optimized variables\n",
        "            optimizer.zero_grad()\n",
        "            # forward pass: compute predicted outputs by passing inputs to the model\n",
        "            output = model(data)\n",
        "            # calculate the loss\n",
        "            loss = criterion(output, target)\n",
        "            # backward pass: compute gradient of the loss with respect to model parameters\n",
        "            loss.backward()\n",
        "            # perform a single optimization step (parameter update)\n",
        "            optimizer.step()\n",
        "            # update average training loss\n",
        "            train_loss += loss.item() # add up avg batch loss\n",
        "            batch_count +=1\n",
        "\n",
        "        # print training statistics\n",
        "        losses.append(train_loss/batch_count)\n",
        "        print('Epoch: {} \\tTraining Loss: {:.6f}'.format(\n",
        "            epoch,\n",
        "            train_loss/batch_count))\n",
        "\n",
        "    # return all recorded batch losses\n",
        "    return losses"
      ]
    },
    {
      "cell_type": "code",
      "execution_count": null,
      "id": "510e3cad",
      "metadata": {
        "colab": {
          "base_uri": "https://localhost:8080/"
        },
        "id": "510e3cad",
        "outputId": "a0765a36-0afe-4390-e69a-6450a93e2e28"
      },
      "outputs": [
        {
          "output_type": "stream",
          "name": "stdout",
          "text": [
            "Epoch: 1 \tTraining Loss: 0.389766\n",
            "Epoch: 2 \tTraining Loss: 0.162506\n",
            "Epoch: 3 \tTraining Loss: 0.112603\n",
            "Epoch: 4 \tTraining Loss: 0.083827\n",
            "Epoch: 5 \tTraining Loss: 0.064227\n",
            "Epoch: 6 \tTraining Loss: 0.049900\n",
            "Epoch: 7 \tTraining Loss: 0.039057\n",
            "Epoch: 8 \tTraining Loss: 0.030714\n",
            "Epoch: 9 \tTraining Loss: 0.024341\n",
            "Epoch: 10 \tTraining Loss: 0.019471\n"
          ]
        }
      ],
      "source": [
        "losses_batchnorm = train(net_batchnorm)"
      ]
    },
    {
      "cell_type": "code",
      "execution_count": null,
      "id": "958c9170",
      "metadata": {
        "colab": {
          "base_uri": "https://localhost:8080/"
        },
        "id": "958c9170",
        "outputId": "58a4a4fe-fa03-4cb5-99ca-4636237a3a29"
      },
      "outputs": [
        {
          "output_type": "stream",
          "name": "stdout",
          "text": [
            "Epoch: 1 \tTraining Loss: 1.594290\n",
            "Epoch: 2 \tTraining Loss: 0.511247\n",
            "Epoch: 3 \tTraining Loss: 0.377730\n",
            "Epoch: 4 \tTraining Loss: 0.329748\n",
            "Epoch: 5 \tTraining Loss: 0.300168\n",
            "Epoch: 6 \tTraining Loss: 0.277601\n",
            "Epoch: 7 \tTraining Loss: 0.258614\n",
            "Epoch: 8 \tTraining Loss: 0.241862\n",
            "Epoch: 9 \tTraining Loss: 0.226716\n",
            "Epoch: 10 \tTraining Loss: 0.212936\n"
          ]
        }
      ],
      "source": [
        "losses_no_norm = train(net_no_norm)"
      ]
    },
    {
      "cell_type": "code",
      "execution_count": null,
      "id": "17c5a534",
      "metadata": {
        "colab": {
          "base_uri": "https://localhost:8080/",
          "height": 616
        },
        "id": "17c5a534",
        "outputId": "7fa6a5ac-35a1-4e94-f9b0-2b62da0b08f4"
      },
      "outputs": [
        {
          "output_type": "execute_result",
          "data": {
            "text/plain": [
              "<matplotlib.legend.Legend at 0x799fedea8450>"
            ]
          },
          "metadata": {},
          "execution_count": 31
        },
        {
          "output_type": "display_data",
          "data": {
            "text/plain": [
              "<Figure size 1200x800 with 1 Axes>"
            ],
            "image/png": "[encoded data removed]"
          },
          "metadata": {}
        }
      ],
      "source": [
        "# compare\n",
        "fig, ax = plt.subplots(figsize=(12,8))\n",
        "#losses_batchnorm = np.array(losses_batchnorm)\n",
        "#losses_no_norm = np.array(losses_no_norm)\n",
        "plt.plot(losses_batchnorm, label='Using batchnorm', alpha=0.5)\n",
        "plt.plot(losses_no_norm, label='No norm', alpha=0.5)\n",
        "plt.title(\"Training Losses\")\n",
        "plt.legend()"
      ]
    },
    {
      "cell_type": "code",
      "execution_count": null,
      "id": "7aa0631b",
      "metadata": {
        "id": "7aa0631b"
      },
      "outputs": [],
      "source": [
        "def test(model, train):\n",
        "    # initialize vars to monitor test loss and accuracy\n",
        "    class_correct = list(0. for i in range(10))\n",
        "    class_total = list(0. for i in range(10))\n",
        "    test_loss = 0.0\n",
        "\n",
        "    # set model to train or evaluation mode\n",
        "    # just to see the difference in behavior\n",
        "    if(train==True):\n",
        "        model.train()\n",
        "    if(train==False):\n",
        "        model.eval()\n",
        "\n",
        "    # loss criterion\n",
        "    criterion = nn.CrossEntropyLoss()\n",
        "\n",
        "    for batch_idx, (data, target) in enumerate(test_loader):\n",
        "        batch_size = data.size(0)\n",
        "        # forward pass: compute predicted outputs by passing inputs to the model\n",
        "        output = model(data)\n",
        "        # calculate the loss\n",
        "        loss = criterion(output, target)\n",
        "        # update average test loss\n",
        "        test_loss += loss.item()*batch_size\n",
        "        # convert output probabilities to predicted class\n",
        "        _, pred = torch.max(output, 1)\n",
        "        # compare predictions to true label\n",
        "        correct = np.squeeze(pred.eq(target.data.view_as(pred)))\n",
        "        # calculate test accuracy for each object class\n",
        "        for i in range(batch_size):\n",
        "            label = target.data[i]\n",
        "            class_correct[label] += correct[i].item()\n",
        "            class_total[label] += 1\n",
        "\n",
        "    print('Test Loss: {:.6f}\\n'.format(test_loss/len(test_loader.dataset)))\n",
        "\n",
        "    for i in range(10):\n",
        "        if class_total[i] > 0:\n",
        "            print('Test Accuracy of %5s: %2d%% (%2d/%2d)' % (\n",
        "                str(i), 100 * class_correct[i] / class_total[i],\n",
        "                np.sum(class_correct[i]), np.sum(class_total[i])))\n",
        "        else:\n",
        "            print('Test Accuracy of %5s: N/A (no training examples)' % (classes[i]))\n",
        "\n",
        "    print('\\nTest Accuracy (Overall): %2d%% (%2d/%2d)' % (\n",
        "        100. * np.sum(class_correct) / np.sum(class_total),\n",
        "        np.sum(class_correct), np.sum(class_total)))"
      ]
    },
    {
      "cell_type": "code",
      "execution_count": null,
      "id": "9195b878",
      "metadata": {
        "colab": {
          "base_uri": "https://localhost:8080/"
        },
        "id": "9195b878",
        "outputId": "38978722-8fa1-495d-ae5c-087d861a8eef"
      },
      "outputs": [
        {
          "output_type": "stream",
          "name": "stdout",
          "text": [
            "Test Loss: 0.080586\n",
            "\n",
            "Test Accuracy of     0: 98% (970/980)\n",
            "Test Accuracy of     1: 99% (1126/1135)\n",
            "Test Accuracy of     2: 96% (996/1032)\n",
            "Test Accuracy of     3: 97% (983/1010)\n",
            "Test Accuracy of     4: 96% (951/982)\n",
            "Test Accuracy of     5: 97% (872/892)\n",
            "Test Accuracy of     6: 97% (933/958)\n",
            "Test Accuracy of     7: 96% (996/1028)\n",
            "Test Accuracy of     8: 96% (939/974)\n",
            "Test Accuracy of     9: 95% (966/1009)\n",
            "\n",
            "Test Accuracy (Overall): 97% (9732/10000)\n"
          ]
        }
      ],
      "source": [
        "test(net_batchnorm, train=True)"
      ]
    },
    {
      "cell_type": "code",
      "execution_count": null,
      "id": "ff142566",
      "metadata": {
        "colab": {
          "base_uri": "https://localhost:8080/"
        },
        "id": "ff142566",
        "outputId": "35855a53-9cf5-4593-cd34-4d681e0e8db2"
      },
      "outputs": [
        {
          "output_type": "stream",
          "name": "stdout",
          "text": [
            "Test Loss: 0.071064\n",
            "\n",
            "Test Accuracy of     0: 99% (971/980)\n",
            "Test Accuracy of     1: 99% (1125/1135)\n",
            "Test Accuracy of     2: 97% (1006/1032)\n",
            "Test Accuracy of     3: 97% (987/1010)\n",
            "Test Accuracy of     4: 97% (957/982)\n",
            "Test Accuracy of     5: 98% (875/892)\n",
            "Test Accuracy of     6: 97% (938/958)\n",
            "Test Accuracy of     7: 96% (991/1028)\n",
            "Test Accuracy of     8: 96% (941/974)\n",
            "Test Accuracy of     9: 97% (986/1009)\n",
            "\n",
            "Test Accuracy (Overall): 97% (9777/10000)\n"
          ]
        }
      ],
      "source": [
        "test(net_batchnorm, train=False)"
      ]
    },
    {
      "cell_type": "code",
      "execution_count": null,
      "id": "2d813f65",
      "metadata": {
        "colab": {
          "base_uri": "https://localhost:8080/"
        },
        "id": "2d813f65",
        "outputId": "4dfec8ca-f075-4522-e687-18157c36fdac"
      },
      "outputs": [
        {
          "output_type": "stream",
          "name": "stdout",
          "text": [
            "Test Loss: 0.204438\n",
            "\n",
            "Test Accuracy of     0: 98% (967/980)\n",
            "Test Accuracy of     1: 98% (1113/1135)\n",
            "Test Accuracy of     2: 91% (946/1032)\n",
            "Test Accuracy of     3: 92% (939/1010)\n",
            "Test Accuracy of     4: 93% (916/982)\n",
            "Test Accuracy of     5: 92% (823/892)\n",
            "Test Accuracy of     6: 94% (910/958)\n",
            "Test Accuracy of     7: 93% (959/1028)\n",
            "Test Accuracy of     8: 91% (891/974)\n",
            "Test Accuracy of     9: 93% (944/1009)\n",
            "\n",
            "Test Accuracy (Overall): 94% (9408/10000)\n"
          ]
        }
      ],
      "source": [
        "test(net_no_norm, train=False)"
      ]
    }
  ],
  "metadata": {
    "kernelspec": {
      "display_name": "Python 3 (ipykernel)",
      "language": "python",
      "name": "python3"
    },
    "language_info": {
      "codemirror_mode": {
        "name": "ipython",
        "version": 3
      },
      "file_extension": ".py",
      "mimetype": "text/x-python",
      "name": "python",
      "nbconvert_exporter": "python",
      "pygments_lexer": "ipython3",
      "version": "3.11.3"
    },
    "colab": {
      "provenance": []
    }
  },
  "nbformat": 4,
  "nbformat_minor": 5
}