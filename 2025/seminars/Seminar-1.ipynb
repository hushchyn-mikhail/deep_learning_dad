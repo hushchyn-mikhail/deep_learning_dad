{
  "cells": [
    {
      "cell_type": "markdown",
      "metadata": {
        "id": "s347J0P3qaEY"
      },
      "source": [
        "# Семинар 1"
      ]
    },
    {
      "cell_type": "markdown",
      "metadata": {
        "id": "DiD7DvSWqaEZ"
      },
      "source": [
        "## План ноутбука\n",
        "\n",
        "1. Установка `PyTorch`\n",
        "1. Введение в `PyTorch`"
      ]
    },
    {
      "cell_type": "markdown",
      "metadata": {
        "id": "AK_AgfIPqaEZ"
      },
      "source": [
        "## Установка `PyTorch`"
      ]
    },
    {
      "cell_type": "markdown",
      "metadata": {
        "id": "HsXUoXJrqaEZ"
      },
      "source": [
        "Мы будем использовать библиотеку для глубинного обучения `PyTorch`, ее можно не устанавливать, можно пользоваться сайтами [Kaggle](kaggle.com) и [Google Colab](colab.research.google.com/) для обучения в облаке.\n",
        "\n",
        "Чтобы установить `PyTorch` локально себе на компьютер нужно ответить на два вопроса - какая у вас операционная система и есть ли у вас дискретная видеокарта (GPU) и если есть, то какого производителя. В зависимости от ваших ответов мы получаем три варианта по операционной системе - Linux, Mac и Windows; три варианта по дискретной видеокарте - нет видеокарты (доступен только центральный процессор CPU), есть видеокарта от Nvidia или есть видеокарта от AMD (это производитель именно чипа, конечный вендор может быть другой, например, ASUS, MSI, Palit). Работа с PyTorch с видеокартой от AMD это экзотика, которая выходит за рамки нашего курса, поэтому рассмотрим только варианты *нет видеокарты*/*есть видеокарта от Nvidia*.\n",
        "\n",
        "\n",
        "Выберите на [сайте](https://pytorch.org/get-started/locally/) подходящие вам варианты операционной системы/видеокарты и скопируйте команду для установки. Разберем подробно самые популярные варианты установки:"
      ]
    },
    {
      "cell_type": "markdown",
      "metadata": {
        "id": "3ORzw6kWqaEZ"
      },
      "source": [
        "### Установка в Linux ([поддерживаемые дистрибутивы](https://pytorch.org/get-started/locally/#supported-linux-distributions))\n",
        "\n",
        "На линуксе будет работать поддержка `PyTorch` в любой конфигурации, что у вас нет видеокарты, что есть от Nvidia, что от AMD.\n",
        "\n",
        "Пререквизит для работы с видеокартой от Nvidia - нужно поставить CUDA, это инструмент от компании Nvidia, который позволяет ускорять вычисления на их же ГПУ. Чтобы поставить себе на машину все правильно воспользуйтесь этим [гайдом](https://docs.nvidia.com/cuda/cuda-installation-guide-linux/index.html) от Nvidia.\n",
        "\n",
        " - **pip**\n",
        "\n",
        "`pip3 install torch torchvision torchaudio --extra-index-url https://download.pytorch.org/whl/cpu` для тех, у кого нет видеокарты.\n",
        "\n",
        "`pip3 install torch torchvision torchaudio --extra-index-url https://download.pytorch.org/whl/cu118` для тех, у кого есть видеокарта (либо другой `--extra-index-url`, смотрите на сайте PyTorch, в зависимости от версии CUDA).\n",
        "\n",
        " - **conda**\n",
        "\n",
        "`conda install pytorch torchvision torchaudio cpuonly -c pytorch` для тех, у кого нет видеокарты.\n",
        "\n",
        "`conda install pytorch torchvision torchaudio cudatoolkit=11.8 -c pytorch -c conda-forge` для тех, у кого есть видеокарта (либо немного другая команда, в зависимости от версии CUDA)."
      ]
    },
    {
      "cell_type": "markdown",
      "metadata": {
        "id": "bnDCpGkPqaEZ"
      },
      "source": [
        "### Установка в Windows\n",
        "\n",
        "На винде будет работать поддержка `PyTorch` только для видеокарт от Nvidia и без видеокарт вообще.\n",
        "\n",
        "Пререквизит для работы с видеокартой от Nvidia - нужно поставить CUDA, это инструмент от компании Nvidia, который позволяет ускорять вычисления на их же ГПУ. Чтобы поставить себе на машину все правильно воспользуйтесь этим [гайдом](https://docs.nvidia.com/cuda/cuda-installation-guide-microsoft-windows/index.html) от Nvidia.\n",
        "\n",
        " - **pip**\n",
        "\n",
        "`pip3 install torch torchvision torchaudio --extra-index-url https://download.pytorch.org/whl/cpu` для тех, у кого нет видеокарты.\n",
        "\n",
        "`pip3 install torch torchvision torchaudio --extra-index-url https://download.pytorch.org/whl/cu118` для тех, у кого есть видеокарта (либо другой `--extra-index-url`, смотрите на сайте PyTorch, в зависимости от версии CUDA).\n",
        "\n",
        " - **conda**\n",
        "\n",
        "`conda install pytorch torchvision torchaudio cpuonly -c pytorch` для тех, у кого нет видеокарты.\n",
        "\n",
        "`conda install pytorch torchvision torchaudio cudatoolkit=11.8 -c pytorch -c conda-forge` для тех, у кого есть видеокарта (либо немного другая команда, в зависимости от версии CUDA).\n",
        "\n"
      ]
    },
    {
      "cell_type": "markdown",
      "metadata": {
        "id": "c3VbJjqkqaEZ"
      },
      "source": [
        "### Установка на Mac\n",
        "\n",
        "На маках есть поддержка `PyTorch` как на CPU, так и на GPU, но только для Apple Silicon, то есть на чипах M1, M2 и так далее.\n",
        "\n",
        "При этом поддержка ускорения с помощью GPU есть только для версий макоси выше 12.3: MPS acceleration is available on MacOS 12.3+\n",
        "\n",
        " - **pip**\n",
        "\n",
        "`pip3 install torch torchvision torchaudio`\n",
        "\n",
        " - **conda**\n",
        "\n",
        "`conda install pytorch::pytorch torchvision torchaudio -c pytorch`"
      ]
    },
    {
      "cell_type": "markdown",
      "metadata": {
        "id": "yb8O9IrPqaEZ"
      },
      "source": [
        "##  IDE vs Jupyter"
      ]
    },
    {
      "cell_type": "markdown",
      "metadata": {
        "id": "HEKK9c4eqaEZ"
      },
      "source": [
        "Использовать можно как юпитер тетрадки, так и IDE для написания кода.\n",
        "\n",
        "Важно понимать, что при использвании тетрадок может нарушаться логика кода. Всегда проверяйте, что тетрадка исполняется от начала и до конца, выдавая тот же результат.\n",
        "\n",
        "Мой выбор для повседневной работы - IDE со скриптами. Лучше разделять код для описания моделей и обучения на разные файлы.\n",
        "\n",
        "В качестве IDE я рекомендую PyCharm."
      ]
    },
    {
      "cell_type": "markdown",
      "metadata": {
        "id": "3vKl8UQaqaEa"
      },
      "source": [
        "## PyTorch и тензоры"
      ]
    },
    {
      "cell_type": "markdown",
      "metadata": {
        "id": "0gY14CisqaEa"
      },
      "source": [
        "Тензор с размерностью 1 - это просто вектор, список чисел.\n",
        "\n",
        "Тензор с размерностью 2 - это просто матрица, то есть список списков чисел.\n",
        "\n",
        "Тензор с размерностью 3 и больше - это тензор, то есть список списков списков ... чисел.\n",
        "\n",
        "![](misc/meme.png)"
      ]
    },
    {
      "cell_type": "markdown",
      "metadata": {
        "id": "GG4ki4S8qaEa"
      },
      "source": [
        "## Torch"
      ]
    },
    {
      "cell_type": "code",
      "execution_count": null,
      "metadata": {
        "id": "RSScA1hXqaEa"
      },
      "outputs": [],
      "source": [
        "import torch  # <Ctrl> / <Shift> + <Return>"
      ]
    },
    {
      "cell_type": "markdown",
      "metadata": {
        "id": "2SzGnPAYqaEa"
      },
      "source": [
        "## Getting help in Jupyter"
      ]
    },
    {
      "cell_type": "code",
      "execution_count": null,
      "metadata": {
        "id": "U33VaZpLqaEa",
        "outputId": "9c133f31-def1-433d-e37e-2a2203a655d0",
        "colab": {
          "base_uri": "https://localhost:8080/",
          "height": 269
        }
      },
      "outputs": [
        {
          "output_type": "error",
          "ename": "AttributeError",
          "evalue": "module 'torch' has no attribute 'sq'",
          "traceback": [
            "\u001b[0;31m---------------------------------------------------------------------------\u001b[0m",
            "\u001b[0;31mAttributeError\u001b[0m                            Traceback (most recent call last)",
            "\u001b[0;32m<ipython-input-2-eef6cd7355b7>\u001b[0m in \u001b[0;36m<cell line: 0>\u001b[0;34m()\u001b[0m\n\u001b[0;32m----> 1\u001b[0;31m \u001b[0mtorch\u001b[0m\u001b[0;34m.\u001b[0m\u001b[0msq\u001b[0m  \u001b[0;31m# <Tab>\u001b[0m\u001b[0;34m\u001b[0m\u001b[0;34m\u001b[0m\u001b[0m\n\u001b[0m",
            "\u001b[0;32m/usr/local/lib/python3.11/dist-packages/torch/__init__.py\u001b[0m in \u001b[0;36m__getattr__\u001b[0;34m(name)\u001b[0m\n\u001b[1;32m   2560\u001b[0m             \u001b[0;32mreturn\u001b[0m \u001b[0mimportlib\u001b[0m\u001b[0;34m.\u001b[0m\u001b[0mimport_module\u001b[0m\u001b[0;34m(\u001b[0m\u001b[0;34mf\".{name}\"\u001b[0m\u001b[0;34m,\u001b[0m \u001b[0m__name__\u001b[0m\u001b[0;34m)\u001b[0m\u001b[0;34m\u001b[0m\u001b[0;34m\u001b[0m\u001b[0m\n\u001b[1;32m   2561\u001b[0m \u001b[0;34m\u001b[0m\u001b[0m\n\u001b[0;32m-> 2562\u001b[0;31m         \u001b[0;32mraise\u001b[0m \u001b[0mAttributeError\u001b[0m\u001b[0;34m(\u001b[0m\u001b[0;34mf\"module '{__name__}' has no attribute '{name}'\"\u001b[0m\u001b[0;34m)\u001b[0m\u001b[0;34m\u001b[0m\u001b[0;34m\u001b[0m\u001b[0m\n\u001b[0m\u001b[1;32m   2563\u001b[0m \u001b[0;34m\u001b[0m\u001b[0m\n\u001b[1;32m   2564\u001b[0m \u001b[0;34m\u001b[0m\u001b[0m\n",
            "\u001b[0;31mAttributeError\u001b[0m: module 'torch' has no attribute 'sq'"
          ]
        }
      ],
      "source": [
        "torch.sq  # <Tab>"
      ]
    },
    {
      "cell_type": "code",
      "execution_count": null,
      "metadata": {
        "id": "h8wmxD4zqaEb"
      },
      "outputs": [],
      "source": [
        "# What about all `*Tensor`s?\n",
        "# Press <esc> to get out of help\n",
        "torch.*Tensor?"
      ]
    },
    {
      "cell_type": "code",
      "execution_count": null,
      "metadata": {
        "id": "wLyv5MuiqaEb"
      },
      "outputs": [],
      "source": [
        "# Annotate your functions / classes!\n",
        "torch.nn.Module?"
      ]
    },
    {
      "cell_type": "code",
      "execution_count": null,
      "metadata": {
        "id": "4EcygBWwqaEb"
      },
      "outputs": [],
      "source": [
        "torch.nn.Module??"
      ]
    },
    {
      "cell_type": "markdown",
      "metadata": {
        "id": "W97_YV3EqaEb"
      },
      "source": [
        "## Dropping to Bash: magic!"
      ]
    },
    {
      "cell_type": "code",
      "execution_count": null,
      "metadata": {
        "scrolled": true,
        "id": "D-tQQUzVqaEb"
      },
      "outputs": [],
      "source": [
        "# List all the files in the current directory\n",
        "!ls -lh"
      ]
    },
    {
      "cell_type": "code",
      "execution_count": null,
      "metadata": {
        "id": "SrpKEQ5hqaEb"
      },
      "outputs": [],
      "source": [
        "%%bash\n",
        "# List all the files but with cleaner outputs for readability\n",
        "for f in $(ls *.*); do\n",
        "    echo $(wc -l $f)\n",
        "done"
      ]
    },
    {
      "cell_type": "code",
      "execution_count": null,
      "metadata": {
        "id": "BVR7tiTZqaEb"
      },
      "outputs": [],
      "source": [
        "# Getting some general help\n",
        "%magic"
      ]
    },
    {
      "cell_type": "code",
      "source": [
        "%%timeit\n",
        "for i in range(1000):\n",
        "  pass\n",
        "print('test')"
      ],
      "metadata": {
        "id": "PChKZQxOxTOD"
      },
      "execution_count": null,
      "outputs": []
    },
    {
      "cell_type": "markdown",
      "metadata": {
        "id": "bdc7YT6aqaEb"
      },
      "source": [
        "## Torch!"
      ]
    },
    {
      "cell_type": "markdown",
      "source": [
        "Для воспроизводимости результатов необходимо фиксировать случайный сид. Таким образом, у вас *почти* всегда будут получатся одинаковые результаты при одинаковых входных данных"
      ],
      "metadata": {
        "id": "4-Oe3IEox8UZ"
      }
    },
    {
      "cell_type": "code",
      "source": [
        "torch.manual_seed(42) # Setting the seed"
      ],
      "metadata": {
        "id": "XFTcav-GxdKX"
      },
      "execution_count": null,
      "outputs": []
    },
    {
      "cell_type": "markdown",
      "source": [
        "Более продвинутая версия, со звездочкой. Гарантия воспроизовдимости сильно выше"
      ],
      "metadata": {
        "id": "e09ac05cyL79"
      }
    },
    {
      "cell_type": "code",
      "source": [
        "import os\n",
        "import random\n",
        "import numpy as np\n",
        "import torch\n",
        "\n",
        "def seed_everything(seed):\n",
        "    os.environ['PYTHONHASHSEED'] = str(seed)\n",
        "    np.random.seed(seed)\n",
        "    random.seed(seed)\n",
        "    torch.manual_seed(seed)\n",
        "    torch.random.manual_seed(seed)\n",
        "    torch.cuda.manual_seed(seed)\n",
        "    torch.cuda.manual_seed_all(seed)\n",
        "    torch.backends.cudnn.deterministic = True\n",
        "    torch.backends.cudnn.benchmark = True\n",
        "\n",
        "seed_everything(0xDEAF)"
      ],
      "metadata": {
        "id": "LPnfOS-ixpgA"
      },
      "execution_count": null,
      "outputs": []
    },
    {
      "cell_type": "code",
      "execution_count": null,
      "metadata": {
        "id": "DFa3fT6ZqaEb"
      },
      "outputs": [],
      "source": [
        "# Generate a tensor of size 2x3x4\n",
        "t = torch.Tensor(2, 3, 4)\n",
        "type(t)"
      ]
    },
    {
      "cell_type": "code",
      "source": [
        "t = torch.tensor([1, 2, 3], dtype=float)\n",
        "t"
      ],
      "metadata": {
        "id": "KfGu57p7mPJI"
      },
      "execution_count": null,
      "outputs": []
    },
    {
      "cell_type": "code",
      "execution_count": null,
      "metadata": {
        "id": "vEzbGjsdqaEb"
      },
      "outputs": [],
      "source": [
        "# Get the size of the tensor\n",
        "t.size()"
      ]
    },
    {
      "cell_type": "code",
      "source": [
        "t"
      ],
      "metadata": {
        "id": "EPDwhgAY0nnE"
      },
      "execution_count": null,
      "outputs": []
    },
    {
      "cell_type": "code",
      "execution_count": null,
      "metadata": {
        "id": "BBOgwu07qaEb"
      },
      "outputs": [],
      "source": [
        "# t.size() is a classic tuple =>\n",
        "print('t size:', ' \\u00D7 '.join(map(str, t.size())))"
      ]
    },
    {
      "cell_type": "code",
      "execution_count": null,
      "metadata": {
        "id": "5jhNX8_1qaEb"
      },
      "outputs": [],
      "source": [
        "# prints dimensional space and sub-dimensions\n",
        "print(f'point in a {t.numel()} dimensional space')\n",
        "print(f'organised in {t.dim()} sub-dimensions')"
      ]
    },
    {
      "cell_type": "code",
      "source": [
        "t = torch.rand((2, 3, 4))\n",
        "t"
      ],
      "metadata": {
        "id": "RsZ1X8DVxHxz"
      },
      "execution_count": null,
      "outputs": []
    },
    {
      "cell_type": "code",
      "execution_count": null,
      "metadata": {
        "id": "tei3tC4mqaEb"
      },
      "outputs": [],
      "source": [
        "# Mind the underscore!\n",
        "# Any operation that mutates a tensor in-place is post-fixed with an _.\n",
        "# For example: x.copy_(y), x.t_(), x.random_(n) will change x.\n",
        "t.random_(10).to(int)"
      ]
    },
    {
      "cell_type": "code",
      "execution_count": null,
      "metadata": {
        "id": "tuyT4HIBqaEc"
      },
      "outputs": [],
      "source": [
        "t[0, : , 1]\n"
      ]
    },
    {
      "cell_type": "code",
      "execution_count": null,
      "metadata": {
        "id": "yp0qBzwuqaEc"
      },
      "outputs": [],
      "source": [
        "# This resizes the tensor permanently\n",
        "r = torch.Tensor(t)\n",
        "r.resize_(3, 8)\n",
        "r"
      ]
    },
    {
      "cell_type": "code",
      "execution_count": null,
      "metadata": {
        "id": "VjwpbP2XqaEc"
      },
      "outputs": [],
      "source": [
        "# As you can see zero_ would replace r with 0's which was originally filled with integers\n",
        "r.zero_()\n"
      ]
    },
    {
      "cell_type": "code",
      "execution_count": null,
      "metadata": {
        "id": "3RAm9T6xqaEc"
      },
      "outputs": [],
      "source": [
        "# This *is* important\n",
        "import copy\n",
        "from copy import deepcopy\n",
        "s = r.clone()"
      ]
    },
    {
      "cell_type": "code",
      "source": [
        "b = 18965\n",
        "b = c\n",
        "c = 52352\n",
        "b"
      ],
      "metadata": {
        "id": "I4-3GYFNpNaX"
      },
      "execution_count": null,
      "outputs": []
    },
    {
      "cell_type": "code",
      "execution_count": null,
      "metadata": {
        "id": "dsbGOFg1qaEc"
      },
      "outputs": [],
      "source": [
        "# In-place fill of 1's\n",
        "s.fill_(10)\n",
        "s"
      ]
    },
    {
      "cell_type": "code",
      "execution_count": null,
      "metadata": {
        "id": "bhuudcvQqaEc"
      },
      "outputs": [],
      "source": [
        "# Because we cloned r, even though we did an in-place operation, this doesn't affect r\n",
        "r"
      ]
    },
    {
      "cell_type": "markdown",
      "metadata": {
        "id": "VEc3qNKIqaEc"
      },
      "source": [
        "## Vectors (1D Tensors)"
      ]
    },
    {
      "cell_type": "code",
      "execution_count": null,
      "metadata": {
        "id": "Nb4xwZfhqaEc"
      },
      "outputs": [],
      "source": [
        "# Creates a 1D tensor of integers 1 to 4\n",
        "v = torch.Tensor(np.array([2, 3, 4, 5]))\n",
        "type(v.numpy())"
      ]
    },
    {
      "cell_type": "code",
      "execution_count": null,
      "metadata": {
        "id": "16eXmw9nqaEc"
      },
      "outputs": [],
      "source": [
        "# Print number of dimensions (1D) and size of tensor\n",
        "print(f'dim: {v.dim()}, size: {v.size()[0]}')"
      ]
    },
    {
      "cell_type": "code",
      "source": [
        "print(v.shape)"
      ],
      "metadata": {
        "id": "_Vu-W_oivrgH"
      },
      "execution_count": null,
      "outputs": []
    },
    {
      "cell_type": "code",
      "execution_count": null,
      "metadata": {
        "id": "RbEcSerbqaEc"
      },
      "outputs": [],
      "source": [
        "w = torch.Tensor([1, 2, 0, 4])\n",
        "w"
      ]
    },
    {
      "cell_type": "code",
      "execution_count": null,
      "metadata": {
        "id": "sbz9gFC6qaEc"
      },
      "outputs": [],
      "source": [
        "# Element-wise multiplication\n",
        "v * w"
      ]
    },
    {
      "cell_type": "code",
      "execution_count": null,
      "metadata": {
        "id": "vxxkD-1kqaEc"
      },
      "outputs": [],
      "source": [
        "# Scalar product: 1*1 + 2*0 + 3*2 + 4*0\n",
        "v @ w"
      ]
    },
    {
      "cell_type": "code",
      "execution_count": null,
      "metadata": {
        "id": "rJL-IxoxqaEc"
      },
      "outputs": [],
      "source": [
        "# In-place replacement of random number from 0 to 10\n",
        "x = torch.Tensor(5).random_(10)\n",
        "x"
      ]
    },
    {
      "cell_type": "code",
      "execution_count": null,
      "metadata": {
        "id": "XjrTRnxhqaEc"
      },
      "outputs": [],
      "source": [
        "print(f'first: {x[0]}, last: {x[-1]}')"
      ]
    },
    {
      "cell_type": "code",
      "source": [
        "x"
      ],
      "metadata": {
        "id": "tMMJvmJTqohK"
      },
      "execution_count": null,
      "outputs": []
    },
    {
      "cell_type": "code",
      "execution_count": null,
      "metadata": {
        "id": "LBd7fkY1qaEc"
      },
      "outputs": [],
      "source": [
        "# Extract sub-Tensor [from:to)\n",
        "x[1:2 + 1]"
      ]
    },
    {
      "cell_type": "code",
      "execution_count": null,
      "metadata": {
        "id": "NtYhAt1yqaEc"
      },
      "outputs": [],
      "source": [
        "v"
      ]
    },
    {
      "cell_type": "code",
      "execution_count": null,
      "metadata": {
        "id": "O_1XXJkNqaEd"
      },
      "outputs": [],
      "source": [
        "# Create a tensor with integers ranging from 1 to 5, excluding 5\n",
        "v = torch.arange(1, 4 + 1)\n",
        "v"
      ]
    },
    {
      "cell_type": "code",
      "source": [
        "torch.sum(v)"
      ],
      "metadata": {
        "id": "guEnZaX6rJyf"
      },
      "execution_count": null,
      "outputs": []
    },
    {
      "cell_type": "code",
      "execution_count": null,
      "metadata": {
        "id": "_e4liZ2FqaEd"
      },
      "outputs": [],
      "source": [
        "# Square all elements in the tensor\n",
        "print(v.sqrt(), v)"
      ]
    },
    {
      "cell_type": "markdown",
      "metadata": {
        "id": "OPNQ-VytqaEd"
      },
      "source": [
        "## Matrices (2D Tensors)"
      ]
    },
    {
      "cell_type": "code",
      "execution_count": null,
      "metadata": {
        "colab": {
          "base_uri": "https://localhost:8080/"
        },
        "id": "9On6T7eLqaEd",
        "outputId": "f7df2101-e29c-4a01-d85d-42fe38cdf679"
      },
      "outputs": [
        {
          "output_type": "execute_result",
          "data": {
            "text/plain": [
              "tensor([[2., 5., 3., 7.],\n",
              "        [4., 2., 1., 9.]])"
            ]
          },
          "metadata": {},
          "execution_count": 11
        }
      ],
      "source": [
        "import numpy as np\n",
        "# Create a 2x4 tensor\n",
        "m = torch.Tensor(np.array([[2, 5, 3, 7],\n",
        "                  [4, 2, 1, 9]]))\n",
        "m"
      ]
    },
    {
      "cell_type": "code",
      "execution_count": null,
      "metadata": {
        "colab": {
          "base_uri": "https://localhost:8080/"
        },
        "id": "9MHPJO0BqaEd",
        "outputId": "de488300-cce8-425c-f038-722d724e0d88"
      },
      "outputs": [
        {
          "output_type": "execute_result",
          "data": {
            "text/plain": [
              "2"
            ]
          },
          "metadata": {},
          "execution_count": 12
        }
      ],
      "source": [
        "m.dim()"
      ]
    },
    {
      "cell_type": "code",
      "source": [
        "m = m.unsqueeze(0)\n",
        "m.squeeze()\n"
      ],
      "metadata": {
        "colab": {
          "base_uri": "https://localhost:8080/"
        },
        "id": "kdv4WGjBrmhm",
        "outputId": "ee6f0783-b125-4e78-d03f-fed727d1972f"
      },
      "execution_count": null,
      "outputs": [
        {
          "output_type": "execute_result",
          "data": {
            "text/plain": [
              "tensor([[2., 5., 3., 7.],\n",
              "        [4., 2., 1., 9.]])"
            ]
          },
          "metadata": {},
          "execution_count": 13
        }
      ]
    },
    {
      "cell_type": "code",
      "execution_count": null,
      "metadata": {
        "colab": {
          "base_uri": "https://localhost:8080/"
        },
        "id": "odk4LOCFqaEd",
        "outputId": "7c991f85-7eeb-446b-ef12-3d24dc6a2361"
      },
      "outputs": [
        {
          "output_type": "stream",
          "name": "stdout",
          "text": [
            "1 -- 2 -- torch.Size([1, 2, 4])\n"
          ]
        }
      ],
      "source": [
        "print(m.size(0), m.size(1), m.size(), sep=' -- ')"
      ]
    },
    {
      "cell_type": "code",
      "execution_count": null,
      "metadata": {
        "colab": {
          "base_uri": "https://localhost:8080/"
        },
        "id": "0jg6hw7nqaEd",
        "outputId": "17f8df63-f186-49d4-969d-f2ed57474bd1"
      },
      "outputs": [
        {
          "output_type": "execute_result",
          "data": {
            "text/plain": [
              "8"
            ]
          },
          "metadata": {},
          "execution_count": 15
        }
      ],
      "source": [
        "# Returns the total number of elements, hence num-el (number of elements)\n",
        "m.numel()"
      ]
    },
    {
      "cell_type": "code",
      "execution_count": null,
      "metadata": {
        "colab": {
          "base_uri": "https://localhost:8080/"
        },
        "id": "GTgQ4rQPqaEd",
        "outputId": "10684eb5-4dfa-4ce4-8d4d-97c089b38bfb"
      },
      "outputs": [
        {
          "output_type": "execute_result",
          "data": {
            "text/plain": [
              "tensor([], size=(0, 4))"
            ]
          },
          "metadata": {},
          "execution_count": 16
        }
      ],
      "source": [
        "# Indexing row 0, column 2 (0-indexed)\n",
        "m[0][2:4]"
      ]
    },
    {
      "cell_type": "code",
      "execution_count": null,
      "metadata": {
        "colab": {
          "base_uri": "https://localhost:8080/",
          "height": 162
        },
        "id": "TtHfFc-5qaEd",
        "outputId": "dcabe096-24fa-47b0-81a9-0b7d8313ba54"
      },
      "outputs": [
        {
          "output_type": "error",
          "ename": "IndexError",
          "evalue": "index 2 is out of bounds for dimension 1 with size 2",
          "traceback": [
            "\u001b[0;31m---------------------------------------------------------------------------\u001b[0m",
            "\u001b[0;31mIndexError\u001b[0m                                Traceback (most recent call last)",
            "\u001b[0;32m<ipython-input-17-db0094306e25>\u001b[0m in \u001b[0;36m<cell line: 0>\u001b[0;34m()\u001b[0m\n\u001b[1;32m      1\u001b[0m \u001b[0;31m# Indexing row 0, column 2 (0-indexed)\u001b[0m\u001b[0;34m\u001b[0m\u001b[0;34m\u001b[0m\u001b[0m\n\u001b[0;32m----> 2\u001b[0;31m \u001b[0mm\u001b[0m\u001b[0;34m[\u001b[0m\u001b[0;36m0\u001b[0m\u001b[0;34m,\u001b[0m \u001b[0;36m2\u001b[0m\u001b[0;34m]\u001b[0m\u001b[0;34m\u001b[0m\u001b[0;34m\u001b[0m\u001b[0m\n\u001b[0m",
            "\u001b[0;31mIndexError\u001b[0m: index 2 is out of bounds for dimension 1 with size 2"
          ]
        }
      ],
      "source": [
        "# Indexing row 0, column 2 (0-indexed)\n",
        "m[0, 2]"
      ]
    },
    {
      "cell_type": "code",
      "execution_count": null,
      "metadata": {
        "colab": {
          "base_uri": "https://localhost:8080/"
        },
        "id": "lQLeU3s1qaEd",
        "outputId": "012d51c0-6596-40d6-d657-34b57fe4b5fc"
      },
      "outputs": [
        {
          "output_type": "execute_result",
          "data": {
            "text/plain": [
              "tensor([[4., 2., 1., 9.]])"
            ]
          },
          "metadata": {},
          "execution_count": 18
        }
      ],
      "source": [
        "# Indexing column 1, all rows (returns size 2)\n",
        "m[:, 1]"
      ]
    },
    {
      "cell_type": "code",
      "execution_count": null,
      "metadata": {
        "colab": {
          "base_uri": "https://localhost:8080/"
        },
        "id": "KTFAUaz3qaEd",
        "outputId": "3291f733-0b74-4731-c029-b43edc14e74c"
      },
      "outputs": [
        {
          "output_type": "execute_result",
          "data": {
            "text/plain": [
              "tensor([[[4., 2., 1., 9.]]])"
            ]
          },
          "metadata": {},
          "execution_count": 19
        }
      ],
      "source": [
        "# Indexing column 1, all rows (returns size 2x1)\n",
        "m[:, [1]]"
      ]
    },
    {
      "cell_type": "code",
      "source": [
        "m"
      ],
      "metadata": {
        "colab": {
          "base_uri": "https://localhost:8080/"
        },
        "id": "1zVJirI77uDI",
        "outputId": "0c57279c-5f92-447f-d2e3-a064442656da"
      },
      "execution_count": null,
      "outputs": [
        {
          "output_type": "execute_result",
          "data": {
            "text/plain": [
              "tensor([[[2., 5., 3., 7.],\n",
              "         [4., 2., 1., 9.]]])"
            ]
          },
          "metadata": {},
          "execution_count": 20
        }
      ]
    },
    {
      "cell_type": "code",
      "source": [
        "m.unsqueeze(dim=1)"
      ],
      "metadata": {
        "colab": {
          "base_uri": "https://localhost:8080/"
        },
        "id": "ZD80PER97rYK",
        "outputId": "f11d47d0-5049-4264-ecc1-1a0389fdbb32"
      },
      "execution_count": null,
      "outputs": [
        {
          "output_type": "execute_result",
          "data": {
            "text/plain": [
              "tensor([[[[2., 5., 3., 7.],\n",
              "          [4., 2., 1., 9.]]]])"
            ]
          },
          "metadata": {},
          "execution_count": 21
        }
      ]
    },
    {
      "cell_type": "code",
      "execution_count": null,
      "metadata": {
        "colab": {
          "base_uri": "https://localhost:8080/"
        },
        "id": "RPz0kCA4qaEd",
        "outputId": "8f67a7ad-cfd1-43ab-cdfe-a8cd9f0166e8"
      },
      "outputs": [
        {
          "output_type": "execute_result",
          "data": {
            "text/plain": [
              "tensor([[[2., 5., 3., 7.],\n",
              "         [4., 2., 1., 9.]]])"
            ]
          },
          "metadata": {},
          "execution_count": 22
        }
      ],
      "source": [
        "# Indexes row 0, all columns (returns 1x4)\n",
        "m[[0], :]"
      ]
    },
    {
      "cell_type": "code",
      "execution_count": null,
      "metadata": {
        "colab": {
          "base_uri": "https://localhost:8080/"
        },
        "id": "UOs1DC8hqaEd",
        "outputId": "2da8ce6e-42f0-401e-95c2-c77f88f426c6"
      },
      "outputs": [
        {
          "output_type": "execute_result",
          "data": {
            "text/plain": [
              "tensor([[2., 5., 3., 7.],\n",
              "        [4., 2., 1., 9.]])"
            ]
          },
          "metadata": {},
          "execution_count": 23
        }
      ],
      "source": [
        "# Indexes row 0, all columns (returns size 4)\n",
        "m[0, :]"
      ]
    },
    {
      "cell_type": "code",
      "execution_count": null,
      "metadata": {
        "colab": {
          "base_uri": "https://localhost:8080/"
        },
        "id": "QHHlvyIxqaEd",
        "outputId": "2d447fd5-8055-463f-f4bf-030e3e2f8f62"
      },
      "outputs": [
        {
          "output_type": "execute_result",
          "data": {
            "text/plain": [
              "tensor([1., 2., 3., 4.])"
            ]
          },
          "metadata": {},
          "execution_count": 24
        }
      ],
      "source": [
        "# Create tensor of numbers from 1 to 5 (excluding 5)\n",
        "v = torch.arange(1., 4 + 1)\n",
        "v"
      ]
    },
    {
      "cell_type": "code",
      "execution_count": null,
      "metadata": {
        "colab": {
          "base_uri": "https://localhost:8080/"
        },
        "id": "ufK3R1skqaEd",
        "outputId": "6eac57ec-f54b-4220-fea1-2e7a43e93378"
      },
      "outputs": [
        {
          "output_type": "execute_result",
          "data": {
            "text/plain": [
              "tensor([[[2., 5., 3., 7.],\n",
              "         [4., 2., 1., 9.]]])"
            ]
          },
          "metadata": {},
          "execution_count": 25
        }
      ],
      "source": [
        "m"
      ]
    },
    {
      "cell_type": "code",
      "execution_count": null,
      "metadata": {
        "colab": {
          "base_uri": "https://localhost:8080/"
        },
        "id": "yQg5daRHqaEd",
        "outputId": "25446eaf-70b6-4946-edb8-67d96ad23b73"
      },
      "outputs": [
        {
          "output_type": "execute_result",
          "data": {
            "text/plain": [
              "tensor([[49., 47.]])"
            ]
          },
          "metadata": {},
          "execution_count": 26
        }
      ],
      "source": [
        "# Scalar product\n",
        "m @ v"
      ]
    },
    {
      "cell_type": "code",
      "source": [
        "m[[0], :]"
      ],
      "metadata": {
        "colab": {
          "base_uri": "https://localhost:8080/"
        },
        "id": "gpCpgs7Js-7E",
        "outputId": "b5d7b911-a96a-45bd-b5bb-5787898f29bc"
      },
      "execution_count": null,
      "outputs": [
        {
          "output_type": "execute_result",
          "data": {
            "text/plain": [
              "tensor([[[2., 5., 3., 7.],\n",
              "         [4., 2., 1., 9.]]])"
            ]
          },
          "metadata": {},
          "execution_count": 27
        }
      ]
    },
    {
      "cell_type": "code",
      "execution_count": null,
      "metadata": {
        "colab": {
          "base_uri": "https://localhost:8080/"
        },
        "id": "z8cAIFodqaEd",
        "outputId": "1f567eb4-6fde-4ed9-c9fe-9b9e08da98d0"
      },
      "outputs": [
        {
          "output_type": "execute_result",
          "data": {
            "text/plain": [
              "tensor([[49., 47.]])"
            ]
          },
          "metadata": {},
          "execution_count": 28
        }
      ],
      "source": [
        "# Calculated by 1*2 + 2*5 + 3*3 + 4*7\n",
        "m[[0], :] @ v"
      ]
    },
    {
      "cell_type": "code",
      "execution_count": null,
      "metadata": {
        "colab": {
          "base_uri": "https://localhost:8080/",
          "height": 162
        },
        "id": "sZjW73yDqaEd",
        "outputId": "7700a692-f3fe-427a-b59a-ece5bed7ea51"
      },
      "outputs": [
        {
          "output_type": "error",
          "ename": "IndexError",
          "evalue": "index 1 is out of bounds for dimension 0 with size 1",
          "traceback": [
            "\u001b[0;31m---------------------------------------------------------------------------\u001b[0m",
            "\u001b[0;31mIndexError\u001b[0m                                Traceback (most recent call last)",
            "\u001b[0;32m<ipython-input-29-3bce236f6c9d>\u001b[0m in \u001b[0;36m<cell line: 0>\u001b[0;34m()\u001b[0m\n\u001b[1;32m      1\u001b[0m \u001b[0;31m# Calculated by\u001b[0m\u001b[0;34m\u001b[0m\u001b[0;34m\u001b[0m\u001b[0m\n\u001b[0;32m----> 2\u001b[0;31m \u001b[0mm\u001b[0m\u001b[0;34m[\u001b[0m\u001b[0;36m1\u001b[0m\u001b[0;34m,\u001b[0m \u001b[0;34m:\u001b[0m\u001b[0;34m]\u001b[0m \u001b[0;34m@\u001b[0m \u001b[0mv\u001b[0m\u001b[0;34m\u001b[0m\u001b[0;34m\u001b[0m\u001b[0m\n\u001b[0m",
            "\u001b[0;31mIndexError\u001b[0m: index 1 is out of bounds for dimension 0 with size 1"
          ]
        }
      ],
      "source": [
        "# Calculated by\n",
        "m[1, :] @ v"
      ]
    },
    {
      "cell_type": "code",
      "execution_count": null,
      "metadata": {
        "id": "p43yXl5GqaEd"
      },
      "outputs": [],
      "source": [
        "# Add a random tensor of size 2x4 to m\n",
        "m + torch.rand(2, 4)"
      ]
    },
    {
      "cell_type": "code",
      "execution_count": null,
      "metadata": {
        "colab": {
          "base_uri": "https://localhost:8080/"
        },
        "id": "vHmLxKh6qaEd",
        "outputId": "0cbe544a-9288-4127-ed14-afbbafc28400"
      },
      "outputs": [
        {
          "output_type": "execute_result",
          "data": {
            "text/plain": [
              "tensor([[[1.8483, 4.7857, 2.9131, 6.5445],\n",
              "         [3.4627, 1.2981, 0.8690, 8.6658]]])"
            ]
          },
          "metadata": {},
          "execution_count": 30
        }
      ],
      "source": [
        "# Subtract a random tensor of size 2x4 to m\n",
        "m - torch.rand(2, 4)"
      ]
    },
    {
      "cell_type": "code",
      "execution_count": null,
      "metadata": {
        "colab": {
          "base_uri": "https://localhost:8080/"
        },
        "id": "FpsCU_5eqaEe",
        "outputId": "baef7078-e7f4-4485-cf26-27ac2eb3108e"
      },
      "outputs": [
        {
          "output_type": "execute_result",
          "data": {
            "text/plain": [
              "tensor([[[0.5227, 1.4096, 0.1058, 5.6341],\n",
              "         [2.3740, 1.7699, 0.9226, 0.7829]]])"
            ]
          },
          "metadata": {},
          "execution_count": 31
        }
      ],
      "source": [
        "# Multiply a random tensor of size 2x4 to m\n",
        "m * torch.rand(2, 4)"
      ]
    },
    {
      "cell_type": "code",
      "execution_count": null,
      "metadata": {
        "colab": {
          "base_uri": "https://localhost:8080/"
        },
        "id": "5EKM2A8FqaEe",
        "outputId": "5d92b65f-5561-4231-fb4a-5175a0ef9bd9"
      },
      "outputs": [
        {
          "output_type": "execute_result",
          "data": {
            "text/plain": [
              "tensor([[[ 2.2738, 16.2961,  3.1721, 13.5434],\n",
              "         [ 4.0924, 42.1643,  1.2244, 11.0904]]])"
            ]
          },
          "metadata": {},
          "execution_count": 32
        }
      ],
      "source": [
        "# Divide m by a random tensor of size 2x4\n",
        "m / torch.rand(2, 4)"
      ]
    },
    {
      "cell_type": "code",
      "execution_count": null,
      "metadata": {
        "colab": {
          "base_uri": "https://localhost:8080/"
        },
        "id": "j9pyN3-_qaEe",
        "outputId": "6d284843-9cf8-4c58-e598-2f7f03727b40"
      },
      "outputs": [
        {
          "output_type": "execute_result",
          "data": {
            "text/plain": [
              "torch.Size([1, 2, 4])"
            ]
          },
          "metadata": {},
          "execution_count": 33
        }
      ],
      "source": [
        "m.size()"
      ]
    },
    {
      "cell_type": "code",
      "execution_count": null,
      "metadata": {
        "colab": {
          "base_uri": "https://localhost:8080/",
          "height": 162
        },
        "id": "zn5FVrWZqaEe",
        "outputId": "ebfd8f32-6b06-4eea-e310-65511cb3711e"
      },
      "outputs": [
        {
          "output_type": "error",
          "ename": "RuntimeError",
          "evalue": "t() expects a tensor with <= 2 dimensions, but self is 3D",
          "traceback": [
            "\u001b[0;31m---------------------------------------------------------------------------\u001b[0m",
            "\u001b[0;31mRuntimeError\u001b[0m                              Traceback (most recent call last)",
            "\u001b[0;32m<ipython-input-34-8386b7468195>\u001b[0m in \u001b[0;36m<cell line: 0>\u001b[0;34m()\u001b[0m\n\u001b[1;32m      1\u001b[0m \u001b[0;31m# Transpose tensor m, which is essentially 2x4 to 4x2\u001b[0m\u001b[0;34m\u001b[0m\u001b[0;34m\u001b[0m\u001b[0m\n\u001b[0;32m----> 2\u001b[0;31m \u001b[0mm\u001b[0m\u001b[0;34m.\u001b[0m\u001b[0mt\u001b[0m\u001b[0;34m(\u001b[0m\u001b[0;34m)\u001b[0m\u001b[0;34m\u001b[0m\u001b[0;34m\u001b[0m\u001b[0m\n\u001b[0m",
            "\u001b[0;31mRuntimeError\u001b[0m: t() expects a tensor with <= 2 dimensions, but self is 3D"
          ]
        }
      ],
      "source": [
        "# Transpose tensor m, which is essentially 2x4 to 4x2\n",
        "m.t()"
      ]
    },
    {
      "cell_type": "code",
      "execution_count": null,
      "metadata": {
        "colab": {
          "base_uri": "https://localhost:8080/"
        },
        "id": "KydzG-QqqaEe",
        "outputId": "23900978-58b5-4263-ae8f-bac52ab33fcb"
      },
      "outputs": [
        {
          "output_type": "execute_result",
          "data": {
            "text/plain": [
              "tensor([[[2., 5., 3., 7.]],\n",
              "\n",
              "        [[4., 2., 1., 9.]]])"
            ]
          },
          "metadata": {},
          "execution_count": 35
        }
      ],
      "source": [
        "# Same as\n",
        "m.transpose(0, 1)"
      ]
    },
    {
      "cell_type": "markdown",
      "metadata": {
        "id": "SEKZa0miqaEe"
      },
      "source": [
        "## Constructors"
      ]
    },
    {
      "cell_type": "code",
      "execution_count": null,
      "metadata": {
        "colab": {
          "base_uri": "https://localhost:8080/"
        },
        "id": "YzRZU67BqaEe",
        "outputId": "2b668b82-7ff2-45f2-c2c6-0e9a47a2f2cb"
      },
      "outputs": [
        {
          "output_type": "execute_result",
          "data": {
            "text/plain": [
              "tensor([3, 6], dtype=torch.int8)"
            ]
          },
          "metadata": {},
          "execution_count": 36
        }
      ],
      "source": [
        "# Create tensor from 3 to 8, with each having a space of 1\n",
        "torch.arange(3., 8 + 1,  3, dtype=torch.int8)"
      ]
    },
    {
      "cell_type": "code",
      "execution_count": null,
      "metadata": {
        "id": "9S-BT2hbqaEe",
        "outputId": "648e221a-a765-4614-b870-b4ff812d7734",
        "colab": {
          "base_uri": "https://localhost:8080/"
        }
      },
      "outputs": [
        {
          "output_type": "execute_result",
          "data": {
            "text/plain": [
              "tensor([ 5.7000,  2.7000, -0.3000])"
            ]
          },
          "metadata": {},
          "execution_count": 37
        }
      ],
      "source": [
        "# Create tensor from 5.7 to -2.1 with each having a space of -3\n",
        "torch.arange(5.7, -2.1, -3)"
      ]
    },
    {
      "cell_type": "code",
      "execution_count": null,
      "metadata": {
        "colab": {
          "base_uri": "https://localhost:8080/"
        },
        "id": "UqL9w4XEqaEe",
        "outputId": "ed166927-14f9-41ab-ede4-547d173226af"
      },
      "outputs": [
        {
          "output_type": "execute_result",
          "data": {
            "text/plain": [
              "tensor([3.0000, 3.0251, 3.0503, 3.0754, 3.1005, 3.1256, 3.1508, 3.1759, 3.2010,\n",
              "        3.2261, 3.2513, 3.2764, 3.3015, 3.3266, 3.3518, 3.3769, 3.4020, 3.4271,\n",
              "        3.4523, 3.4774, 3.5025, 3.5276, 3.5528, 3.5779, 3.6030, 3.6281, 3.6533,\n",
              "        3.6784, 3.7035, 3.7286, 3.7538, 3.7789, 3.8040, 3.8291, 3.8543, 3.8794,\n",
              "        3.9045, 3.9296, 3.9548, 3.9799, 4.0050, 4.0302, 4.0553, 4.0804, 4.1055,\n",
              "        4.1307, 4.1558, 4.1809, 4.2060, 4.2312, 4.2563, 4.2814, 4.3065, 4.3317,\n",
              "        4.3568, 4.3819, 4.4070, 4.4322, 4.4573, 4.4824, 4.5075, 4.5327, 4.5578,\n",
              "        4.5829, 4.6080, 4.6332, 4.6583, 4.6834, 4.7085, 4.7337, 4.7588, 4.7839,\n",
              "        4.8090, 4.8342, 4.8593, 4.8844, 4.9095, 4.9347, 4.9598, 4.9849, 5.0101,\n",
              "        5.0352, 5.0603, 5.0854, 5.1106, 5.1357, 5.1608, 5.1859, 5.2111, 5.2362,\n",
              "        5.2613, 5.2864, 5.3116, 5.3367, 5.3618, 5.3869, 5.4121, 5.4372, 5.4623,\n",
              "        5.4874, 5.5126, 5.5377, 5.5628, 5.5879, 5.6131, 5.6382, 5.6633, 5.6884,\n",
              "        5.7136, 5.7387, 5.7638, 5.7889, 5.8141, 5.8392, 5.8643, 5.8894, 5.9146,\n",
              "        5.9397, 5.9648, 5.9899, 6.0151, 6.0402, 6.0653, 6.0905, 6.1156, 6.1407,\n",
              "        6.1658, 6.1910, 6.2161, 6.2412, 6.2663, 6.2915, 6.3166, 6.3417, 6.3668,\n",
              "        6.3920, 6.4171, 6.4422, 6.4673, 6.4925, 6.5176, 6.5427, 6.5678, 6.5930,\n",
              "        6.6181, 6.6432, 6.6683, 6.6935, 6.7186, 6.7437, 6.7688, 6.7940, 6.8191,\n",
              "        6.8442, 6.8693, 6.8945, 6.9196, 6.9447, 6.9698, 6.9950, 7.0201, 7.0452,\n",
              "        7.0704, 7.0955, 7.1206, 7.1457, 7.1709, 7.1960, 7.2211, 7.2462, 7.2714,\n",
              "        7.2965, 7.3216, 7.3467, 7.3719, 7.3970, 7.4221, 7.4472, 7.4724, 7.4975,\n",
              "        7.5226, 7.5477, 7.5729, 7.5980, 7.6231, 7.6482, 7.6734, 7.6985, 7.7236,\n",
              "        7.7487, 7.7739, 7.7990, 7.8241, 7.8492, 7.8744, 7.8995, 7.9246, 7.9497,\n",
              "        7.9749, 8.0000])"
            ]
          },
          "metadata": {},
          "execution_count": 38
        }
      ],
      "source": [
        "# returns a 1D tensor of steps equally spaced points between start=3, end=8 and steps=20\n",
        "torch.linspace(3, 8, 200)"
      ]
    },
    {
      "cell_type": "code",
      "source": [
        "t.zero_()"
      ],
      "metadata": {
        "colab": {
          "base_uri": "https://localhost:8080/",
          "height": 144
        },
        "id": "plJnKumAujVF",
        "outputId": "e8d1b00d-2818-4746-aecd-ed0ec47c639e"
      },
      "execution_count": null,
      "outputs": [
        {
          "output_type": "error",
          "ename": "NameError",
          "evalue": "name 't' is not defined",
          "traceback": [
            "\u001b[0;31m---------------------------------------------------------------------------\u001b[0m",
            "\u001b[0;31mNameError\u001b[0m                                 Traceback (most recent call last)",
            "\u001b[0;32m<ipython-input-39-e46f9054d4cd>\u001b[0m in \u001b[0;36m<cell line: 0>\u001b[0;34m()\u001b[0m\n\u001b[0;32m----> 1\u001b[0;31m \u001b[0mt\u001b[0m\u001b[0;34m.\u001b[0m\u001b[0mzero_\u001b[0m\u001b[0;34m(\u001b[0m\u001b[0;34m)\u001b[0m\u001b[0;34m\u001b[0m\u001b[0;34m\u001b[0m\u001b[0m\n\u001b[0m",
            "\u001b[0;31mNameError\u001b[0m: name 't' is not defined"
          ]
        }
      ]
    },
    {
      "cell_type": "code",
      "execution_count": null,
      "metadata": {
        "id": "VmvANdnaqaEe"
      },
      "outputs": [],
      "source": [
        "# Create a tensor filled with 0's\n",
        "torch.zeros(3, 5)"
      ]
    },
    {
      "cell_type": "code",
      "source": [
        "torch.eye(5)"
      ],
      "metadata": {
        "id": "8lF9i-63updT"
      },
      "execution_count": null,
      "outputs": []
    },
    {
      "cell_type": "code",
      "execution_count": null,
      "metadata": {
        "id": "wpU0lI9RqaEe"
      },
      "outputs": [],
      "source": [
        "# Create a tensor filled with 1's\n",
        "t = torch.ones(3, 2, 5)\n"
      ]
    },
    {
      "cell_type": "code",
      "execution_count": null,
      "metadata": {
        "id": "JvwDR46IqaEe",
        "outputId": "d1fb73b0-2c38-4607-9436-703955ff37d4",
        "colab": {
          "base_uri": "https://localhost:8080/"
        }
      },
      "outputs": [
        {
          "output_type": "execute_result",
          "data": {
            "text/plain": [
              "tensor([[1., 0., 0.],\n",
              "        [0., 1., 0.],\n",
              "        [0., 0., 1.]])"
            ]
          },
          "metadata": {},
          "execution_count": 3
        }
      ],
      "source": [
        "# Create a tensor with the diagonal filled with 1\n",
        "torch.eye(3)"
      ]
    },
    {
      "cell_type": "code",
      "execution_count": null,
      "metadata": {
        "id": "K7vNuNERqaEe"
      },
      "outputs": [],
      "source": [
        "from matplotlib import pyplot as plt"
      ]
    },
    {
      "cell_type": "code",
      "execution_count": null,
      "metadata": {
        "colab": {
          "base_uri": "https://localhost:8080/",
          "height": 430
        },
        "id": "sjLIFQbFqaEe",
        "outputId": "a5b23fe2-fbd1-4670-f113-562f383bc5a1"
      },
      "outputs": [
        {
          "output_type": "display_data",
          "data": {
            "text/plain": [
              "<Figure size 640x480 with 1 Axes>"
            ],
            "image/png": "[encoded data removed]"
          },
          "metadata": {}
        }
      ],
      "source": [
        "# Numpy bridge!\n",
        "\n",
        "plt.hist(torch.rand(100000).numpy(), 100);"
      ]
    },
    {
      "cell_type": "code",
      "execution_count": null,
      "metadata": {
        "colab": {
          "base_uri": "https://localhost:8080/",
          "height": 430
        },
        "id": "TJ-M5sv9qaEe",
        "outputId": "3906095d-d94c-4874-8c3c-3c9b0c79e9d6"
      },
      "outputs": [
        {
          "output_type": "display_data",
          "data": {
            "text/plain": [
              "<Figure size 640x480 with 1 Axes>"
            ],
            "image/png": "[encoded data removed]"
          },
          "metadata": {}
        }
      ],
      "source": [
        "plt.hist(torch.randn(10**6).numpy(), 100);  # how much does this chart weight?\n",
        "# use rasterized=True for SVG/EPS/PDF!"
      ]
    },
    {
      "cell_type": "code",
      "execution_count": null,
      "metadata": {
        "colab": {
          "base_uri": "https://localhost:8080/",
          "height": 430
        },
        "id": "b5_egKfqqaEe",
        "outputId": "7cc9a4ac-087f-4735-88cd-e64e482c0c0b"
      },
      "outputs": [
        {
          "output_type": "display_data",
          "data": {
            "text/plain": [
              "<Figure size 640x480 with 1 Axes>"
            ],
            "image/png": "[encoded data removed]"
          },
          "metadata": {}
        }
      ],
      "source": [
        "plt.hist(torch.rand(10**6).numpy(), 100);"
      ]
    }
  ],
  "metadata": {
    "kernelspec": {
      "display_name": "Python 3",
      "name": "python3"
    },
    "language_info": {
      "codemirror_mode": {
        "name": "ipython",
        "version": 3
      },
      "file_extension": ".py",
      "mimetype": "text/x-python",
      "name": "python",
      "nbconvert_exporter": "python",
      "pygments_lexer": "ipython3",
      "version": "3.10.12"
    },
    "colab": {
      "provenance": [],
      "gpuType": "T4"
    },
    "accelerator": "GPU"
  },
  "nbformat": 4,
  "nbformat_minor": 0
}