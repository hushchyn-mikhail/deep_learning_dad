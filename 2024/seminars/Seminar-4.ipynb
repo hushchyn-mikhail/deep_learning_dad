{
 "cells": [
  {
   "cell_type": "markdown",
   "id": "dbadb2a2",
   "metadata": {},
   "source": [
    "## Регуляризации"
   ]
  },
  {
   "cell_type": "markdown",
   "id": "08fb2cd8",
   "metadata": {},
   "source": [
    "### Давайте теперь рассмотрим различные методы прунинга и регуляризации моделей"
   ]
  },
  {
   "cell_type": "markdown",
   "id": "4578437b",
   "metadata": {},
   "source": [
    "##### Подключим библиотеки"
   ]
  },
  {
   "cell_type": "code",
   "execution_count": 45,
   "id": "fc7938da",
   "metadata": {},
   "outputs": [],
   "source": [
    "import numpy as np\n",
    "import os\n",
    "import pandas as pd\n",
    "import torch\n",
    "import torch.nn as nn\n",
    "import torch.optim as optim\n",
    "from torchvision.datasets import MNIST\n",
    "from torch.utils.data import DataLoader\n",
    "from torchvision import transforms\n",
    "from matplotlib import pyplot as plt\n",
    "from sklearn.preprocessing import LabelEncoder\n",
    "from sklearn.model_selection import StratifiedKFold"
   ]
  },
  {
   "cell_type": "markdown",
   "id": "b45a92bb",
   "metadata": {},
   "source": [
    "###### Прочтем данные"
   ]
  },
  {
   "cell_type": "code",
   "execution_count": 5,
   "id": "7cf5f76e",
   "metadata": {},
   "outputs": [
    {
     "data": {
      "text/html": [
       "<div>\n",
       "<style scoped>\n",
       "    .dataframe tbody tr th:only-of-type {\n",
       "        vertical-align: middle;\n",
       "    }\n",
       "\n",
       "    .dataframe tbody tr th {\n",
       "        vertical-align: top;\n",
       "    }\n",
       "\n",
       "    .dataframe thead th {\n",
       "        text-align: right;\n",
       "    }\n",
       "</style>\n",
       "<table border=\"1\" class=\"dataframe\">\n",
       "  <thead>\n",
       "    <tr style=\"text-align: right;\">\n",
       "      <th></th>\n",
       "      <th>0</th>\n",
       "      <th>1</th>\n",
       "      <th>2</th>\n",
       "      <th>3</th>\n",
       "      <th>4</th>\n",
       "      <th>5</th>\n",
       "      <th>6</th>\n",
       "      <th>7</th>\n",
       "      <th>8</th>\n",
       "      <th>9</th>\n",
       "      <th>...</th>\n",
       "      <th>51</th>\n",
       "      <th>52</th>\n",
       "      <th>53</th>\n",
       "      <th>54</th>\n",
       "      <th>55</th>\n",
       "      <th>56</th>\n",
       "      <th>57</th>\n",
       "      <th>58</th>\n",
       "      <th>59</th>\n",
       "      <th>60</th>\n",
       "    </tr>\n",
       "  </thead>\n",
       "  <tbody>\n",
       "    <tr>\n",
       "      <th>0</th>\n",
       "      <td>0.0200</td>\n",
       "      <td>0.0371</td>\n",
       "      <td>0.0428</td>\n",
       "      <td>0.0207</td>\n",
       "      <td>0.0954</td>\n",
       "      <td>0.0986</td>\n",
       "      <td>0.1539</td>\n",
       "      <td>0.1601</td>\n",
       "      <td>0.3109</td>\n",
       "      <td>0.2111</td>\n",
       "      <td>...</td>\n",
       "      <td>0.0027</td>\n",
       "      <td>0.0065</td>\n",
       "      <td>0.0159</td>\n",
       "      <td>0.0072</td>\n",
       "      <td>0.0167</td>\n",
       "      <td>0.0180</td>\n",
       "      <td>0.0084</td>\n",
       "      <td>0.0090</td>\n",
       "      <td>0.0032</td>\n",
       "      <td>R</td>\n",
       "    </tr>\n",
       "    <tr>\n",
       "      <th>1</th>\n",
       "      <td>0.0453</td>\n",
       "      <td>0.0523</td>\n",
       "      <td>0.0843</td>\n",
       "      <td>0.0689</td>\n",
       "      <td>0.1183</td>\n",
       "      <td>0.2583</td>\n",
       "      <td>0.2156</td>\n",
       "      <td>0.3481</td>\n",
       "      <td>0.3337</td>\n",
       "      <td>0.2872</td>\n",
       "      <td>...</td>\n",
       "      <td>0.0084</td>\n",
       "      <td>0.0089</td>\n",
       "      <td>0.0048</td>\n",
       "      <td>0.0094</td>\n",
       "      <td>0.0191</td>\n",
       "      <td>0.0140</td>\n",
       "      <td>0.0049</td>\n",
       "      <td>0.0052</td>\n",
       "      <td>0.0044</td>\n",
       "      <td>R</td>\n",
       "    </tr>\n",
       "    <tr>\n",
       "      <th>2</th>\n",
       "      <td>0.0262</td>\n",
       "      <td>0.0582</td>\n",
       "      <td>0.1099</td>\n",
       "      <td>0.1083</td>\n",
       "      <td>0.0974</td>\n",
       "      <td>0.2280</td>\n",
       "      <td>0.2431</td>\n",
       "      <td>0.3771</td>\n",
       "      <td>0.5598</td>\n",
       "      <td>0.6194</td>\n",
       "      <td>...</td>\n",
       "      <td>0.0232</td>\n",
       "      <td>0.0166</td>\n",
       "      <td>0.0095</td>\n",
       "      <td>0.0180</td>\n",
       "      <td>0.0244</td>\n",
       "      <td>0.0316</td>\n",
       "      <td>0.0164</td>\n",
       "      <td>0.0095</td>\n",
       "      <td>0.0078</td>\n",
       "      <td>R</td>\n",
       "    </tr>\n",
       "    <tr>\n",
       "      <th>3</th>\n",
       "      <td>0.0100</td>\n",
       "      <td>0.0171</td>\n",
       "      <td>0.0623</td>\n",
       "      <td>0.0205</td>\n",
       "      <td>0.0205</td>\n",
       "      <td>0.0368</td>\n",
       "      <td>0.1098</td>\n",
       "      <td>0.1276</td>\n",
       "      <td>0.0598</td>\n",
       "      <td>0.1264</td>\n",
       "      <td>...</td>\n",
       "      <td>0.0121</td>\n",
       "      <td>0.0036</td>\n",
       "      <td>0.0150</td>\n",
       "      <td>0.0085</td>\n",
       "      <td>0.0073</td>\n",
       "      <td>0.0050</td>\n",
       "      <td>0.0044</td>\n",
       "      <td>0.0040</td>\n",
       "      <td>0.0117</td>\n",
       "      <td>R</td>\n",
       "    </tr>\n",
       "    <tr>\n",
       "      <th>4</th>\n",
       "      <td>0.0762</td>\n",
       "      <td>0.0666</td>\n",
       "      <td>0.0481</td>\n",
       "      <td>0.0394</td>\n",
       "      <td>0.0590</td>\n",
       "      <td>0.0649</td>\n",
       "      <td>0.1209</td>\n",
       "      <td>0.2467</td>\n",
       "      <td>0.3564</td>\n",
       "      <td>0.4459</td>\n",
       "      <td>...</td>\n",
       "      <td>0.0031</td>\n",
       "      <td>0.0054</td>\n",
       "      <td>0.0105</td>\n",
       "      <td>0.0110</td>\n",
       "      <td>0.0015</td>\n",
       "      <td>0.0072</td>\n",
       "      <td>0.0048</td>\n",
       "      <td>0.0107</td>\n",
       "      <td>0.0094</td>\n",
       "      <td>R</td>\n",
       "    </tr>\n",
       "  </tbody>\n",
       "</table>\n",
       "<p>5 rows × 61 columns</p>\n",
       "</div>"
      ],
      "text/plain": [
       "       0       1       2       3       4       5       6       7       8   \\\n",
       "0  0.0200  0.0371  0.0428  0.0207  0.0954  0.0986  0.1539  0.1601  0.3109   \n",
       "1  0.0453  0.0523  0.0843  0.0689  0.1183  0.2583  0.2156  0.3481  0.3337   \n",
       "2  0.0262  0.0582  0.1099  0.1083  0.0974  0.2280  0.2431  0.3771  0.5598   \n",
       "3  0.0100  0.0171  0.0623  0.0205  0.0205  0.0368  0.1098  0.1276  0.0598   \n",
       "4  0.0762  0.0666  0.0481  0.0394  0.0590  0.0649  0.1209  0.2467  0.3564   \n",
       "\n",
       "       9   ...      51      52      53      54      55      56      57  \\\n",
       "0  0.2111  ...  0.0027  0.0065  0.0159  0.0072  0.0167  0.0180  0.0084   \n",
       "1  0.2872  ...  0.0084  0.0089  0.0048  0.0094  0.0191  0.0140  0.0049   \n",
       "2  0.6194  ...  0.0232  0.0166  0.0095  0.0180  0.0244  0.0316  0.0164   \n",
       "3  0.1264  ...  0.0121  0.0036  0.0150  0.0085  0.0073  0.0050  0.0044   \n",
       "4  0.4459  ...  0.0031  0.0054  0.0105  0.0110  0.0015  0.0072  0.0048   \n",
       "\n",
       "       58      59  60  \n",
       "0  0.0090  0.0032   R  \n",
       "1  0.0052  0.0044   R  \n",
       "2  0.0095  0.0078   R  \n",
       "3  0.0040  0.0117   R  \n",
       "4  0.0107  0.0094   R  \n",
       "\n",
       "[5 rows x 61 columns]"
      ]
     },
     "metadata": {},
     "output_type": "display_data"
    }
   ],
   "source": [
    "# Read data\n",
    "data = pd.read_csv(\"sonar.csv\", header=None)\n",
    "X = data.iloc[:, 0:60]\n",
    "y = data.iloc[:, 60]\n",
    "\n",
    "display(data.head())"
   ]
  },
  {
   "cell_type": "code",
   "execution_count": 6,
   "id": "66e44d01",
   "metadata": {},
   "outputs": [],
   "source": [
    "# Label encode the target from string to integer\n",
    "encoder = LabelEncoder()\n",
    "encoder.fit(y)\n",
    "y = encoder.transform(y)\n",
    "\n",
    "# Convert to 2D PyTorch tensors\n",
    "X = torch.tensor(X.values, dtype=torch.float32)\n",
    "y = torch.tensor(y, dtype=torch.float32).reshape(-1, 1)"
   ]
  },
  {
   "cell_type": "markdown",
   "id": "981b49c5",
   "metadata": {},
   "source": [
    "Базовая модель, без регуляризаций"
   ]
  },
  {
   "cell_type": "code",
   "execution_count": 7,
   "id": "c1534ac7",
   "metadata": {},
   "outputs": [],
   "source": [
    "class BaseModel(nn.Module):\n",
    "    def __init__(self):\n",
    "        super().__init__()\n",
    "        self.layer1 = nn.Linear(60, 60)\n",
    "        self.act1 = nn.ReLU()\n",
    "        self.layer2 = nn.Linear(60, 30)\n",
    "        self.act2 = nn.ReLU()\n",
    "        self.output = nn.Linear(30, 1)\n",
    "        self.sigmoid = nn.Sigmoid()\n",
    "\n",
    "    def forward(self, x):\n",
    "        x = self.act1(self.layer1(x))\n",
    "        x = self.act2(self.layer2(x))\n",
    "        x = self.sigmoid(self.output(x))\n",
    "        return x"
   ]
  },
  {
   "cell_type": "code",
   "execution_count": 8,
   "id": "7cdb48d3",
   "metadata": {},
   "outputs": [],
   "source": [
    "def model_train(model, X_train, y_train, X_val, y_val,\n",
    "                n_epochs=300, batch_size=16):\n",
    "    loss_fn = nn.BCELoss()\n",
    "    optimizer = optim.SGD(model.parameters(), lr=0.01, momentum=0.8)\n",
    "    batch_start = torch.arange(0, len(X_train), batch_size)\n",
    "\n",
    "    model.train()\n",
    "    for epoch in range(n_epochs):\n",
    "        for start in batch_start:\n",
    "            X_batch = X_train[start:start+batch_size]\n",
    "            y_batch = y_train[start:start+batch_size]\n",
    "            y_pred = model(X_batch)\n",
    "            loss = loss_fn(y_pred, y_batch)\n",
    "            optimizer.zero_grad()\n",
    "            loss.backward()\n",
    "            optimizer.step()\n",
    "\n",
    "    # evaluation\n",
    "    model.eval()\n",
    "    y_pred = model(X_val)\n",
    "    acc = (y_pred.round() == y_val).float().mean()\n",
    "    acc = float(acc)\n",
    "    return acc"
   ]
  },
  {
   "cell_type": "code",
   "execution_count": 9,
   "id": "ccc6281e",
   "metadata": {
    "scrolled": true
   },
   "outputs": [
    {
     "name": "stdout",
     "output_type": "stream",
     "text": [
      "Accuracy: 0.86\n",
      "Accuracy: 0.71\n",
      "Accuracy: 0.90\n",
      "Accuracy: 0.90\n",
      "Accuracy: 0.81\n",
      "Accuracy: 0.90\n",
      "Accuracy: 0.71\n",
      "Accuracy: 0.86\n",
      "Accuracy: 0.80\n",
      "Accuracy: 0.80\n",
      "Overal for baseline model: 82.67% (+/- 6.87%)\n"
     ]
    }
   ],
   "source": [
    "# run 10-fold cross validation\n",
    "kfold = StratifiedKFold(n_splits=10, shuffle=True)\n",
    "accuracies = []\n",
    "for train, test in kfold.split(X, y):\n",
    "    # create model, train, and get accuracy\n",
    "    model = BaseModel()\n",
    "    acc = model_train(model, X[train], y[train], X[test], y[test])\n",
    "    print(\"Accuracy: %.2f\" % acc)\n",
    "    accuracies.append(acc)\n",
    "\n",
    "# evaluate the model\n",
    "mean = np.mean(accuracies)\n",
    "std = np.std(accuracies)\n",
    "print(\"Overal for baseline model: %.2f%% (+/- %.2f%%)\" % (mean*100, std*100))"
   ]
  },
  {
   "cell_type": "markdown",
   "id": "ea5ffe73",
   "metadata": {},
   "source": [
    "### Dropout\n",
    "А теперь добавим дропаут в начале"
   ]
  },
  {
   "cell_type": "code",
   "execution_count": 10,
   "id": "1a13e819",
   "metadata": {},
   "outputs": [],
   "source": [
    "class SonarModel(nn.Module):\n",
    "    def __init__(self):\n",
    "        super().__init__()\n",
    "        self.dropout = nn.Dropout(0.2) ## Adding a dropout layer\n",
    "        self.layer1 = nn.Linear(60, 60)\n",
    "        self.act1 = nn.ReLU()\n",
    "        self.layer2 = nn.Linear(60, 30)\n",
    "        self.act2 = nn.ReLU()\n",
    "        self.output = nn.Linear(30, 1)\n",
    "        self.sigmoid = nn.Sigmoid()\n",
    " \n",
    "    def forward(self, x):\n",
    "        x = self.dropout(x)\n",
    "        x = self.act1(self.layer1(x))\n",
    "        x = self.act2(self.layer2(x))\n",
    "        x = self.sigmoid(self.output(x))\n",
    "        return x"
   ]
  },
  {
   "cell_type": "code",
   "execution_count": 11,
   "id": "9e523c13",
   "metadata": {},
   "outputs": [
    {
     "name": "stdout",
     "output_type": "stream",
     "text": [
      "Accuracy: 0.86\n",
      "Accuracy: 0.86\n",
      "Accuracy: 0.71\n",
      "Accuracy: 0.71\n",
      "Accuracy: 0.67\n",
      "Accuracy: 0.90\n",
      "Accuracy: 0.86\n",
      "Accuracy: 0.76\n",
      "Accuracy: 0.85\n",
      "Accuracy: 0.80\n",
      "Overall for input-dropout: 79.83% (+/- 7.56%)\n"
     ]
    }
   ],
   "source": [
    "kfold = StratifiedKFold(n_splits=10, shuffle=True)\n",
    "accuracies = []\n",
    "for train, test in kfold.split(X, y):\n",
    "    # create model, train, and get accuracy\n",
    "    model = SonarModel()\n",
    "    acc = model_train(model, X[train], y[train], X[test], y[test])\n",
    "    print(\"Accuracy: %.2f\" % acc)\n",
    "    accuracies.append(acc)\n",
    "    \n",
    "# evaluate the model\n",
    "mean = np.mean(accuracies)\n",
    "std = np.std(accuracies)\n",
    "print(\"Overall for input-dropout: %.2f%% (+/- %.2f%%)\" % (mean*100, std*100))"
   ]
  },
  {
   "cell_type": "markdown",
   "id": "e209c51d",
   "metadata": {},
   "source": [
    "А теперь применим дропаут к внутреннему слою"
   ]
  },
  {
   "cell_type": "code",
   "execution_count": 12,
   "id": "1975edbe",
   "metadata": {},
   "outputs": [],
   "source": [
    "class SonarModel(nn.Module):\n",
    "    def __init__(self):\n",
    "        super().__init__()\n",
    "        self.layer1 = nn.Linear(60, 60)\n",
    "        self.act1 = nn.ReLU()\n",
    "        self.dropout1 = nn.Dropout(0.2)\n",
    "        self.layer2 = nn.Linear(60, 30)\n",
    "        self.act2 = nn.ReLU()\n",
    "        self.dropout2 = nn.Dropout(0.2)\n",
    "        self.output = nn.Linear(30, 1)\n",
    "        self.sigmoid = nn.Sigmoid()\n",
    " \n",
    "    def forward(self, x):\n",
    "        x = self.act1(self.layer1(x))\n",
    "        x = self.dropout1(x)\n",
    "        x = self.act2(self.layer2(x))\n",
    "        x = self.dropout2(x)\n",
    "        x = self.sigmoid(self.output(x))\n",
    "        return x"
   ]
  },
  {
   "cell_type": "code",
   "execution_count": 13,
   "id": "fe65c97f",
   "metadata": {
    "scrolled": true
   },
   "outputs": [
    {
     "name": "stdout",
     "output_type": "stream",
     "text": [
      "Accuracy: 0.81\n",
      "Accuracy: 0.71\n",
      "Accuracy: 0.86\n",
      "Accuracy: 0.90\n",
      "Accuracy: 0.86\n",
      "Accuracy: 0.71\n",
      "Accuracy: 0.90\n",
      "Accuracy: 0.81\n",
      "Accuracy: 0.85\n",
      "Accuracy: 0.85\n",
      "OVeral for hidden-dropout: 82.71% (+/- 6.40%)\n"
     ]
    }
   ],
   "source": [
    "kfold = StratifiedKFold(n_splits=10, shuffle=True)\n",
    "accuracies = []\n",
    "for train, test in kfold.split(X, y):\n",
    "    # create model, train, and get accuracy\n",
    "    model = SonarModel()\n",
    "    acc = model_train(model, X[train], y[train], X[test], y[test])\n",
    "    print(\"Accuracy: %.2f\" % acc)\n",
    "    accuracies.append(acc)\n",
    "\n",
    "# evaluate the model\n",
    "mean = np.mean(accuracies)\n",
    "std = np.std(accuracies)\n",
    "print(\"OVeral for hidden-dropout: %.2f%% (+/- %.2f%%)\" % (mean*100, std*100))"
   ]
  },
  {
   "cell_type": "markdown",
   "id": "d5668c13",
   "metadata": {},
   "source": [
    "### L1, L2 and elastic"
   ]
  },
  {
   "cell_type": "markdown",
   "id": "b5fe5f73",
   "metadata": {},
   "source": [
    "##### L1 model"
   ]
  },
  {
   "cell_type": "code",
   "execution_count": 16,
   "id": "cd9c6b21",
   "metadata": {},
   "outputs": [],
   "source": [
    "class MLP(nn.Module):\n",
    "    def __init__(self):\n",
    "        super().__init__()\n",
    "        self.layers = nn.Sequential(\n",
    "          nn.Flatten(),\n",
    "          nn.Linear(28 * 28 * 1, 64),\n",
    "          nn.ReLU(),\n",
    "          nn.Linear(64, 32),\n",
    "          nn.ReLU(),\n",
    "          nn.Linear(32, 10)\n",
    "        )\n",
    "\n",
    "\n",
    "    def forward(self, x):\n",
    "        '''Forward pass'''\n",
    "        return self.layers(x)\n",
    "  \n",
    "    def compute_l1_loss(self, w):\n",
    "        return torch.abs(w).sum()"
   ]
  },
  {
   "cell_type": "code",
   "execution_count": 47,
   "id": "f01164ab",
   "metadata": {},
   "outputs": [],
   "source": [
    "torch.manual_seed(42)\n",
    "  \n",
    "# Prepare CIFAR-10 dataset\n",
    "dataset = MNIST(os.getcwd(), download=True, train=True, transform=transforms.ToTensor())\n",
    "trainloader = torch.utils.data.DataLoader(dataset, batch_size=10, shuffle=True, num_workers=1)\n",
    "\n",
    "# Initialize the MLP\n",
    "mlp = MLP()\n",
    "\n",
    "# Define the loss function and optimizer\n",
    "loss_function = nn.CrossEntropyLoss()\n",
    "optimizer = torch.optim.Adam(mlp.parameters(), lr=1e-4)\n",
    "losses_l1 = []"
   ]
  },
  {
   "cell_type": "code",
   "execution_count": 49,
   "id": "10e17a0d",
   "metadata": {},
   "outputs": [
    {
     "name": "stdout",
     "output_type": "stream",
     "text": [
      "Starting epoch 1\n",
      "Loss after mini-batch   500: 65.37165 (of which 63.03826 L1 loss)\n",
      "Loss after mini-batch  1000: 13.89388 (of which 11.59544 L1 loss)\n",
      "Loss after mini-batch  1500: 3.68279 (of which 1.37783 L1 loss)\n",
      "Loss after mini-batch  2000: 2.93884 (of which 0.63626 L1 loss)\n",
      "Loss after mini-batch  2500: 2.93945 (of which 0.63686 L1 loss)\n",
      "Loss after mini-batch  3000: 2.93972 (of which 0.63713 L1 loss)\n",
      "Loss after mini-batch  3500: 2.93790 (of which 0.63531 L1 loss)\n",
      "Loss after mini-batch  4000: 2.94024 (of which 0.63766 L1 loss)\n",
      "Loss after mini-batch  4500: 2.94047 (of which 0.63787 L1 loss)\n",
      "Loss after mini-batch  5000: 2.93992 (of which 0.63733 L1 loss)\n",
      "Loss after mini-batch  5500: 2.94008 (of which 0.63750 L1 loss)\n",
      "Loss after mini-batch  6000: 2.93733 (of which 0.63473 L1 loss)\n",
      "Starting epoch 2\n",
      "Loss after mini-batch   500: 2.93971 (of which 0.63712 L1 loss)\n",
      "Loss after mini-batch  1000: 2.93886 (of which 0.63628 L1 loss)\n",
      "Loss after mini-batch  1500: 2.94044 (of which 0.63786 L1 loss)\n",
      "Loss after mini-batch  2000: 2.93909 (of which 0.63651 L1 loss)\n",
      "Loss after mini-batch  2500: 2.93987 (of which 0.63728 L1 loss)\n",
      "Loss after mini-batch  3000: 2.93628 (of which 0.63369 L1 loss)\n",
      "Loss after mini-batch  3500: 2.94021 (of which 0.63763 L1 loss)\n",
      "Loss after mini-batch  4000: 2.93925 (of which 0.63667 L1 loss)\n",
      "Loss after mini-batch  4500: 2.94051 (of which 0.63792 L1 loss)\n",
      "Loss after mini-batch  5000: 2.93954 (of which 0.63696 L1 loss)\n",
      "Loss after mini-batch  5500: 2.94094 (of which 0.63835 L1 loss)\n",
      "Loss after mini-batch  6000: 2.94038 (of which 0.63779 L1 loss)\n",
      "Starting epoch 3\n",
      "Loss after mini-batch   500: 2.94027 (of which 0.63769 L1 loss)\n",
      "Loss after mini-batch  1000: 2.93805 (of which 0.63546 L1 loss)\n",
      "Loss after mini-batch  1500: 2.93909 (of which 0.63651 L1 loss)\n",
      "Loss after mini-batch  2000: 2.93767 (of which 0.63508 L1 loss)\n",
      "Loss after mini-batch  2500: 2.94057 (of which 0.63799 L1 loss)\n",
      "Loss after mini-batch  3000: 2.93854 (of which 0.63596 L1 loss)\n",
      "Loss after mini-batch  3500: 2.94012 (of which 0.63753 L1 loss)\n",
      "Loss after mini-batch  4000: 2.93740 (of which 0.63482 L1 loss)\n",
      "Loss after mini-batch  4500: 2.94055 (of which 0.63796 L1 loss)\n",
      "Loss after mini-batch  5000: 2.93760 (of which 0.63501 L1 loss)\n",
      "Loss after mini-batch  5500: 2.93932 (of which 0.63672 L1 loss)\n",
      "Loss after mini-batch  6000: 2.93806 (of which 0.63548 L1 loss)\n",
      "Starting epoch 4\n",
      "Loss after mini-batch   500: 2.94168 (of which 0.63909 L1 loss)\n",
      "Loss after mini-batch  1000: 2.94057 (of which 0.63798 L1 loss)\n",
      "Loss after mini-batch  1500: 2.93999 (of which 0.63740 L1 loss)\n",
      "Loss after mini-batch  2000: 2.93795 (of which 0.63537 L1 loss)\n",
      "Loss after mini-batch  2500: 2.93965 (of which 0.63708 L1 loss)\n",
      "Loss after mini-batch  3000: 2.94087 (of which 0.63828 L1 loss)\n",
      "Loss after mini-batch  3500: 2.94016 (of which 0.63758 L1 loss)\n",
      "Loss after mini-batch  4000: 2.93791 (of which 0.63532 L1 loss)\n",
      "Loss after mini-batch  4500: 2.94201 (of which 0.63942 L1 loss)\n",
      "Loss after mini-batch  5000: 2.93726 (of which 0.63467 L1 loss)\n",
      "Loss after mini-batch  5500: 2.93892 (of which 0.63634 L1 loss)\n",
      "Loss after mini-batch  6000: 2.93942 (of which 0.63684 L1 loss)\n",
      "Starting epoch 5\n",
      "Loss after mini-batch   500: 2.93817 (of which 0.63559 L1 loss)\n",
      "Loss after mini-batch  1000: 2.93952 (of which 0.63695 L1 loss)\n",
      "Loss after mini-batch  1500: 2.93903 (of which 0.63645 L1 loss)\n",
      "Loss after mini-batch  2000: 2.93980 (of which 0.63721 L1 loss)\n",
      "Loss after mini-batch  2500: 2.93792 (of which 0.63534 L1 loss)\n",
      "Loss after mini-batch  3000: 2.93661 (of which 0.63402 L1 loss)\n",
      "Loss after mini-batch  3500: 2.93983 (of which 0.63723 L1 loss)\n",
      "Loss after mini-batch  4000: 2.94074 (of which 0.63816 L1 loss)\n",
      "Loss after mini-batch  4500: 2.94020 (of which 0.63761 L1 loss)\n",
      "Loss after mini-batch  5000: 2.93983 (of which 0.63726 L1 loss)\n",
      "Loss after mini-batch  5500: 2.94278 (of which 0.64020 L1 loss)\n",
      "Loss after mini-batch  6000: 2.93873 (of which 0.63615 L1 loss)\n",
      "Training process has finished.\n"
     ]
    }
   ],
   "source": [
    "# Run the training loop\n",
    "for epoch in range(0, 5): # 5 epochs at maximum\n",
    "    train_loss = 0.0\n",
    "    # Print epoch\n",
    "    print(f'Starting epoch {epoch+1}')\n",
    "\n",
    "    # Iterate over the DataLoader for training data\n",
    "    for i, data in enumerate(trainloader, 0):\n",
    "\n",
    "        # Get inputs\n",
    "        inputs, targets = data\n",
    "\n",
    "        # Zero the gradients\n",
    "        optimizer.zero_grad()\n",
    "\n",
    "        # Perform forward pass\n",
    "        outputs = mlp(inputs)\n",
    "\n",
    "        # Compute loss\n",
    "        loss = loss_function(outputs, targets)\n",
    "\n",
    "        # Compute L1 loss component\n",
    "        l1_weight = 1.0\n",
    "        l1_parameters = []\n",
    "        for parameter in mlp.parameters():\n",
    "            l1_parameters.append(parameter.view(-1))\n",
    "        l1 = l1_weight * mlp.compute_l1_loss(torch.cat(l1_parameters))\n",
    "\n",
    "        # Add L1 loss component\n",
    "        loss += l1\n",
    "\n",
    "        # Perform backward pass\n",
    "        loss.backward()\n",
    "\n",
    "        # Perform optimization\n",
    "        optimizer.step()\n",
    "\n",
    "        # Print statistics\n",
    "        minibatch_loss = loss.item()\n",
    "        train_loss += minibatch_loss\n",
    "        losses_l1.append(train_loss/(i+1))\n",
    "        if i % 500 == 499:\n",
    "            print('Loss after mini-batch %5d: %.5f (of which %.5f L1 loss)' %\n",
    "                (i + 1, minibatch_loss, l1))\n",
    "            current_loss = 0.0\n",
    "\n",
    "# Process is complete.\n",
    "print('Training process has finished.')"
   ]
  },
  {
   "cell_type": "markdown",
   "id": "2412b59a",
   "metadata": {},
   "source": [
    "### L2 regularization"
   ]
  },
  {
   "cell_type": "code",
   "execution_count": 52,
   "id": "2644adfa",
   "metadata": {},
   "outputs": [],
   "source": [
    "class MLP(nn.Module):\n",
    "    def __init__(self):\n",
    "        super().__init__()\n",
    "        self.layers = nn.Sequential(\n",
    "          nn.Flatten(),\n",
    "          nn.Linear(28 * 28 * 1, 64),\n",
    "          nn.ReLU(),\n",
    "          nn.Linear(64, 32),\n",
    "          nn.ReLU(),\n",
    "          nn.Linear(32, 10)\n",
    "        )\n",
    "\n",
    "\n",
    "    def forward(self, x):\n",
    "        '''Forward pass'''\n",
    "        return self.layers(x)\n",
    "\n",
    "    def compute_l2_loss(self, w):\n",
    "        return torch.square(w).sum()"
   ]
  },
  {
   "cell_type": "code",
   "execution_count": 53,
   "id": "beccda2c",
   "metadata": {},
   "outputs": [],
   "source": [
    "trainloader = torch.utils.data.DataLoader(dataset, batch_size=10, shuffle=True, num_workers=1)\n",
    "  \n",
    "mlp = MLP()\n",
    "\n",
    "loss_function = nn.CrossEntropyLoss()\n",
    "optimizer = torch.optim.Adam(mlp.parameters(), lr=1e-4)\n",
    "losses_l2 = []"
   ]
  },
  {
   "cell_type": "code",
   "execution_count": 55,
   "id": "d63ff1b2",
   "metadata": {},
   "outputs": [
    {
     "name": "stdout",
     "output_type": "stream",
     "text": [
      "Starting epoch 1\n",
      "Loss after mini-batch   500: 6.71983 (of which 4.38983 l2 loss)\n",
      "Loss after mini-batch  1000: 3.45458 (of which 1.15703 l2 loss)\n",
      "Loss after mini-batch  1500: 2.55949 (of which 0.26261 l2 loss)\n",
      "Loss after mini-batch  2000: 2.34712 (of which 0.05075 l2 loss)\n",
      "Loss after mini-batch  2500: 2.31443 (of which 0.00849 l2 loss)\n",
      "Loss after mini-batch  3000: 2.30505 (of which 0.00117 l2 loss)\n",
      "Loss after mini-batch  3500: 2.30058 (of which 0.00021 l2 loss)\n",
      "Loss after mini-batch  4000: 2.30278 (of which 0.00009 l2 loss)\n",
      "Loss after mini-batch  4500: 2.30409 (of which 0.00009 l2 loss)\n",
      "Loss after mini-batch  5000: 2.30292 (of which 0.00009 l2 loss)\n",
      "Loss after mini-batch  5500: 2.30126 (of which 0.00007 l2 loss)\n",
      "Loss after mini-batch  6000: 2.30254 (of which 0.00005 l2 loss)\n",
      "Starting epoch 2\n",
      "Loss after mini-batch   500: 2.30206 (of which 0.00007 l2 loss)\n",
      "Loss after mini-batch  1000: 2.30201 (of which 0.00007 l2 loss)\n",
      "Loss after mini-batch  1500: 2.30175 (of which 0.00010 l2 loss)\n",
      "Loss after mini-batch  2000: 2.30131 (of which 0.00008 l2 loss)\n",
      "Loss after mini-batch  2500: 2.30330 (of which 0.00006 l2 loss)\n",
      "Loss after mini-batch  3000: 2.30344 (of which 0.00008 l2 loss)\n",
      "Loss after mini-batch  3500: 2.30258 (of which 0.00012 l2 loss)\n",
      "Loss after mini-batch  4000: 2.30222 (of which 0.00008 l2 loss)\n",
      "Loss after mini-batch  4500: 2.30383 (of which 0.00006 l2 loss)\n",
      "Loss after mini-batch  5000: 2.30374 (of which 0.00009 l2 loss)\n",
      "Loss after mini-batch  5500: 2.30089 (of which 0.00008 l2 loss)\n",
      "Loss after mini-batch  6000: 2.30338 (of which 0.00007 l2 loss)\n",
      "Starting epoch 3\n",
      "Loss after mini-batch   500: 2.30207 (of which 0.00004 l2 loss)\n",
      "Loss after mini-batch  1000: 2.30201 (of which 0.00009 l2 loss)\n",
      "Loss after mini-batch  1500: 2.30404 (of which 0.00010 l2 loss)\n",
      "Loss after mini-batch  2000: 2.30253 (of which 0.00009 l2 loss)\n",
      "Loss after mini-batch  2500: 2.30304 (of which 0.00010 l2 loss)\n",
      "Loss after mini-batch  3000: 2.30275 (of which 0.00007 l2 loss)\n",
      "Loss after mini-batch  3500: 2.30141 (of which 0.00009 l2 loss)\n",
      "Loss after mini-batch  4000: 2.30257 (of which 0.00011 l2 loss)\n",
      "Loss after mini-batch  4500: 2.30337 (of which 0.00013 l2 loss)\n",
      "Loss after mini-batch  5000: 2.30284 (of which 0.00010 l2 loss)\n",
      "Loss after mini-batch  5500: 2.30187 (of which 0.00007 l2 loss)\n",
      "Loss after mini-batch  6000: 2.30238 (of which 0.00006 l2 loss)\n",
      "Starting epoch 4\n",
      "Loss after mini-batch   500: 2.30140 (of which 0.00005 l2 loss)\n",
      "Loss after mini-batch  1000: 2.30053 (of which 0.00007 l2 loss)\n",
      "Loss after mini-batch  1500: 2.30284 (of which 0.00006 l2 loss)\n",
      "Loss after mini-batch  2000: 2.30278 (of which 0.00015 l2 loss)\n",
      "Loss after mini-batch  2500: 2.30351 (of which 0.00009 l2 loss)\n",
      "Loss after mini-batch  3000: 2.30186 (of which 0.00009 l2 loss)\n",
      "Loss after mini-batch  3500: 2.30386 (of which 0.00013 l2 loss)\n",
      "Loss after mini-batch  4000: 2.30375 (of which 0.00009 l2 loss)\n",
      "Loss after mini-batch  4500: 2.30094 (of which 0.00006 l2 loss)\n",
      "Loss after mini-batch  5000: 2.30314 (of which 0.00006 l2 loss)\n",
      "Loss after mini-batch  5500: 2.30175 (of which 0.00009 l2 loss)\n",
      "Loss after mini-batch  6000: 2.30090 (of which 0.00008 l2 loss)\n",
      "Starting epoch 5\n",
      "Loss after mini-batch   500: 2.30229 (of which 0.00009 l2 loss)\n",
      "Loss after mini-batch  1000: 2.30243 (of which 0.00008 l2 loss)\n",
      "Loss after mini-batch  1500: 2.30314 (of which 0.00008 l2 loss)\n",
      "Loss after mini-batch  2000: 2.30226 (of which 0.00008 l2 loss)\n",
      "Loss after mini-batch  2500: 2.30251 (of which 0.00010 l2 loss)\n",
      "Loss after mini-batch  3000: 2.30318 (of which 0.00007 l2 loss)\n",
      "Loss after mini-batch  3500: 2.30176 (of which 0.00005 l2 loss)\n",
      "Loss after mini-batch  4000: 2.30344 (of which 0.00005 l2 loss)\n",
      "Loss after mini-batch  4500: 2.30130 (of which 0.00008 l2 loss)\n",
      "Loss after mini-batch  5000: 2.30091 (of which 0.00015 l2 loss)\n",
      "Loss after mini-batch  5500: 2.30418 (of which 0.00011 l2 loss)\n",
      "Loss after mini-batch  6000: 2.30192 (of which 0.00010 l2 loss)\n",
      "Training process has finished.\n"
     ]
    }
   ],
   "source": [
    "for epoch in range(0, 5): # 5 epochs at maximum\n",
    "    train_loss = 0.0\n",
    "    \n",
    "    # Print epoch\n",
    "    print(f'Starting epoch {epoch+1}')\n",
    "    \n",
    "    # Iterate over the DataLoader for training data\n",
    "    for i, data in enumerate(trainloader, 0):\n",
    "      \n",
    "      # Get inputs\n",
    "        inputs, targets = data\n",
    "\n",
    "        # Zero the gradients\n",
    "        optimizer.zero_grad()\n",
    "\n",
    "        # Perform forward pass\n",
    "        outputs = mlp(inputs)\n",
    "\n",
    "        # Compute loss\n",
    "        loss = loss_function(outputs, targets)\n",
    "\n",
    "        # Compute l2 loss component\n",
    "        l2_weight = 1.0\n",
    "        l2_parameters = []\n",
    "        for parameter in mlp.parameters():\n",
    "            l2_parameters.append(parameter.view(-1))\n",
    "        l2 = l2_weight * mlp.compute_l2_loss(torch.cat(l2_parameters))\n",
    "\n",
    "        # Add l2 loss component\n",
    "        loss += l2\n",
    "\n",
    "        # Perform backward pass\n",
    "        loss.backward()\n",
    "\n",
    "        # Perform optimization\n",
    "        optimizer.step()\n",
    "\n",
    "        # Print statistics\n",
    "        minibatch_loss = loss.item()\n",
    "        train_loss += minibatch_loss\n",
    "        losses_l2.append(train_loss/(i+1))\n",
    "        if i % 500 == 499:\n",
    "            print('Loss after mini-batch %5d: %.5f (of which %.5f l2 loss)' %\n",
    "                (i + 1, minibatch_loss, l2))\n",
    "            current_loss = 0.0\n",
    "\n",
    "  # Process is complete.\n",
    "print('Training process has finished.')"
   ]
  },
  {
   "cell_type": "markdown",
   "id": "f6cd7f5a",
   "metadata": {},
   "source": [
    "#### Простой путь"
   ]
  },
  {
   "cell_type": "markdown",
   "id": "4afb1f76",
   "metadata": {},
   "source": [
    "В торче есть и более простой способ добавить L2-регуляризацию. <br>\n",
    "```optimizer = torch.optim.Adam(mlp.parameters(), lr=1e-4, weight_decay=1.0)```"
   ]
  },
  {
   "cell_type": "markdown",
   "id": "9a901cf6",
   "metadata": {},
   "source": [
    "##### Реализуйте тренеровку, используя weight_decay"
   ]
  },
  {
   "cell_type": "code",
   "execution_count": null,
   "id": "e678dc3a",
   "metadata": {},
   "outputs": [],
   "source": [
    "optimizer = torch.optim.Adam(???)\n",
    "losses_l2_wd = []"
   ]
  },
  {
   "cell_type": "code",
   "execution_count": null,
   "id": "b04096f5",
   "metadata": {},
   "outputs": [],
   "source": [
    "for epoch in range(0, 5): # 5 epochs at maximum\n",
    "    train_loss = 0.0\n",
    "    # Print epoch\n",
    "    print(f'Starting epoch {epoch+1}')\n",
    "    \n",
    "    # Iterate over the DataLoader for training data\n",
    "    for i, data in enumerate(trainloader, 0):\n",
    "      \n",
    "        ### YOUR CODE HERE\n",
    "        \n",
    "        \n",
    "        \n",
    "        ### END CODE\n",
    "\n",
    "        # Print statistics\n",
    "        minibatch_loss = loss.item()\n",
    "        train_loss += minibatch_loss\n",
    "        losses_l2_wd.append(train_loss/(i+1))\n",
    "        if i % 500 == 499:\n",
    "            print('Loss after mini-batch %5d: %.5f (of which %.5f l2 loss)' %\n",
    "                (i + 1, minibatch_loss, l2))\n",
    "            current_loss = 0.0\n",
    "\n",
    "  # Process is complete.\n",
    "print('Training process has finished.')"
   ]
  },
  {
   "cell_type": "markdown",
   "id": "cb7f112a",
   "metadata": {},
   "source": [
    "### Elastic Net"
   ]
  },
  {
   "cell_type": "markdown",
   "id": "68d1d9d9",
   "metadata": {},
   "source": [
    "Elastic Net - взвешшеная сумма  L1 и L2 регуляризаций:"
   ]
  },
  {
   "cell_type": "markdown",
   "id": "7d055708",
   "metadata": {},
   "source": [
    "$$\\lambda_{L1} \\times \\sum_f{ _{i=1}^{n}} | w_i | + \\lambda_{L2} \\times \\sum_f{ _{i=1}^{n}} w_i^2$$"
   ]
  },
  {
   "cell_type": "markdown",
   "id": "333a9445",
   "metadata": {},
   "source": [
    "И она потом добавляется к обычному лоссу:"
   ]
  },
  {
   "cell_type": "markdown",
   "id": "75bb4634",
   "metadata": {},
   "source": [
    "$$\\text{full_loss = original_loss + } \\lambda_{L1} \\times \\sum_f{ _{i=1}^{n}} | w_i | + \\lambda_{L2} \\times \\sum_f{ _{i=1}^{n}} w_i^2 $$"
   ]
  },
  {
   "cell_type": "code",
   "execution_count": 56,
   "id": "6a2240b5",
   "metadata": {},
   "outputs": [],
   "source": [
    "class MLP(nn.Module):\n",
    "    def __init__(self):\n",
    "        super().__init__()\n",
    "        self.layers = nn.Sequential(\n",
    "          nn.Flatten(),\n",
    "          nn.Linear(28 * 28 * 1, 64),\n",
    "          nn.ReLU(),\n",
    "          nn.Linear(64, 32),\n",
    "          nn.ReLU(),\n",
    "          nn.Linear(32, 10)\n",
    "        )\n",
    "\n",
    "\n",
    "    def forward(self, x):\n",
    "        return self.layers(x)\n",
    "\n",
    "    def compute_l1_loss(self, w):\n",
    "        return torch.abs(w).sum()\n",
    "\n",
    "    def compute_l2_loss(self, w):\n",
    "        return torch.square(w).sum()"
   ]
  },
  {
   "cell_type": "code",
   "execution_count": 57,
   "id": "8a37956e",
   "metadata": {},
   "outputs": [],
   "source": [
    "torch.manual_seed(42)\n",
    "  \n",
    "# Prepare CIFAR-10 dataset\n",
    "dataset = MNIST(os.getcwd(), download=True, transform=transforms.ToTensor())\n",
    "trainloader = torch.utils.data.DataLoader(dataset, batch_size=10, shuffle=True, num_workers=1)\n",
    "\n",
    "# Initialize the MLP\n",
    "mlp = MLP()\n",
    "\n",
    "# Define the loss function and optimizer\n",
    "loss_function = nn.CrossEntropyLoss()\n",
    "optimizer = torch.optim.Adam(mlp.parameters(), lr=1e-4)\n",
    "losses_elastic = []"
   ]
  },
  {
   "cell_type": "code",
   "execution_count": 58,
   "id": "464d7a9b",
   "metadata": {
    "scrolled": true
   },
   "outputs": [
    {
     "name": "stdout",
     "output_type": "stream",
     "text": [
      "Starting epoch 1\n",
      "Loss after mini-batch   500: 24.79362 (of which 19.77028 L1 loss; 2.74106 L2 loss)\n",
      "Loss after mini-batch  1000: 7.52453 (of which 4.81060 L1 loss; 0.39591 L2 loss)\n",
      "Loss after mini-batch  1500: 3.03675 (of which 0.69903 L1 loss; 0.03131 L2 loss)\n",
      "Loss after mini-batch  2000: 2.48315 (of which 0.18056 L1 loss; 0.00001 L2 loss)\n",
      "Loss after mini-batch  2500: 2.48123 (of which 0.17864 L1 loss; 0.00001 L2 loss)\n",
      "Loss after mini-batch  3000: 2.48011 (of which 0.17751 L1 loss; 0.00001 L2 loss)\n",
      "Loss after mini-batch  3500: 2.48004 (of which 0.17745 L1 loss; 0.00001 L2 loss)\n",
      "Loss after mini-batch  4000: 2.47988 (of which 0.17730 L1 loss; 0.00001 L2 loss)\n",
      "Loss after mini-batch  4500: 2.47929 (of which 0.17670 L1 loss; 0.00001 L2 loss)\n",
      "Loss after mini-batch  5000: 2.47955 (of which 0.17696 L1 loss; 0.00001 L2 loss)\n",
      "Loss after mini-batch  5500: 2.48013 (of which 0.17754 L1 loss; 0.00001 L2 loss)\n",
      "Loss after mini-batch  6000: 2.48089 (of which 0.17830 L1 loss; 0.00001 L2 loss)\n",
      "Starting epoch 2\n",
      "Loss after mini-batch   500: 2.48157 (of which 0.17898 L1 loss; 0.00001 L2 loss)\n",
      "Loss after mini-batch  1000: 2.48118 (of which 0.17859 L1 loss; 0.00001 L2 loss)\n",
      "Loss after mini-batch  1500: 2.48204 (of which 0.17945 L1 loss; 0.00001 L2 loss)\n",
      "Loss after mini-batch  2000: 2.48260 (of which 0.18001 L1 loss; 0.00001 L2 loss)\n",
      "Loss after mini-batch  2500: 2.48210 (of which 0.17951 L1 loss; 0.00001 L2 loss)\n",
      "Loss after mini-batch  3000: 2.48365 (of which 0.18106 L1 loss; 0.00001 L2 loss)\n",
      "Loss after mini-batch  3500: 2.48438 (of which 0.18179 L1 loss; 0.00001 L2 loss)\n",
      "Loss after mini-batch  4000: 2.48519 (of which 0.18259 L1 loss; 0.00001 L2 loss)\n",
      "Loss after mini-batch  4500: 2.48685 (of which 0.18425 L1 loss; 0.00001 L2 loss)\n",
      "Loss after mini-batch  5000: 2.48849 (of which 0.18589 L1 loss; 0.00001 L2 loss)\n",
      "Loss after mini-batch  5500: 2.48777 (of which 0.18517 L1 loss; 0.00001 L2 loss)\n",
      "Loss after mini-batch  6000: 2.48826 (of which 0.18567 L1 loss; 0.00001 L2 loss)\n",
      "Starting epoch 3\n",
      "Loss after mini-batch   500: 2.48831 (of which 0.18572 L1 loss; 0.00001 L2 loss)\n",
      "Loss after mini-batch  1000: 2.48774 (of which 0.18516 L1 loss; 0.00001 L2 loss)\n",
      "Loss after mini-batch  1500: 2.48812 (of which 0.18553 L1 loss; 0.00001 L2 loss)\n",
      "Loss after mini-batch  2000: 2.48788 (of which 0.18529 L1 loss; 0.00001 L2 loss)\n",
      "Loss after mini-batch  2500: 2.48773 (of which 0.18515 L1 loss; 0.00001 L2 loss)\n",
      "Loss after mini-batch  3000: 2.48855 (of which 0.18596 L1 loss; 0.00001 L2 loss)\n",
      "Loss after mini-batch  3500: 2.48858 (of which 0.18599 L1 loss; 0.00001 L2 loss)\n",
      "Loss after mini-batch  4000: 2.48787 (of which 0.18528 L1 loss; 0.00001 L2 loss)\n",
      "Loss after mini-batch  4500: 2.48815 (of which 0.18556 L1 loss; 0.00001 L2 loss)\n",
      "Loss after mini-batch  5000: 2.48851 (of which 0.18593 L1 loss; 0.00001 L2 loss)\n",
      "Loss after mini-batch  5500: 2.48780 (of which 0.18522 L1 loss; 0.00001 L2 loss)\n",
      "Loss after mini-batch  6000: 2.48869 (of which 0.18610 L1 loss; 0.00001 L2 loss)\n",
      "Starting epoch 4\n",
      "Loss after mini-batch   500: 2.48838 (of which 0.18580 L1 loss; 0.00001 L2 loss)\n",
      "Loss after mini-batch  1000: 2.48777 (of which 0.18517 L1 loss; 0.00001 L2 loss)\n",
      "Loss after mini-batch  1500: 2.48834 (of which 0.18575 L1 loss; 0.00001 L2 loss)\n",
      "Loss after mini-batch  2000: 2.48867 (of which 0.18607 L1 loss; 0.00001 L2 loss)\n",
      "Loss after mini-batch  2500: 2.48791 (of which 0.18532 L1 loss; 0.00001 L2 loss)\n",
      "Loss after mini-batch  3000: 2.48808 (of which 0.18549 L1 loss; 0.00001 L2 loss)\n",
      "Loss after mini-batch  3500: 2.48881 (of which 0.18622 L1 loss; 0.00001 L2 loss)\n",
      "Loss after mini-batch  4000: 2.48824 (of which 0.18563 L1 loss; 0.00001 L2 loss)\n",
      "Loss after mini-batch  4500: 2.48859 (of which 0.18600 L1 loss; 0.00001 L2 loss)\n",
      "Loss after mini-batch  5000: 2.48807 (of which 0.18547 L1 loss; 0.00001 L2 loss)\n",
      "Loss after mini-batch  5500: 2.48757 (of which 0.18496 L1 loss; 0.00001 L2 loss)\n",
      "Loss after mini-batch  6000: 2.48828 (of which 0.18567 L1 loss; 0.00001 L2 loss)\n",
      "Starting epoch 5\n",
      "Loss after mini-batch   500: 2.48850 (of which 0.18591 L1 loss; 0.00001 L2 loss)\n",
      "Loss after mini-batch  1000: 2.48815 (of which 0.18556 L1 loss; 0.00001 L2 loss)\n",
      "Loss after mini-batch  1500: 2.48870 (of which 0.18612 L1 loss; 0.00001 L2 loss)\n",
      "Loss after mini-batch  2000: 2.48881 (of which 0.18622 L1 loss; 0.00001 L2 loss)\n",
      "Loss after mini-batch  2500: 2.48784 (of which 0.18525 L1 loss; 0.00001 L2 loss)\n",
      "Loss after mini-batch  3000: 2.48824 (of which 0.18564 L1 loss; 0.00001 L2 loss)\n",
      "Loss after mini-batch  3500: 2.48806 (of which 0.18547 L1 loss; 0.00001 L2 loss)\n",
      "Loss after mini-batch  4000: 2.48741 (of which 0.18482 L1 loss; 0.00001 L2 loss)\n",
      "Loss after mini-batch  4500: 2.48861 (of which 0.18602 L1 loss; 0.00001 L2 loss)\n",
      "Loss after mini-batch  5000: 2.48888 (of which 0.18629 L1 loss; 0.00001 L2 loss)\n",
      "Loss after mini-batch  5500: 2.48805 (of which 0.18546 L1 loss; 0.00001 L2 loss)\n",
      "Loss after mini-batch  6000: 2.48850 (of which 0.18590 L1 loss; 0.00001 L2 loss)\n",
      "Training process has finished.\n"
     ]
    }
   ],
   "source": [
    "for epoch in range(0, 5): # 5 epochs at maximum\n",
    "    train_loss = 0.00\n",
    "# Print epoch\n",
    "    print(f'Starting epoch {epoch+1}')\n",
    "\n",
    "# Iterate over the DataLoader for training data\n",
    "    for i, data in enumerate(trainloader, 0):\n",
    "\n",
    "        # Get inputs\n",
    "        inputs, targets = data\n",
    "\n",
    "        # Zero the gradients\n",
    "        optimizer.zero_grad()\n",
    "\n",
    "        # Perform forward pass\n",
    "        outputs = mlp(inputs)\n",
    "\n",
    "        # Compute loss\n",
    "        loss = loss_function(outputs, targets)\n",
    "\n",
    "        # Specify L1 and L2 weights\n",
    "        l1_weight = 0.3\n",
    "        l2_weight = 0.7\n",
    "\n",
    "        # Compute L1 and L2 loss component\n",
    "        parameters = []\n",
    "        for parameter in mlp.parameters():\n",
    "            parameters.append(parameter.view(-1))\n",
    "        l1 = l1_weight * mlp.compute_l1_loss(torch.cat(parameters))\n",
    "        l2 = l2_weight * mlp.compute_l2_loss(torch.cat(parameters))\n",
    "\n",
    "        # Add L1 and L2 loss components\n",
    "        loss += l1\n",
    "        loss += l2\n",
    "\n",
    "        # Perform backward pass\n",
    "        loss.backward()\n",
    "\n",
    "        # Perform optimization\n",
    "        optimizer.step()\n",
    "\n",
    "        # Print statistics\n",
    "        minibatch_loss = loss.item()\n",
    "        train_loss += minibatch_loss\n",
    "        losses_elastic.append(train_loss/(i+1))\n",
    "        if i % 500 == 499:\n",
    "            print('Loss after mini-batch %5d: %.5f (of which %.5f L1 loss; %0.5f L2 loss)' %\n",
    "                (i + 1, minibatch_loss, l1, l2))\n",
    "            current_loss = 0.0\n",
    "\n",
    "# Process is complete.\n",
    "print('Training process has finished.')"
   ]
  },
  {
   "cell_type": "code",
   "execution_count": 59,
   "id": "0ec72d62",
   "metadata": {
    "scrolled": false
   },
   "outputs": [
    {
     "data": {
      "text/plain": [
       "<matplotlib.legend.Legend at 0x7fb32aa66dd0>"
      ]
     },
     "execution_count": 59,
     "metadata": {},
     "output_type": "execute_result"
    },
    {
     "data": {
      "image/png": "[encoded data removed]",
      "text/plain": [
       "<Figure size 1200x800 with 1 Axes>"
      ]
     },
     "metadata": {},
     "output_type": "display_data"
    }
   ],
   "source": [
    "fig, ax = plt.subplots(figsize=(12,8))\n",
    "#losses_batchnorm = np.array(losses_batchnorm)\n",
    "#losses_no_norm = np.array(losses_no_norm)\n",
    "plt.plot(losses_l1, label='L1', alpha=0.5)\n",
    "plt.plot(losses_l2, label='L2', alpha=0.5)\n",
    "plt.plot(losses_elastic, label='Elastic', alpha=0.5)\n",
    "plt.title(\"Training Losses\")\n",
    "plt.legend()"
   ]
  },
  {
   "cell_type": "markdown",
   "id": "1c63f54b",
   "metadata": {},
   "source": [
    "### Batch-Norm"
   ]
  },
  {
   "cell_type": "code",
   "execution_count": 32,
   "id": "ba22565e",
   "metadata": {
    "scrolled": false
   },
   "outputs": [
    {
     "name": "stderr",
     "output_type": "stream",
     "text": [
      "16.5%"
     ]
    },
    {
     "name": "stdout",
     "output_type": "stream",
     "text": [
      "Downloading http://yann.lecun.com/exdb/mnist/train-images-idx3-ubyte.gz\n",
      "Downloading http://yann.lecun.com/exdb/mnist/train-images-idx3-ubyte.gz to data/MNIST/raw/train-images-idx3-ubyte.gz\n"
     ]
    },
    {
     "name": "stderr",
     "output_type": "stream",
     "text": [
      "100.0%\n"
     ]
    },
    {
     "name": "stdout",
     "output_type": "stream",
     "text": [
      "Extracting data/MNIST/raw/train-images-idx3-ubyte.gz to data/MNIST/raw\n"
     ]
    },
    {
     "name": "stderr",
     "output_type": "stream",
     "text": [
      "100.0%\n",
      "100.0%"
     ]
    },
    {
     "name": "stdout",
     "output_type": "stream",
     "text": [
      "\n",
      "Downloading http://yann.lecun.com/exdb/mnist/train-labels-idx1-ubyte.gz\n",
      "Downloading http://yann.lecun.com/exdb/mnist/train-labels-idx1-ubyte.gz to data/MNIST/raw/train-labels-idx1-ubyte.gz\n",
      "Extracting data/MNIST/raw/train-labels-idx1-ubyte.gz to data/MNIST/raw\n",
      "\n",
      "Downloading http://yann.lecun.com/exdb/mnist/t10k-images-idx3-ubyte.gz\n",
      "Downloading http://yann.lecun.com/exdb/mnist/t10k-images-idx3-ubyte.gz to data/MNIST/raw/t10k-images-idx3-ubyte.gz\n",
      "Extracting data/MNIST/raw/t10k-images-idx3-ubyte.gz to data/MNIST/raw\n"
     ]
    },
    {
     "name": "stderr",
     "output_type": "stream",
     "text": [
      "\n",
      "100.0%\n"
     ]
    },
    {
     "name": "stdout",
     "output_type": "stream",
     "text": [
      "\n",
      "Downloading http://yann.lecun.com/exdb/mnist/t10k-labels-idx1-ubyte.gz\n",
      "Downloading http://yann.lecun.com/exdb/mnist/t10k-labels-idx1-ubyte.gz to data/MNIST/raw/t10k-labels-idx1-ubyte.gz\n",
      "Extracting data/MNIST/raw/t10k-labels-idx1-ubyte.gz to data/MNIST/raw\n",
      "\n"
     ]
    }
   ],
   "source": [
    "# number of subprocesses to use for data loading\n",
    "num_workers = 0\n",
    "# how many samples per batch to load\n",
    "batch_size = 64\n",
    "\n",
    "# convert data to torch.FloatTensor\n",
    "transform = transforms.ToTensor()\n",
    "\n",
    "# get the training and test datasets\n",
    "train_data = MNIST(root='data', train=True,\n",
    "                            download=True, transform=transform)\n",
    "\n",
    "test_data = MNIST(root='data', train=False,\n",
    "                           download=True, transform=transform)\n",
    "\n",
    "# prepare data loaders\n",
    "train_loader = torch.utils.data.DataLoader(train_data, batch_size=batch_size,\n",
    "                                           num_workers=num_workers)\n",
    "\n",
    "test_loader = torch.utils.data.DataLoader(test_data, batch_size=batch_size,\n",
    "                                          num_workers=num_workers)"
   ]
  },
  {
   "cell_type": "markdown",
   "id": "0e4e8325",
   "metadata": {},
   "source": [
    "Теперь в похожую полносвязную сетку добавим дропаут"
   ]
  },
  {
   "cell_type": "code",
   "execution_count": 33,
   "id": "171270bd",
   "metadata": {},
   "outputs": [],
   "source": [
    "import torch.nn.functional as F\n",
    "\n",
    "class NeuralNet(nn.Module):\n",
    "    def __init__(self, use_batch_norm, input_size=784, hidden_dim=256, output_size=10):\n",
    "        \"\"\"\n",
    "        Creates a PyTorch net using the given parameters.\n",
    "        \n",
    "        :param use_batch_norm: bool\n",
    "            Pass True to create a network that uses batch normalization; False otherwise\n",
    "            Note: this network will not use batch normalization on layers that do not have an\n",
    "            activation function.\n",
    "        \"\"\"\n",
    "        super(NeuralNet, self).__init__() # init super\n",
    "        \n",
    "        # Default layer sizes\n",
    "        self.input_size = input_size # (28*28 images)\n",
    "        self.hidden_dim = hidden_dim\n",
    "        self.output_size = output_size # (number of classes)\n",
    "        # Keep track of whether or not this network uses batch normalization.\n",
    "        self.use_batch_norm = use_batch_norm\n",
    "        \n",
    "        # define hidden linear layers, with optional batch norm on their outputs\n",
    "        # layers with batch_norm applied have no bias term\n",
    "        if use_batch_norm:\n",
    "            self.fc1 = nn.Linear(input_size, hidden_dim*2, bias=False)\n",
    "            self.batch_norm1 = nn.BatchNorm1d(hidden_dim*2)\n",
    "        else:\n",
    "            self.fc1 = nn.Linear(input_size, hidden_dim*2)\n",
    "            \n",
    "        # define *second* hidden linear layers, with optional batch norm on their outputs\n",
    "        if use_batch_norm:\n",
    "            self.fc2 = nn.Linear(hidden_dim*2, hidden_dim, bias=False)\n",
    "            self.batch_norm2 = nn.BatchNorm1d(hidden_dim)\n",
    "        else:\n",
    "            self.fc2 = nn.Linear(hidden_dim*2, hidden_dim)\n",
    "        \n",
    "        # third and final, fully-connected layer\n",
    "        self.fc3 = nn.Linear(hidden_dim, output_size)\n",
    "        \n",
    "        \n",
    "    def forward(self, x):\n",
    "        # flatten image\n",
    "        x = x.view(-1, 28*28)\n",
    "        # all hidden layers + optional batch norm + relu activation\n",
    "        x = self.fc1(x)\n",
    "        if self.use_batch_norm:\n",
    "            x = self.batch_norm1(x)\n",
    "        x = F.relu(x)\n",
    "        # second layer\n",
    "        x = self.fc2(x)\n",
    "        if self.use_batch_norm:\n",
    "            x = self.batch_norm2(x)\n",
    "        x = F.relu(x)\n",
    "        # third layer, no batch norm or activation\n",
    "        x = self.fc3(x)\n",
    "        return x\n"
   ]
  },
  {
   "cell_type": "code",
   "execution_count": 34,
   "id": "3ddf8b87",
   "metadata": {},
   "outputs": [
    {
     "name": "stdout",
     "output_type": "stream",
     "text": [
      "NeuralNet(\n",
      "  (fc1): Linear(in_features=784, out_features=512, bias=False)\n",
      "  (batch_norm1): BatchNorm1d(512, eps=1e-05, momentum=0.1, affine=True, track_running_stats=True)\n",
      "  (fc2): Linear(in_features=512, out_features=256, bias=False)\n",
      "  (batch_norm2): BatchNorm1d(256, eps=1e-05, momentum=0.1, affine=True, track_running_stats=True)\n",
      "  (fc3): Linear(in_features=256, out_features=10, bias=True)\n",
      ")\n",
      "\n",
      "NeuralNet(\n",
      "  (fc1): Linear(in_features=784, out_features=512, bias=True)\n",
      "  (fc2): Linear(in_features=512, out_features=256, bias=True)\n",
      "  (fc3): Linear(in_features=256, out_features=10, bias=True)\n",
      ")\n"
     ]
    }
   ],
   "source": [
    "net_batchnorm = NeuralNet(use_batch_norm=True)\n",
    "net_no_norm = NeuralNet(use_batch_norm=False)\n",
    "\n",
    "print(net_batchnorm)\n",
    "print()\n",
    "print(net_no_norm)"
   ]
  },
  {
   "cell_type": "code",
   "execution_count": 35,
   "id": "85f366a5",
   "metadata": {},
   "outputs": [],
   "source": [
    "def train(model, n_epochs=10):\n",
    "    # number of epochs to train the model\n",
    "    n_epochs = n_epochs\n",
    "    # track losses\n",
    "    losses = []\n",
    "        \n",
    "    # optimization strategy \n",
    "    # specify loss function (categorical cross-entropy)\n",
    "    criterion = nn.CrossEntropyLoss()\n",
    "\n",
    "    # specify optimizer (stochastic gradient descent) and learning rate = 0.01\n",
    "    optimizer = torch.optim.SGD(model.parameters(), lr=0.01)\n",
    "\n",
    "    # set the model to training mode\n",
    "    model.train()\n",
    "    \n",
    "    for epoch in range(1, n_epochs+1):\n",
    "        # monitor training loss\n",
    "        train_loss = 0.0\n",
    "\n",
    "        ###################\n",
    "        # train the model #\n",
    "        ###################\n",
    "        batch_count = 0\n",
    "        for batch_idx, (data, target) in enumerate(train_loader):\n",
    "            # clear the gradients of all optimized variables\n",
    "            optimizer.zero_grad()\n",
    "            # forward pass: compute predicted outputs by passing inputs to the model\n",
    "            output = model(data)\n",
    "            # calculate the loss\n",
    "            loss = criterion(output, target)\n",
    "            # backward pass: compute gradient of the loss with respect to model parameters\n",
    "            loss.backward()\n",
    "            # perform a single optimization step (parameter update)\n",
    "            optimizer.step()\n",
    "            # update average training loss\n",
    "            train_loss += loss.item() # add up avg batch loss\n",
    "            batch_count +=1                \n",
    "\n",
    "        # print training statistics \n",
    "        losses.append(train_loss/batch_count)\n",
    "        print('Epoch: {} \\tTraining Loss: {:.6f}'.format(\n",
    "            epoch, \n",
    "            train_loss/batch_count))\n",
    "    \n",
    "    # return all recorded batch losses\n",
    "    return losses      "
   ]
  },
  {
   "cell_type": "code",
   "execution_count": 37,
   "id": "2ffc8280",
   "metadata": {},
   "outputs": [
    {
     "name": "stdout",
     "output_type": "stream",
     "text": [
      "Epoch: 1 \tTraining Loss: 0.391168\n",
      "Epoch: 2 \tTraining Loss: 0.165785\n",
      "Epoch: 3 \tTraining Loss: 0.115549\n",
      "Epoch: 4 \tTraining Loss: 0.086180\n",
      "Epoch: 5 \tTraining Loss: 0.066142\n",
      "Epoch: 6 \tTraining Loss: 0.051552\n",
      "Epoch: 7 \tTraining Loss: 0.040513\n",
      "Epoch: 8 \tTraining Loss: 0.032000\n",
      "Epoch: 9 \tTraining Loss: 0.025399\n",
      "Epoch: 10 \tTraining Loss: 0.020293\n"
     ]
    }
   ],
   "source": [
    "losses_batchnorm = train(net_batchnorm)"
   ]
  },
  {
   "cell_type": "code",
   "execution_count": 38,
   "id": "c04977f9",
   "metadata": {},
   "outputs": [
    {
     "name": "stdout",
     "output_type": "stream",
     "text": [
      "Epoch: 1 \tTraining Loss: 1.627025\n",
      "Epoch: 2 \tTraining Loss: 0.526522\n",
      "Epoch: 3 \tTraining Loss: 0.387258\n",
      "Epoch: 4 \tTraining Loss: 0.338334\n",
      "Epoch: 5 \tTraining Loss: 0.308756\n",
      "Epoch: 6 \tTraining Loss: 0.286501\n",
      "Epoch: 7 \tTraining Loss: 0.267729\n",
      "Epoch: 8 \tTraining Loss: 0.250841\n",
      "Epoch: 9 \tTraining Loss: 0.235325\n",
      "Epoch: 10 \tTraining Loss: 0.221022\n"
     ]
    }
   ],
   "source": [
    "losses_no_norm = train(net_no_norm)"
   ]
  },
  {
   "cell_type": "code",
   "execution_count": 40,
   "id": "d567d606",
   "metadata": {},
   "outputs": [
    {
     "data": {
      "text/plain": [
       "<matplotlib.legend.Legend at 0x7fb343520550>"
      ]
     },
     "execution_count": 40,
     "metadata": {},
     "output_type": "execute_result"
    },
    {
     "data": {
      "image/png": "[encoded data removed]",
      "text/plain": [
       "<Figure size 1200x800 with 1 Axes>"
      ]
     },
     "metadata": {},
     "output_type": "display_data"
    }
   ],
   "source": [
    "# compare\n",
    "fig, ax = plt.subplots(figsize=(12,8))\n",
    "#losses_batchnorm = np.array(losses_batchnorm)\n",
    "#losses_no_norm = np.array(losses_no_norm)\n",
    "plt.plot(losses_batchnorm, label='Using batchnorm', alpha=0.5)\n",
    "plt.plot(losses_no_norm, label='No norm', alpha=0.5)\n",
    "plt.title(\"Training Losses\")\n",
    "plt.legend()"
   ]
  },
  {
   "cell_type": "code",
   "execution_count": 41,
   "id": "f626cfe7",
   "metadata": {},
   "outputs": [],
   "source": [
    "def test(model, train):\n",
    "    # initialize vars to monitor test loss and accuracy\n",
    "    class_correct = list(0. for i in range(10))\n",
    "    class_total = list(0. for i in range(10))\n",
    "    test_loss = 0.0\n",
    "\n",
    "    # set model to train or evaluation mode\n",
    "    # just to see the difference in behavior\n",
    "    if(train==True):\n",
    "        model.train()\n",
    "    if(train==False):\n",
    "        model.eval()\n",
    "    \n",
    "    # loss criterion\n",
    "    criterion = nn.CrossEntropyLoss()\n",
    "    \n",
    "    for batch_idx, (data, target) in enumerate(test_loader):\n",
    "        batch_size = data.size(0)\n",
    "        # forward pass: compute predicted outputs by passing inputs to the model\n",
    "        output = model(data)\n",
    "        # calculate the loss\n",
    "        loss = criterion(output, target)\n",
    "        # update average test loss \n",
    "        test_loss += loss.item()*batch_size\n",
    "        # convert output probabilities to predicted class\n",
    "        _, pred = torch.max(output, 1)\n",
    "        # compare predictions to true label\n",
    "        correct = np.squeeze(pred.eq(target.data.view_as(pred)))\n",
    "        # calculate test accuracy for each object class\n",
    "        for i in range(batch_size):\n",
    "            label = target.data[i]\n",
    "            class_correct[label] += correct[i].item()\n",
    "            class_total[label] += 1\n",
    "\n",
    "    print('Test Loss: {:.6f}\\n'.format(test_loss/len(test_loader.dataset)))\n",
    "\n",
    "    for i in range(10):\n",
    "        if class_total[i] > 0:\n",
    "            print('Test Accuracy of %5s: %2d%% (%2d/%2d)' % (\n",
    "                str(i), 100 * class_correct[i] / class_total[i],\n",
    "                np.sum(class_correct[i]), np.sum(class_total[i])))\n",
    "        else:\n",
    "            print('Test Accuracy of %5s: N/A (no training examples)' % (classes[i]))\n",
    "\n",
    "    print('\\nTest Accuracy (Overall): %2d%% (%2d/%2d)' % (\n",
    "        100. * np.sum(class_correct) / np.sum(class_total),\n",
    "        np.sum(class_correct), np.sum(class_total)))"
   ]
  },
  {
   "cell_type": "code",
   "execution_count": 42,
   "id": "b8d4e665",
   "metadata": {},
   "outputs": [
    {
     "name": "stdout",
     "output_type": "stream",
     "text": [
      "Test Loss: 0.083724\n",
      "\n",
      "Test Accuracy of     0: 98% (968/980)\n",
      "Test Accuracy of     1: 99% (1125/1135)\n",
      "Test Accuracy of     2: 96% (1000/1032)\n",
      "Test Accuracy of     3: 97% (982/1010)\n",
      "Test Accuracy of     4: 97% (957/982)\n",
      "Test Accuracy of     5: 97% (871/892)\n",
      "Test Accuracy of     6: 97% (934/958)\n",
      "Test Accuracy of     7: 97% (1000/1028)\n",
      "Test Accuracy of     8: 97% (948/974)\n",
      "Test Accuracy of     9: 96% (972/1009)\n",
      "\n",
      "Test Accuracy (Overall): 97% (9757/10000)\n"
     ]
    }
   ],
   "source": [
    "test(net_batchnorm, train=True)"
   ]
  },
  {
   "cell_type": "code",
   "execution_count": 43,
   "id": "f4d014f6",
   "metadata": {},
   "outputs": [
    {
     "name": "stdout",
     "output_type": "stream",
     "text": [
      "Test Loss: 0.072316\n",
      "\n",
      "Test Accuracy of     0: 98% (970/980)\n",
      "Test Accuracy of     1: 98% (1123/1135)\n",
      "Test Accuracy of     2: 97% (1006/1032)\n",
      "Test Accuracy of     3: 97% (989/1010)\n",
      "Test Accuracy of     4: 97% (954/982)\n",
      "Test Accuracy of     5: 98% (876/892)\n",
      "Test Accuracy of     6: 97% (937/958)\n",
      "Test Accuracy of     7: 96% (993/1028)\n",
      "Test Accuracy of     8: 96% (939/974)\n",
      "Test Accuracy of     9: 97% (986/1009)\n",
      "\n",
      "Test Accuracy (Overall): 97% (9773/10000)\n"
     ]
    }
   ],
   "source": [
    "test(net_batchnorm, train=False)"
   ]
  },
  {
   "cell_type": "code",
   "execution_count": 44,
   "id": "88185fe5",
   "metadata": {},
   "outputs": [
    {
     "name": "stdout",
     "output_type": "stream",
     "text": [
      "Test Loss: 0.212562\n",
      "\n",
      "Test Accuracy of     0: 98% (965/980)\n",
      "Test Accuracy of     1: 98% (1114/1135)\n",
      "Test Accuracy of     2: 90% (937/1032)\n",
      "Test Accuracy of     3: 93% (942/1010)\n",
      "Test Accuracy of     4: 93% (916/982)\n",
      "Test Accuracy of     5: 91% (816/892)\n",
      "Test Accuracy of     6: 95% (911/958)\n",
      "Test Accuracy of     7: 92% (955/1028)\n",
      "Test Accuracy of     8: 90% (885/974)\n",
      "Test Accuracy of     9: 93% (941/1009)\n",
      "\n",
      "Test Accuracy (Overall): 93% (9382/10000)\n"
     ]
    }
   ],
   "source": [
    "test(net_no_norm, train=False)"
   ]
  }
 ],
 "metadata": {
  "kernelspec": {
   "display_name": "Python 3 (ipykernel)",
   "language": "python",
   "name": "python3"
  },
  "language_info": {
   "codemirror_mode": {
    "name": "ipython",
    "version": 3
   },
   "file_extension": ".py",
   "mimetype": "text/x-python",
   "name": "python",
   "nbconvert_exporter": "python",
   "pygments_lexer": "ipython3",
   "version": "3.11.3"
  }
 },
 "nbformat": 4,
 "nbformat_minor": 5
}
