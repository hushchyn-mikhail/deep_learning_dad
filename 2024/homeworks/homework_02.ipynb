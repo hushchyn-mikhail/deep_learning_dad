{
  "nbformat": 4,
  "nbformat_minor": 0,
  "metadata": {
    "colab": {
      "provenance": [],
      "gpuType": "T4"
    },
    "kernelspec": {
      "name": "python3",
      "display_name": "Python 3"
    },
    "language_info": {
      "name": "python"
    },
    "accelerator": "GPU",
    "widgets": {
      "application/vnd.jupyter.widget-state+json": {
        "c743a822ea88493d8e3dd59391309349": {
          "model_module": "@jupyter-widgets/controls",
          "model_name": "HBoxModel",
          "model_module_version": "1.5.0",
          "state": {
            "_dom_classes": [],
            "_model_module": "@jupyter-widgets/controls",
            "_model_module_version": "1.5.0",
            "_model_name": "HBoxModel",
            "_view_count": null,
            "_view_module": "@jupyter-widgets/controls",
            "_view_module_version": "1.5.0",
            "_view_name": "HBoxView",
            "box_style": "",
            "children": [
              "IPY_MODEL_94b8ef7854ee485e9c5dba6ad4f3c48c",
              "IPY_MODEL_d0b5c846c70d4170a5e06bac52db26e2",
              "IPY_MODEL_9bc5f73caf0f407f8f0ba00c015e7523"
            ],
            "layout": "IPY_MODEL_d9f039fd4f754be7ab9a00f7c4d32901"
          }
        },
        "94b8ef7854ee485e9c5dba6ad4f3c48c": {
          "model_module": "@jupyter-widgets/controls",
          "model_name": "HTMLModel",
          "model_module_version": "1.5.0",
          "state": {
            "_dom_classes": [],
            "_model_module": "@jupyter-widgets/controls",
            "_model_module_version": "1.5.0",
            "_model_name": "HTMLModel",
            "_view_count": null,
            "_view_module": "@jupyter-widgets/controls",
            "_view_module_version": "1.5.0",
            "_view_name": "HTMLView",
            "description": "",
            "description_tooltip": null,
            "layout": "IPY_MODEL_8e79609630ad4adabbd4833d4f180de3",
            "placeholder": "​",
            "style": "IPY_MODEL_14e74ad928224fa19697f988f3889085",
            "value": " 92%"
          }
        },
        "d0b5c846c70d4170a5e06bac52db26e2": {
          "model_module": "@jupyter-widgets/controls",
          "model_name": "FloatProgressModel",
          "model_module_version": "1.5.0",
          "state": {
            "_dom_classes": [],
            "_model_module": "@jupyter-widgets/controls",
            "_model_module_version": "1.5.0",
            "_model_name": "FloatProgressModel",
            "_view_count": null,
            "_view_module": "@jupyter-widgets/controls",
            "_view_module_version": "1.5.0",
            "_view_name": "ProgressView",
            "bar_style": "",
            "description": "",
            "description_tooltip": null,
            "layout": "IPY_MODEL_65c300861a74420b88ec27d513a85b6d",
            "max": 25,
            "min": 0,
            "orientation": "horizontal",
            "style": "IPY_MODEL_b91940d586904ab3beead44e28426367",
            "value": 23
          }
        },
        "9bc5f73caf0f407f8f0ba00c015e7523": {
          "model_module": "@jupyter-widgets/controls",
          "model_name": "HTMLModel",
          "model_module_version": "1.5.0",
          "state": {
            "_dom_classes": [],
            "_model_module": "@jupyter-widgets/controls",
            "_model_module_version": "1.5.0",
            "_model_name": "HTMLModel",
            "_view_count": null,
            "_view_module": "@jupyter-widgets/controls",
            "_view_module_version": "1.5.0",
            "_view_name": "HTMLView",
            "description": "",
            "description_tooltip": null,
            "layout": "IPY_MODEL_1ced16e62568401aafd8485155d272fd",
            "placeholder": "​",
            "style": "IPY_MODEL_865e42ae6b9e4c109a77b1628bb1d1d7",
            "value": " 23/25 [3:40:15&lt;18:54, 567.48s/it]"
          }
        },
        "d9f039fd4f754be7ab9a00f7c4d32901": {
          "model_module": "@jupyter-widgets/base",
          "model_name": "LayoutModel",
          "model_module_version": "1.2.0",
          "state": {
            "_model_module": "@jupyter-widgets/base",
            "_model_module_version": "1.2.0",
            "_model_name": "LayoutModel",
            "_view_count": null,
            "_view_module": "@jupyter-widgets/base",
            "_view_module_version": "1.2.0",
            "_view_name": "LayoutView",
            "align_content": null,
            "align_items": null,
            "align_self": null,
            "border": null,
            "bottom": null,
            "display": null,
            "flex": null,
            "flex_flow": null,
            "grid_area": null,
            "grid_auto_columns": null,
            "grid_auto_flow": null,
            "grid_auto_rows": null,
            "grid_column": null,
            "grid_gap": null,
            "grid_row": null,
            "grid_template_areas": null,
            "grid_template_columns": null,
            "grid_template_rows": null,
            "height": null,
            "justify_content": null,
            "justify_items": null,
            "left": null,
            "margin": null,
            "max_height": null,
            "max_width": null,
            "min_height": null,
            "min_width": null,
            "object_fit": null,
            "object_position": null,
            "order": null,
            "overflow": null,
            "overflow_x": null,
            "overflow_y": null,
            "padding": null,
            "right": null,
            "top": null,
            "visibility": null,
            "width": null
          }
        },
        "8e79609630ad4adabbd4833d4f180de3": {
          "model_module": "@jupyter-widgets/base",
          "model_name": "LayoutModel",
          "model_module_version": "1.2.0",
          "state": {
            "_model_module": "@jupyter-widgets/base",
            "_model_module_version": "1.2.0",
            "_model_name": "LayoutModel",
            "_view_count": null,
            "_view_module": "@jupyter-widgets/base",
            "_view_module_version": "1.2.0",
            "_view_name": "LayoutView",
            "align_content": null,
            "align_items": null,
            "align_self": null,
            "border": null,
            "bottom": null,
            "display": null,
            "flex": null,
            "flex_flow": null,
            "grid_area": null,
            "grid_auto_columns": null,
            "grid_auto_flow": null,
            "grid_auto_rows": null,
            "grid_column": null,
            "grid_gap": null,
            "grid_row": null,
            "grid_template_areas": null,
            "grid_template_columns": null,
            "grid_template_rows": null,
            "height": null,
            "justify_content": null,
            "justify_items": null,
            "left": null,
            "margin": null,
            "max_height": null,
            "max_width": null,
            "min_height": null,
            "min_width": null,
            "object_fit": null,
            "object_position": null,
            "order": null,
            "overflow": null,
            "overflow_x": null,
            "overflow_y": null,
            "padding": null,
            "right": null,
            "top": null,
            "visibility": null,
            "width": null
          }
        },
        "14e74ad928224fa19697f988f3889085": {
          "model_module": "@jupyter-widgets/controls",
          "model_name": "DescriptionStyleModel",
          "model_module_version": "1.5.0",
          "state": {
            "_model_module": "@jupyter-widgets/controls",
            "_model_module_version": "1.5.0",
            "_model_name": "DescriptionStyleModel",
            "_view_count": null,
            "_view_module": "@jupyter-widgets/base",
            "_view_module_version": "1.2.0",
            "_view_name": "StyleView",
            "description_width": ""
          }
        },
        "65c300861a74420b88ec27d513a85b6d": {
          "model_module": "@jupyter-widgets/base",
          "model_name": "LayoutModel",
          "model_module_version": "1.2.0",
          "state": {
            "_model_module": "@jupyter-widgets/base",
            "_model_module_version": "1.2.0",
            "_model_name": "LayoutModel",
            "_view_count": null,
            "_view_module": "@jupyter-widgets/base",
            "_view_module_version": "1.2.0",
            "_view_name": "LayoutView",
            "align_content": null,
            "align_items": null,
            "align_self": null,
            "border": null,
            "bottom": null,
            "display": null,
            "flex": null,
            "flex_flow": null,
            "grid_area": null,
            "grid_auto_columns": null,
            "grid_auto_flow": null,
            "grid_auto_rows": null,
            "grid_column": null,
            "grid_gap": null,
            "grid_row": null,
            "grid_template_areas": null,
            "grid_template_columns": null,
            "grid_template_rows": null,
            "height": null,
            "justify_content": null,
            "justify_items": null,
            "left": null,
            "margin": null,
            "max_height": null,
            "max_width": null,
            "min_height": null,
            "min_width": null,
            "object_fit": null,
            "object_position": null,
            "order": null,
            "overflow": null,
            "overflow_x": null,
            "overflow_y": null,
            "padding": null,
            "right": null,
            "top": null,
            "visibility": null,
            "width": null
          }
        },
        "b91940d586904ab3beead44e28426367": {
          "model_module": "@jupyter-widgets/controls",
          "model_name": "ProgressStyleModel",
          "model_module_version": "1.5.0",
          "state": {
            "_model_module": "@jupyter-widgets/controls",
            "_model_module_version": "1.5.0",
            "_model_name": "ProgressStyleModel",
            "_view_count": null,
            "_view_module": "@jupyter-widgets/base",
            "_view_module_version": "1.2.0",
            "_view_name": "StyleView",
            "bar_color": null,
            "description_width": ""
          }
        },
        "1ced16e62568401aafd8485155d272fd": {
          "model_module": "@jupyter-widgets/base",
          "model_name": "LayoutModel",
          "model_module_version": "1.2.0",
          "state": {
            "_model_module": "@jupyter-widgets/base",
            "_model_module_version": "1.2.0",
            "_model_name": "LayoutModel",
            "_view_count": null,
            "_view_module": "@jupyter-widgets/base",
            "_view_module_version": "1.2.0",
            "_view_name": "LayoutView",
            "align_content": null,
            "align_items": null,
            "align_self": null,
            "border": null,
            "bottom": null,
            "display": null,
            "flex": null,
            "flex_flow": null,
            "grid_area": null,
            "grid_auto_columns": null,
            "grid_auto_flow": null,
            "grid_auto_rows": null,
            "grid_column": null,
            "grid_gap": null,
            "grid_row": null,
            "grid_template_areas": null,
            "grid_template_columns": null,
            "grid_template_rows": null,
            "height": null,
            "justify_content": null,
            "justify_items": null,
            "left": null,
            "margin": null,
            "max_height": null,
            "max_width": null,
            "min_height": null,
            "min_width": null,
            "object_fit": null,
            "object_position": null,
            "order": null,
            "overflow": null,
            "overflow_x": null,
            "overflow_y": null,
            "padding": null,
            "right": null,
            "top": null,
            "visibility": null,
            "width": null
          }
        },
        "865e42ae6b9e4c109a77b1628bb1d1d7": {
          "model_module": "@jupyter-widgets/controls",
          "model_name": "DescriptionStyleModel",
          "model_module_version": "1.5.0",
          "state": {
            "_model_module": "@jupyter-widgets/controls",
            "_model_module_version": "1.5.0",
            "_model_name": "DescriptionStyleModel",
            "_view_count": null,
            "_view_module": "@jupyter-widgets/base",
            "_view_module_version": "1.2.0",
            "_view_name": "StyleView",
            "description_width": ""
          }
        }
      }
    }
  },
  "cells": [
    {
      "cell_type": "markdown",
      "source": [
        "# Домашняя работа 2\n",
        "\n",
        "В этой доамшней работе вам предлагается обучить классификатор, распознающий вид блюда по фотографии. Прямо как на семинаре, только больше разной еды!\n",
        "\n",
        " # Home Work 2\n",
        "\n",
        "In this hw assignment you have to train a classifier to distinguish between different food variations. Just like at our practice, but with more foods variety!"
      ],
      "metadata": {
        "id": "mISIBM3XNSzz"
      }
    },
    {
      "cell_type": "markdown",
      "source": [
        "## Но сперва... Теория\n",
        "Необходимо решить теоретические задачи, используя Latex, внутри этого ноутбука\n",
        "## But first... Theory\n",
        "Solve the theoretical problems. Type the solutions here, using Latex"
      ],
      "metadata": {
        "id": "h5_mxHfUOX5I"
      }
    },
    {
      "cell_type": "markdown",
      "source": [
        "### Задача 1 (2 балла)\n",
        "### Problem 1 (2 points)"
      ],
      "metadata": {
        "id": "rCq5ribyPmD_"
      }
    },
    {
      "cell_type": "markdown",
      "source": [
        "Посчитайте результат применения операции свертки с ядром K к матрице X. Параметры свертки следующие: stride=2, dilation=2, padding=1 (паддинг осуществляется нулями).\n",
        "\n",
        "Compute the result of convolution operation with kernel K to a matrix X.\n",
        "Convolution params are: stride=2, dilation=2, padding=1 (padding with zeros)\n",
        "\n",
        "\n",
        "$        X = \\begin{bmatrix}\n",
        "        1 & 0 & -4 & 2 \\\\\n",
        "        5 & 2 & 3 & 0 \\\\\n",
        "        -1 & 0 & 1 & 4 \\\\\n",
        "        0 & -3 & 2 & -1\n",
        "    \\end{bmatrix}\n",
        "    K = \\begin{bmatrix}\n",
        "        2 & 1 \\\\\n",
        "        -1 & -2\n",
        "    \\end{bmatrix}\n",
        "$"
      ],
      "metadata": {
        "id": "BS6DrYvLOdrj"
      }
    },
    {
      "cell_type": "markdown",
      "source": [
        "#### Решение  ================= Solution\n",
        "\n",
        "$E=mc^2$\n"
      ],
      "metadata": {
        "id": "-EdMr5zzPwwd"
      }
    },
    {
      "cell_type": "markdown",
      "source": [
        "### Задача 2 (2 балла)\n",
        "### Problem 2 (2 points)\n",
        "\n",
        "Посчитайте число обучаемых параметров в нейронной сети, архитектура которой выглядит следующим образом:\n",
        "\n",
        "        model = nn.Sequential(\n",
        "            nn.Conv2d(\n",
        "                in_channels=3, out_channels=16, kernel_size=5,\n",
        "                stride=2, padding=0, dilation=1, bias=True\n",
        "            ),\n",
        "            nn.BatchNorm2d(num_features=16),\n",
        "            nn.LeakyReLU(0.1),\n",
        "            nn.Conv2d(\n",
        "                in_channels=16, out_channels=32, kernel_size=5,\n",
        "                stride=1, padding=1, dilation=2, bias=False\n",
        "            ),\n",
        "            nn.BatchNorm2d(num_features=32),\n",
        "            nn.Sigmoid(),\n",
        "        )\n",
        "  "
      ],
      "metadata": {
        "id": "dcvuV5ARPpn-"
      }
    },
    {
      "cell_type": "markdown",
      "source": [
        "#### Решение =================== Solution\n",
        "\n",
        "Вам необходимо расписать решение формулами\n",
        "\n",
        "You need to justify every step"
      ],
      "metadata": {
        "id": "mNpVQDWMQlIx"
      }
    },
    {
      "cell_type": "markdown",
      "source": [
        "### Практическое задание\n",
        "### Practical problem\n",
        "\n",
        "Вам необходимо решить задачу многоклассовой классификации для датасета Food101\n",
        "\n",
        "Solve multicalss classification problem for Food101 dataset"
      ],
      "metadata": {
        "id": "k2CT6EBFZB32"
      }
    },
    {
      "cell_type": "markdown",
      "source": [
        "####  Служебный код"
      ],
      "metadata": {
        "id": "NMNmBosHZZ1a"
      }
    },
    {
      "cell_type": "code",
      "execution_count": 7,
      "metadata": {
        "id": "Oc9bGu6KVnbc"
      },
      "outputs": [],
      "source": [
        "import copy\n",
        "import random\n",
        "import os\n",
        "import shutil\n",
        "import tarfile\n",
        "from urllib.request import urlretrieve\n",
        "\n",
        "import numpy as np\n",
        "import pandas as pd\n",
        "import cv2\n",
        "from tqdm import tqdm\n",
        "\n",
        "import torch\n",
        "import torch.nn as nn\n",
        "import torch.optim as optim\n",
        "import torchvision\n",
        "\n",
        "from torchvision import datasets, transforms, models\n",
        "from torch.utils.data import random_split, DataLoader, Dataset\n",
        "\n",
        "pd.set_option('display.max_colwidth', None)"
      ]
    },
    {
      "cell_type": "code",
      "source": [
        "class TqdmUpTo(tqdm):\n",
        "    def update_to(self, b=1, bsize=1, tsize=None):\n",
        "        if tsize is not None:\n",
        "            self.total = tsize\n",
        "        self.update(b * bsize - self.n)\n",
        "\n",
        "\n",
        "def download_url(url, filepath):\n",
        "    directory = os.path.dirname(os.path.abspath(filepath))\n",
        "    os.makedirs(directory, exist_ok=True)\n",
        "    if os.path.exists(filepath):\n",
        "        print(\"Filepath already exists. Skipping download.\")\n",
        "        return\n",
        "\n",
        "    with TqdmUpTo(unit=\"B\", unit_scale=True, unit_divisor=1024, miniters=1, desc=os.path.basename(filepath)) as t:\n",
        "        urlretrieve(url, filename=filepath, reporthook=t.update_to, data=None)\n",
        "        t.total = t.n\n",
        "\n",
        "\n",
        "def extract_archive(filepath):\n",
        "    extract_dir = os.path.dirname(os.path.abspath(filepath))\n",
        "    shutil.unpack_archive(filepath, extract_dir)"
      ],
      "metadata": {
        "id": "-JqiFGF0WIpO"
      },
      "execution_count": 2,
      "outputs": []
    },
    {
      "cell_type": "code",
      "source": [
        "url = \"http://data.vision.ee.ethz.ch/cvl/food-101.tar.gz\""
      ],
      "metadata": {
        "id": "H2KjobDKX8aN"
      },
      "execution_count": 3,
      "outputs": []
    },
    {
      "cell_type": "code",
      "source": [
        "dataset_directory = os.path.join(os.environ[\"HOME\"], \"datasets/food101\")"
      ],
      "metadata": {
        "id": "39OM_E4xYAsM"
      },
      "execution_count": 4,
      "outputs": []
    },
    {
      "cell_type": "code",
      "source": [
        "filepath = os.path.join(dataset_directory, \"food101.tar.gz\")\n",
        "download_url(\n",
        "    url=url,\n",
        "    filepath=filepath,\n",
        ")\n",
        "%time extract_archive(filepath)"
      ],
      "metadata": {
        "colab": {
          "base_uri": "https://localhost:8080/"
        },
        "id": "-pT_pAf3YBjR",
        "outputId": "226ef6e7-125b-47bb-84ab-b49db12bf40b"
      },
      "execution_count": 5,
      "outputs": [
        {
          "output_type": "stream",
          "name": "stderr",
          "text": [
            "food101.tar.gz: 100%|██████████| 4.65G/4.65G [04:58<00:00, 16.8MB/s]\n"
          ]
        },
        {
          "output_type": "stream",
          "name": "stdout",
          "text": [
            "CPU times: user 41.6 s, sys: 19.4 s, total: 1min 1s\n",
            "Wall time: 1min 7s\n"
          ]
        }
      ]
    },
    {
      "cell_type": "markdown",
      "source": [
        "### Dataloaders (1 point)\n"
      ],
      "metadata": {
        "id": "qA3ihzlPZd9t"
      }
    },
    {
      "cell_type": "code",
      "source": [
        "NUM_WORKERS = os.cpu_count()\n",
        "\n",
        "\n",
        "def split_data(dataset, val_size=0.2, seed=42):\n",
        "    \"\"\"\n",
        "    \"\"\"\n",
        "    generator = torch.Generator().manual_seed(seed)\n",
        "    train_data, test_data = random_split(dataset, [1 - val_size, val_size], generator=generator)\n",
        "\n",
        "    return train_data, test_data\n",
        "\n",
        "\n",
        "def create_dataloaders(\n",
        "    data_dir: str,\n",
        "    transform: transforms.Compose,\n",
        "    batch_size: int,\n",
        "    num_workers: int=NUM_WORKERS\n",
        "):\n",
        "  \"\"\"Creates training and testing DataLoaders.\n",
        "\n",
        "  Takes in a training directory and testing directory path and turns\n",
        "  them into PyTorch Datasets and then into PyTorch DataLoaders.\n",
        "\n",
        "  Args:\n",
        "    train_dir: Path to training directory.\n",
        "    test_dir: Path to testing directory.\n",
        "    transform: torchvision transforms to perform on training and testing data.\n",
        "    batch_size: Number of samples per batch in each of the DataLoaders.\n",
        "    num_workers: An integer for number of workers per DataLoader.\n",
        "\n",
        "  Returns:\n",
        "    A tuple of (train_dataloader, test_dataloader, class_names).\n",
        "    Where class_names is a list of the target classes.\n",
        "    Example usage:\n",
        "      train_dataloader, test_dataloader, class_names = \\\n",
        "        = create_dataloaders(train_dir=path/to/train_dir,\n",
        "                             test_dir=path/to/test_dir,\n",
        "                             transform=some_transform,\n",
        "                             batch_size=32,\n",
        "                             num_workers=4)\n",
        "  \"\"\"\n",
        "  # Используйте ImageFolder для создания датасета или напишите свой класс\n",
        "  dataset =  # Your code here #\n",
        "\n",
        "  train_set, test_set = split_data(dataset)\n",
        "\n",
        "  # Get class names\n",
        "  class_names =  # Your code here #\n",
        "\n",
        "  # Turn images into data loaders\n",
        "  train_dataloader = DataLoader(\n",
        "\n",
        "  )\n",
        "  test_dataloader = DataLoader(\n",
        "      test_data,\n",
        "      batch_size=batch_size,\n",
        "      shuffle=False,\n",
        "      num_workers=num_workers,\n",
        "      pin_memory=True,\n",
        "  )\n",
        "\n",
        "  return train_dataloader, test_dataloader, class_names"
      ],
      "metadata": {
        "id": "5xpG7szhbAsV"
      },
      "execution_count": 8,
      "outputs": []
    },
    {
      "cell_type": "code",
      "source": [
        "try:\n",
        "    from torchinfo import summary\n",
        "except:\n",
        "    print(\"[INFO] Couldn't find torchinfo... installing it.\")\n",
        "    !pip install -q torchinfo\n",
        "    from torchinfo import summary"
      ],
      "metadata": {
        "colab": {
          "base_uri": "https://localhost:8080/"
        },
        "id": "DgoIyH66be1t",
        "outputId": "8a7ccd9e-2b29-4bc5-8f1f-ce109ff3c9be"
      },
      "execution_count": 6,
      "outputs": [
        {
          "output_type": "stream",
          "name": "stdout",
          "text": [
            "[INFO] Couldn't find torchinfo... installing it.\n"
          ]
        }
      ]
    },
    {
      "cell_type": "code",
      "source": [
        "from pathlib import Path\n",
        "\n",
        "data_path = Path(dataset_directory)\n",
        "image_path = data_path / \"food-101\" / \"images\""
      ],
      "metadata": {
        "id": "JBqhTRdwbhEY"
      },
      "execution_count": 7,
      "outputs": []
    },
    {
      "cell_type": "markdown",
      "source": [
        " Опишите трасформы. Можно добавить аугментаций для лучшего результата.\n",
        "\n",
        " Можете использовать библиотеку  Albumentation или torchvision\n",
        "\n",
        "  Не забудьте отмасштабировать размер картинов и нормализовать их"
      ],
      "metadata": {
        "id": "orGmwVF8bhrH"
      }
    },
    {
      "cell_type": "code",
      "source": [
        "# Create a transforms pipeline manually (required for torchvision < 0.13)\n",
        "manual_transforms = transforms.Compose([\n",
        "    #YOUR CODE HERE#, # 1. Reshape data HxW to fit moel\n",
        "    #YOUR CODE HERE#, # 2. Turn image values to between 0 & 1\n",
        "    transforms.Normalize(mean=[0.485, 0.456, 0.406], # 3. A mean of [0.485, 0.456, 0.406] (across each colour channel)\n",
        "                         std=[0.229, 0.224, 0.225]) # 4. A standard deviation of [0.229, 0.224, 0.225] (across each colour channel),\n",
        "])\n"
      ],
      "metadata": {
        "id": "1Inhkzilcy00"
      },
      "execution_count": null,
      "outputs": []
    },
    {
      "cell_type": "code",
      "source": [
        "train_data, test_data = split_data(train_data)"
      ],
      "metadata": {
        "id": "bKN6vif3dZGE"
      },
      "execution_count": null,
      "outputs": []
    },
    {
      "cell_type": "code",
      "source": [
        "batch_size = 16\n",
        "num_workers = 2"
      ],
      "metadata": {
        "id": "HpR0aWHzewJb"
      },
      "execution_count": null,
      "outputs": []
    },
    {
      "cell_type": "markdown",
      "source": [
        " #### Train function (2 points)\n",
        "\n",
        "\n",
        "Напишите функцию трейна. Мы делали нечто похожее на семинаре"
      ],
      "metadata": {
        "id": "uUMcR99ldWAH"
      }
    },
    {
      "cell_type": "code",
      "source": [
        "import torch\n",
        "\n",
        "from tqdm.auto import tqdm\n",
        "from typing import Dict, List, Tuple\n",
        "\n",
        "def train_step(model: torch.nn.Module,\n",
        "               dataloader: torch.utils.data.DataLoader,\n",
        "               loss_fn: torch.nn.Module,\n",
        "               optimizer: torch.optim.Optimizer,\n",
        "               device: torch.device) -> Tuple[float, float]:\n",
        "    \"\"\"Trains a PyTorch model for a single epoch.\n",
        "\n",
        "    Turns a target PyTorch model to training mode and then\n",
        "    runs through all of the required training steps (forward\n",
        "    pass, loss calculation, optimizer step).\n",
        "\n",
        "    Args:\n",
        "    model: A PyTorch model to be trained.\n",
        "    dataloader: A DataLoader instance for the model to be trained on.\n",
        "    loss_fn: A PyTorch loss function to minimize.\n",
        "    optimizer: A PyTorch optimizer to help minimize the loss function.\n",
        "    device: A target device to compute on (e.g. \"cuda\" or \"cpu\").\n",
        "\n",
        "    Returns:\n",
        "    A tuple of training loss and training accuracy metrics.\n",
        "    In the form (train_loss, train_accuracy). For example:\n",
        "\n",
        "    (0.1112, 0.8743)\n",
        "    \"\"\"\n",
        "    # Put model in train mode\n",
        "    # YOUR CODE HERE #\n",
        "\n",
        "    # Setup train loss and train accuracy values\n",
        "    # YOUR CODE HERE #\n",
        "\n",
        "    # Loop through data loader data batches\n",
        "    for batch, (X, y) in enumerate(dataloader):\n",
        "        # Send data to target device\n",
        "        # YOUR CODE HERE #\n",
        "\n",
        "        # 1. Forward pass\n",
        "        # YOUR CODE HERE #\n",
        "\n",
        "        # 2. Calculate  and accumulate loss\n",
        "        # YOUR CODE HERE #\n",
        "\n",
        "        # 3. Optimizer zero grad\n",
        "        # YOUR CODE HERE #\n",
        "\n",
        "        # 4. Loss backward\n",
        "        # YOUR CODE HERE #\n",
        "\n",
        "        # 5. Optimizer step\n",
        "        # YOUR CODE HERE #\n",
        "\n",
        "        # Calculate and accumulate accuracy metric across all batches\n",
        "        # YOUR CODE HERE #\n",
        "        pass\n",
        "    # Adjust metrics to get average loss and accuracy per batch\n",
        "    # YOUR CODE HERE #\n",
        "    return\n",
        "\n",
        "def test_step(model: torch.nn.Module,\n",
        "              dataloader: torch.utils.data.DataLoader,\n",
        "              loss_fn: torch.nn.Module,\n",
        "              device: torch.device) -> Tuple[float, float]:\n",
        "    \"\"\"Tests a PyTorch model for a single epoch.\n",
        "\n",
        "    Turns a target PyTorch model to \"eval\" mode and then performs\n",
        "    a forward pass on a testing dataset.\n",
        "\n",
        "    Args:\n",
        "    model: A PyTorch model to be tested.\n",
        "    dataloader: A DataLoader instance for the model to be tested on.\n",
        "    loss_fn: A PyTorch loss function to calculate loss on the test data.\n",
        "    device: A target device to compute on (e.g. \"cuda\" or \"cpu\").\n",
        "\n",
        "    Returns:\n",
        "    A tuple of testing loss and testing accuracy metrics.\n",
        "    In the form (test_loss, test_accuracy). For example:\n",
        "\n",
        "    (0.0223, 0.8985)\n",
        "    \"\"\"\n",
        "    # Put model in eval mode\n",
        "    model.eval()\n",
        "\n",
        "    # Do the rest\n",
        "    # Hint: torch.no_grad() / torch.inference_mode()\n",
        "\n",
        "    return test_loss, test_acc\n",
        "\n",
        "def train(model: torch.nn.Module,\n",
        "          train_dataloader: torch.utils.data.DataLoader,\n",
        "          test_dataloader: torch.utils.data.DataLoader,\n",
        "          optimizer: torch.optim.Optimizer,\n",
        "          loss_fn: torch.nn.Module,\n",
        "          epochs: int,\n",
        "          device: torch.device) -> Dict[str, List]:\n",
        "    \"\"\"Trains and tests a PyTorch model.\n",
        "\n",
        "    Passes a target PyTorch models through train_step() and test_step()\n",
        "    functions for a number of epochs, training and testing the model\n",
        "    in the same epoch loop.\n",
        "\n",
        "    Calculates, prints and stores evaluation metrics throughout.\n",
        "\n",
        "    Args:\n",
        "    model: A PyTorch model to be trained and tested.\n",
        "    train_dataloader: A DataLoader instance for the model to be trained on.\n",
        "    test_dataloader: A DataLoader instance for the model to be tested on.\n",
        "    optimizer: A PyTorch optimizer to help minimize the loss function.\n",
        "    loss_fn: A PyTorch loss function to calculate loss on both datasets.\n",
        "    epochs: An integer indicating how many epochs to train for.\n",
        "    device: A target device to compute on (e.g. \"cuda\" or \"cpu\").\n",
        "\n",
        "    Returns:\n",
        "    A dictionary of training and testing loss as well as training and\n",
        "    testing accuracy metrics. Each metric has a value in a list for\n",
        "    each epoch.\n",
        "    In the form: {train_loss: [...],\n",
        "              train_acc: [...],\n",
        "              test_loss: [...],\n",
        "              test_acc: [...]}\n",
        "    For example if training for epochs=2:\n",
        "             {train_loss: [2.0616, 1.0537],\n",
        "              train_acc: [0.3945, 0.3945],\n",
        "              test_loss: [1.2641, 1.5706],\n",
        "              test_acc: [0.3400, 0.2973]}\n",
        "    \"\"\"\n",
        "    # Create empty results dictionary\n",
        "    results = {\"train_loss\": [],\n",
        "               \"train_acc\": [],\n",
        "               \"test_loss\": [],\n",
        "               \"test_acc\": []\n",
        "    }\n",
        "\n",
        "    # Make sure model on target device\n",
        "    # YOUR CODE HERE#\n",
        "\n",
        "    # Loop through training and testing steps for a number of epochs\n",
        "    for epoch in tqdm(range(epochs)):\n",
        "        train_loss, train_acc = train_step(model=model,\n",
        "                                          dataloader=train_dataloader,\n",
        "                                          loss_fn=loss_fn,\n",
        "                                          optimizer=optimizer,\n",
        "                                          device=device)\n",
        "        test_loss, test_acc = test_step(model=model,\n",
        "          dataloader=test_dataloader,\n",
        "          loss_fn=loss_fn,\n",
        "          device=device)\n",
        "\n",
        "        # Print out what's happening\n",
        "        print(\n",
        "          f\"Epoch: {epoch+1} | \"\n",
        "          f\"train_loss: {train_loss:.4f} | \"\n",
        "          f\"train_acc: {train_acc:.4f} | \"\n",
        "          f\"test_loss: {test_loss:.4f} | \"\n",
        "          f\"test_acc: {test_acc:.4f}\"\n",
        "        )\n",
        "\n",
        "        # Update results dictionary\n",
        "\n",
        "        # YOUR #\n",
        "        # GOES #\n",
        "        # CODE #\n",
        "        # HERE #\n",
        "\n",
        "\n",
        "        torch.save({\n",
        "                'epoch': epochs,\n",
        "                'model_state_dict': model.state_dict(),\n",
        "                'optimizer_state_dict': optimizer.state_dict(),\n",
        "                'loss': loss_fn,\n",
        "                }, f\"{epochs}_iter.pth\")\n",
        "\n",
        "    # Return the filled results at the end of the epochs\n",
        "    return results"
      ],
      "metadata": {
        "id": "ZgSH8ruvfDfI"
      },
      "execution_count": null,
      "outputs": []
    },
    {
      "cell_type": "markdown",
      "source": [
        "Выберете модель из доступных"
      ],
      "metadata": {
        "id": "UnIF3Zk0dxMq"
      }
    },
    {
      "cell_type": "code",
      "source": [
        "model = ###"
      ],
      "metadata": {
        "id": "JFOP2yJAeDjo"
      },
      "execution_count": 11,
      "outputs": []
    },
    {
      "cell_type": "markdown",
      "source": [
        "Заморозьте некоторые слои или обучайте модель целиком"
      ],
      "metadata": {
        "id": "3H0pNUrcdmFC"
      }
    },
    {
      "cell_type": "code",
      "source": [
        "###\n",
        "### Выберете слои, через которые не будут течь градиенты\n",
        "###"
      ],
      "metadata": {
        "id": "7dBd64QIfGso"
      },
      "execution_count": 13,
      "outputs": []
    },
    {
      "cell_type": "markdown",
      "source": [
        "Взглянем на модель"
      ],
      "metadata": {
        "id": "VJwtps5FeNil"
      }
    },
    {
      "cell_type": "code",
      "source": [
        "summary(model,\n",
        "        input_size=(32, 3, 224, 224), # make sure this is \"input_size\", not \"input_shape\" (batch_size, color_channels, height, width)\n",
        "        verbose=0,\n",
        "        col_names=[\"input_size\", \"output_size\", \"num_params\", \"trainable\"],\n",
        "        col_width=20,\n",
        "        row_settings=[\"var_names\"]\n",
        ")"
      ],
      "metadata": {
        "id": "HcrzGeoffLWm"
      },
      "execution_count": null,
      "outputs": []
    },
    {
      "cell_type": "markdown",
      "source": [
        "### Train (1 point)"
      ],
      "metadata": {
        "id": "flL_v1vXeWc8"
      }
    },
    {
      "cell_type": "code",
      "source": [
        "loss_fn = ###\n",
        "optimizer = ###\n",
        "n_epochs = ###"
      ],
      "metadata": {
        "id": "xGIfrEDFfOJP"
      },
      "execution_count": null,
      "outputs": []
    },
    {
      "cell_type": "code",
      "source": [
        "### Получите данные"
      ],
      "metadata": {
        "id": "7mS0ZEsSeoRP"
      },
      "execution_count": null,
      "outputs": []
    },
    {
      "cell_type": "code",
      "source": [
        "device = 'cuda' if torch.cuda.is_available() else 'cpu'\n",
        "device"
      ],
      "metadata": {
        "id": "lDZtXR-dfYVU"
      },
      "execution_count": null,
      "outputs": []
    },
    {
      "cell_type": "code",
      "source": [
        "torch.manual_seed(42)\n",
        "torch.cuda.manual_seed(42)\n",
        "\n",
        "# Start the timer\n",
        "from timeit import default_timer as timer\n",
        "start_time = timer()\n",
        "\n",
        "# Setup training and save the results\n",
        "results = train(model=model,\n",
        "                       train_dataloader=train_dataloader,\n",
        "                       test_dataloader=test_dataloader,\n",
        "                       optimizer=optimizer,\n",
        "                       loss_fn=loss_fn,\n",
        "                       epochs=n_epochs,\n",
        "                       device=device)\n",
        "\n",
        "# End the timer and print out how long it took\n",
        "end_time = timer()\n",
        "print(f\"[INFO] Total training time: {end_time-start_time:.3f} seconds\")\n"
      ],
      "metadata": {
        "colab": {
          "base_uri": "https://localhost:8080/",
          "height": 448,
          "referenced_widgets": [
            "c743a822ea88493d8e3dd59391309349",
            "94b8ef7854ee485e9c5dba6ad4f3c48c",
            "d0b5c846c70d4170a5e06bac52db26e2",
            "9bc5f73caf0f407f8f0ba00c015e7523",
            "d9f039fd4f754be7ab9a00f7c4d32901",
            "8e79609630ad4adabbd4833d4f180de3",
            "14e74ad928224fa19697f988f3889085",
            "65c300861a74420b88ec27d513a85b6d",
            "b91940d586904ab3beead44e28426367",
            "1ced16e62568401aafd8485155d272fd",
            "865e42ae6b9e4c109a77b1628bb1d1d7"
          ]
        },
        "id": "_-ePldHBfWhQ",
        "outputId": "47e16699-64f7-483a-9576-f04d4bd5c180"
      },
      "execution_count": null,
      "outputs": [
        {
          "data": {
            "application/vnd.jupyter.widget-view+json": {
              "model_id": "c743a822ea88493d8e3dd59391309349",
              "version_major": 2,
              "version_minor": 0
            },
            "text/plain": [
              "  0%|          | 0/25 [00:00<?, ?it/s]"
            ]
          },
          "metadata": {},
          "output_type": "display_data"
        },
        {
          "output_type": "stream",
          "name": "stdout",
          "text": [
            "Epoch: 1 | train_loss: 2.8539 | train_acc: 0.3367 | test_loss: 37.7076 | test_acc: 0.4315\n",
            "Epoch: 2 | train_loss: 2.4049 | train_acc: 0.4166 | test_loss: 115.2044 | test_acc: 0.4491\n",
            "Epoch: 3 | train_loss: 2.3661 | train_acc: 0.4277 | test_loss: 29.1526 | test_acc: 0.4627\n",
            "Epoch: 4 | train_loss: 2.3404 | train_acc: 0.4317 | test_loss: 16.2154 | test_acc: 0.4657\n",
            "Epoch: 5 | train_loss: 2.3332 | train_acc: 0.4374 | test_loss: 31.5223 | test_acc: 0.4692\n",
            "Epoch: 6 | train_loss: 2.3244 | train_acc: 0.4368 | test_loss: 50.1876 | test_acc: 0.4669\n",
            "Epoch: 7 | train_loss: 2.3165 | train_acc: 0.4391 | test_loss: 22.6020 | test_acc: 0.4756\n",
            "Epoch: 8 | train_loss: 2.3175 | train_acc: 0.4392 | test_loss: 24.2950 | test_acc: 0.4737\n",
            "Epoch: 9 | train_loss: 2.3190 | train_acc: 0.4403 | test_loss: 16.5586 | test_acc: 0.4747\n",
            "Epoch: 10 | train_loss: 2.3211 | train_acc: 0.4400 | test_loss: 91.4348 | test_acc: 0.4768\n",
            "Epoch: 11 | train_loss: 2.3183 | train_acc: 0.4413 | test_loss: 299.1485 | test_acc: 0.4723\n",
            "Epoch: 12 | train_loss: 2.3177 | train_acc: 0.4410 | test_loss: 416.5317 | test_acc: 0.4657\n",
            "Epoch: 13 | train_loss: 2.3172 | train_acc: 0.4398 | test_loss: 25.2714 | test_acc: 0.4697\n",
            "Epoch: 14 | train_loss: 2.3163 | train_acc: 0.4425 | test_loss: 18.2392 | test_acc: 0.4831\n",
            "Epoch: 15 | train_loss: 2.3137 | train_acc: 0.4430 | test_loss: 197.4650 | test_acc: 0.4745\n",
            "Epoch: 16 | train_loss: 2.3191 | train_acc: 0.4428 | test_loss: 27.8532 | test_acc: 0.4766\n",
            "Epoch: 17 | train_loss: 2.3219 | train_acc: 0.4416 | test_loss: 99.8708 | test_acc: 0.4702\n",
            "Epoch: 18 | train_loss: 2.3207 | train_acc: 0.4421 | test_loss: 98.9780 | test_acc: 0.4756\n",
            "Epoch: 19 | train_loss: 2.3226 | train_acc: 0.4409 | test_loss: 50.0742 | test_acc: 0.4785\n",
            "Epoch: 20 | train_loss: 2.3176 | train_acc: 0.4421 | test_loss: 24.6476 | test_acc: 0.4838\n",
            "Epoch: 21 | train_loss: 2.3231 | train_acc: 0.4396 | test_loss: 18.3696 | test_acc: 0.4828\n",
            "Epoch: 22 | train_loss: 2.3211 | train_acc: 0.4410 | test_loss: 147.0299 | test_acc: 0.4753\n",
            "Epoch: 23 | train_loss: 2.3183 | train_acc: 0.4437 | test_loss: 203.4593 | test_acc: 0.4701\n"
          ]
        }
      ]
    },
    {
      "cell_type": "markdown",
      "source": [
        "### Results (2 points in total)\n",
        "Отрисуйте графики лосса для трейна и валидации\n",
        "\n",
        "Продемонстрируйте работу сетки на каких-нибудь картинках. Помните, что для тестирования лучше иметь отдельный тестовый сет. Для этого либо сами, либо с помощью кода, который был на прошлом семинаре, скачайте несколько фотографий с едой и попробуйте распознать ее.\n",
        "\n",
        "Либо заранее отложите некоторое кол-во фотографий в тестовую выборку. Из кода должно быть понятно, что вы это сделали.\n",
        "\n",
        "Это, например, можно сделать, поделив data_test на две выборки с помощью функции split_data, которая у вас есть\n",
        "\n",
        "\n"
      ],
      "metadata": {
        "id": "EhBmm1IAesFE"
      }
    },
    {
      "cell_type": "markdown",
      "source": [
        "#### Graphs (1 point)\n",
        "Plot graphs for train and val loss\n",
        "\n",
        "Графикии трейн и вал лосса"
      ],
      "metadata": {
        "id": "JMBMjAmLgKU8"
      }
    },
    {
      "cell_type": "code",
      "source": [],
      "metadata": {
        "id": "ZxajWAGzgQiq"
      },
      "execution_count": null,
      "outputs": []
    },
    {
      "cell_type": "markdown",
      "source": [
        "#### Demonstration (1 point)\n",
        "\n",
        " Покажите качество работы модели, прогнав несколько фотографий через нее"
      ],
      "metadata": {
        "id": "wQxgDiZpgQzP"
      }
    }
  ]
}