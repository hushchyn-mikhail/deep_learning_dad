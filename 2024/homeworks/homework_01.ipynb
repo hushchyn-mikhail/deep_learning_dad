{
 "cells": [
  {
   "cell_type": "markdown",
   "metadata": {},
   "source": [
    "# Домашняя работа 1\n",
    "\n",
    "\n",
    "## Описание\n",
    "\n",
    "В этой домашней работе вы должны применить знания по многослойным нейроным сетям \n",
    "\n",
    "- Для простоты попробуем обучить сначала однослойный перцептрон\n",
    "- Решать будем простую задачу бинарной классификации\n",
    "- Датасет игрушечный -  `load_data()` загружает его\n"
   ]
  },
  {
   "cell_type": "code",
   "execution_count": null,
   "metadata": {
    "ExecuteTime": {
     "end_time": "2021-02-19T10:48:26.387197Z",
     "start_time": "2021-02-19T10:48:24.864492Z"
    }
   },
   "outputs": [],
   "source": [
    "import numpy as np\n",
    "import torch\n",
    "from torch import nn\n",
    "import sklearn\n",
    "from sklearn.datasets import make_gaussian_quantiles\n",
    "from sklearn.model_selection import train_test_split\n",
    "from matplotlib.colors import ListedColormap\n",
    "import matplotlib.pyplot as plt\n",
    "from torch.utils.data import DataLoader"
   ]
  },
  {
   "cell_type": "markdown",
   "metadata": {},
   "source": [
    "## Загрузка данных"
   ]
  },
  {
   "cell_type": "code",
   "execution_count": null,
   "metadata": {
    "ExecuteTime": {
     "end_time": "2021-02-19T10:48:26.392694Z",
     "start_time": "2021-02-19T10:48:26.389535Z"
    }
   },
   "outputs": [],
   "source": [
    "def load_data(n_samples=500):\n",
    "    return make_gaussian_quantiles(\n",
    "        mean=None,\n",
    "        cov=0.7,\n",
    "        n_samples=n_samples,\n",
    "        n_features=2,\n",
    "        n_classes=2,\n",
    "        shuffle=True,\n",
    "        random_state=42,\n",
    "    )"
   ]
  },
  {
   "cell_type": "code",
   "execution_count": null,
   "metadata": {
    "ExecuteTime": {
     "end_time": "2021-02-19T10:48:26.402639Z",
     "start_time": "2021-02-19T10:48:26.395408Z"
    }
   },
   "outputs": [],
   "source": [
    "gaussian_quantiles = load_data()\n",
    "X, y = gaussian_quantiles\n",
    "\n",
    "print(X[:10, :])\n",
    "print(y[:10])\n",
    "\n",
    "X_train, X_test, y_train, y_test = train_test_split(X, y, test_size=0.20, random_state=42)"
   ]
  },
  {
   "cell_type": "code",
   "execution_count": null,
   "metadata": {
    "ExecuteTime": {
     "end_time": "2021-02-19T10:48:27.301994Z",
     "start_time": "2021-02-19T10:48:27.131908Z"
    }
   },
   "outputs": [],
   "source": [
    "cm = plt.cm.RdBu\n",
    "cm_bright = ListedColormap(['#FF0000', '#0000FF'])\n",
    "\n",
    "def plot_data(X, y, xy_labels=True, label=None, **kwargs):\n",
    "    X_1 = X[y == 1]\n",
    "    X_0 = X[y == 0]\n",
    "    if label is not None:\n",
    "        plt.scatter(X_1[:, 0], X_1[:, 1], c=\"blue\", s=30, label=label + \" (yi=1)\", **kwargs)\n",
    "        plt.scatter(X_0[:, 0], X_0[:, 1], c=\"red\", s=30, label=label + \" (yi=0)\", **kwargs)\n",
    "    plt.xticks(())\n",
    "    plt.yticks(())\n",
    "    plt.xlim(X[:, 0].min() - 1, X[:, 0].max() + 1)\n",
    "    plt.ylim(X[:, 1].min() - 1, X[:, 1].max() + 1)\n",
    "\n",
    "plt.figure(figsize=(6, 6))\n",
    "plot_data(X_train, y_train, alpha=0.7, label=\"Train\")\n",
    "plot_data(X_test, y_test, alpha=0.3, label=\"Valid\")\n",
    "plt.legend(fontsize=13)\n",
    "plt.tight_layout()"
   ]
  },
  {
   "cell_type": "markdown",
   "metadata": {},
   "source": [
    "## Класс нейросети\n",
    "\n",
    "Вам необходимо описать простую полносвязную многослойную нейронную сеть "
   ]
  },
  {
   "cell_type": "code",
   "execution_count": null,
   "metadata": {
    "ExecuteTime": {
     "end_time": "2021-02-19T09:25:41.859392Z",
     "start_time": "2021-02-19T09:25:41.854134Z"
    }
   },
   "outputs": [],
   "source": [
    "class NeuralNetwork(nn.Module):\n",
    "    def __init__(self):\n",
    "        ### YOUR CODE HERE\n",
    "        \n",
    "        ### \n",
    "                        \n",
    "    def forward(self, X):\n",
    "        pass\n",
    "    "
   ]
  },
  {
   "cell_type": "markdown",
   "metadata": {},
   "source": [
    "##  Функция обучения сети"
   ]
  },
  {
   "cell_type": "code",
   "execution_count": null,
   "metadata": {},
   "outputs": [],
   "source": [
    "def train(model, loss, opt, \n",
    "          n_epochs, batch_size, lr,\n",
    "          X_train, y_train, X_val=None, y_val=None):\n",
    "    \n",
    "    x_train_loader = DataLoader(X_train, batch_size=batch_size)\n",
    "    y_train_loader = pass\n",
    "    x_val_ld = DataLoader(X_val, batch_size=1) if X_val else None\n",
    "    y_val_ld = DataLoader(<your code here>) if <> else <>\n",
    "    \n",
    "    # Hold the best model\n",
    "    best_acc = - np.inf   # init to negative infinity\n",
    "    best_weights = None\n",
    "    preds_history = []\n",
    "    for epoch in range(n_epochs):\n",
    "        model.train()\n",
    "        with tqdm.tqdm(batch_start, unit=\"batch\", mininterval=0, disable=False) as bar:\n",
    "            bar.set_description(f\"Epoch {epoch}\")\n",
    "            for x, y in x_train_loader, y_train_loader:\n",
    "                #forward\n",
    "                y_pred = <your code here>\n",
    "                loss = <your code here>\n",
    "                # backward pass\n",
    "                ### BEGIN CODE\n",
    "                \n",
    "                ### END  CODE\n",
    "                # update weights\n",
    "                ### BEGIN CODE\n",
    "                \n",
    "                ### END  CODE\n",
    "                # print progress\n",
    "                acc = (y_pred.round() == y_batch).float().mean()\n",
    "                bar.set_postfix(\n",
    "                    loss=float(loss),\n",
    "                    acc=float(acc)\n",
    "                )\n",
    "        # evaluate accuracy at end of each epoch\n",
    "        if \n",
    "        model.eval()\n",
    "        y_pred = model(X_val)\n",
    "        acc = (y_pred.round() == y_val).float().mean()\n",
    "        acc = float(acc)\n",
    "        if acc > best_acc:\n",
    "            best_acc = acc\n",
    "            best_weights = copy.deepcopy(model.state_dict())\n",
    "        if acc > 0.98:\n",
    "            break\n",
    "    # restore model and return best accuracy\n",
    "    \n",
    "    \n",
    "    model.load_state_dict(best_weights)\n",
    "    \n",
    "    return <your code here>"
   ]
  },
  {
   "cell_type": "markdown",
   "metadata": {},
   "source": [
    "### Обучите сеть\n",
    "\n",
    "Обучите сеть три раза - с тремя разными оптимизиторами\n",
    "Не забудьте переинициализировать сеть заного перед каждой загрузкой. Убедитесь, что вы верно передали параметры сети в оптимизатор\n",
    "\n",
    "**Подсказка** Лучше объявить три независимых объекта - модель1, модель2 и модель3"
   ]
  },
  {
   "cell_type": "code",
   "execution_count": null,
   "metadata": {
    "ExecuteTime": {
     "end_time": "2021-02-19T09:25:41.861250Z",
     "start_time": "2021-02-19T09:25:41.678Z"
    }
   },
   "outputs": [],
   "source": [
    "X_train_torch = torch.from_numpy(X_train).float()\n",
    "y_train_torch = torch.from_numpy(y_train).float()\n",
    "X_valid_torch = torch.from_numpy(X_test).float()\n",
    "y_valid_torch = torch.from_numpy(y_test).float()\n",
    "\n",
    "model = NeuralNetwork(?)\n",
    "\n",
    "optims = {'optim1' = # use SGD\n",
    "          'optim2' = # use Adam\n",
    "          'optim3' = # use RMSProp\n",
    "}\n",
    "\n",
    "for opt_name, opt in optims.items():\n",
    "    model_train(?)\n"
   ]
  },
  {
   "cell_type": "markdown",
   "metadata": {},
   "source": [
    "### А теперь посмотрим на графики лоссов"
   ]
  },
  {
   "cell_type": "code",
   "execution_count": null,
   "metadata": {},
   "outputs": [],
   "source": [
    "plt.plot(loss_SGD, label = \"Stochastic Gradient Descent\")\n",
    "plt.plot(loss_Adam, label = \"Adam Optimizer\")\n",
    "plt.plot(loss_rmsprop, label = 'RMSProp Optimizer')\n",
    "plt.xlabel('epoch')\n",
    "plt.ylabel('Cost/ total loss')\n",
    "plt.legend()\n",
    "plt.show()"
   ]
  },
  {
   "cell_type": "markdown",
   "metadata": {},
   "source": [
    "### Инициализация"
   ]
  },
  {
   "cell_type": "markdown",
   "metadata": {},
   "source": [
    "Теперь проинициализируйте веса в вашей модели: случайно и Ксавьером. Сравните результат"
   ]
  },
  {
   "cell_type": "code",
   "execution_count": null,
   "metadata": {},
   "outputs": [],
   "source": [
    "class NeuralNetwork:\n",
    "    def __init__(self):\n",
    "        ### YOUR CODE HERE\n",
    "        \n",
    "        ### \n",
    "                        \n",
    "    def forward(self, X):\n",
    "        pass\n",
    "    "
   ]
  },
  {
   "cell_type": "markdown",
   "metadata": {},
   "source": [
    "## А теперь решите многоклассовую проблему"
   ]
  },
  {
   "cell_type": "markdown",
   "metadata": {},
   "source": [
    "Продемонстрируйте свои знания - решите более сложную проблему\n",
    "Попробуйте разные инициализации, методы оптимизации и кол-во нейронов.\n",
    "\n",
    "Найдите лучшие параметры через KFold"
   ]
  },
  {
   "cell_type": "code",
   "execution_count": null,
   "metadata": {},
   "outputs": [],
   "source": [
    "points = torch.rand(5000,2)\n",
    "target = []\n",
    "for p in points:\n",
    "    if p[0]>0.2 and p[1]>0.4:\n",
    "        target.append(1)\n",
    "    elif p[0]<0.2 and p[1]<0.6:\n",
    "        target.append(2)\n",
    "    elif p[0]>0.2 and p[0]<0.8 and p[1] < 0.5:\n",
    "        target.append(3)\n",
    "    else:\n",
    "        target.append(0)\n",
    "        \n",
    "target = torch.FloatTensor(target)\n",
    "data = torch.as_tensor(np.column_stack((points,target)))\n",
    "\n",
    "train = data[:800]\n",
    "valid = data[800:900]\n",
    "test = data[900:]\n",
    "\n",
    "plt.scatter(data[:,0],data[:,1],c = data[:,2])\n",
    "plt.show()"
   ]
  },
  {
   "cell_type": "code",
   "execution_count": null,
   "metadata": {},
   "outputs": [],
   "source": [
    "class AdvancedModel(nn.Module):\n",
    "    def __init__(self,):\n",
    "        super(AdvancedModel, self).__init__()\n",
    "        \n",
    "        ### YOUR CODE HERE\n",
    "        \n",
    "        ### END CODE\n",
    "    \n",
    "    def forward(x):\n",
    "        ### YOUR CODE HERE\n",
    "        pass\n",
    "        ### END CODE\n",
    "        "
   ]
  },
  {
   "cell_type": "code",
   "execution_count": null,
   "metadata": {},
   "outputs": [],
   "source": [
    "def train_model(model, optim, loss,\n",
    "               <your code here>):\n",
    "    raise NotImplementedError"
   ]
  },
  {
   "cell_type": "markdown",
   "metadata": {},
   "source": [
    "## (Почти) Боевая задача\n",
    " \n",
    "Перед вами датасет с классификацией алкоголя. Продемонстрируйте свои знания и решите задачу многоклассовой классификации"
   ]
  },
  {
   "cell_type": "code",
   "execution_count": null,
   "metadata": {},
   "outputs": [],
   "source": [
    "df = sklearn.datasets.load_wine(as_frame=True)\n",
    "df = df.frame\n",
    "df.head()"
   ]
  }
 ],
 "metadata": {
  "kernelspec": {
   "display_name": "Python 3 (ipykernel)",
   "language": "python",
   "name": "python3"
  },
  "language_info": {
   "codemirror_mode": {
    "name": "ipython",
    "version": 3
   },
   "file_extension": ".py",
   "mimetype": "text/x-python",
   "name": "python",
   "nbconvert_exporter": "python",
   "pygments_lexer": "ipython3",
   "version": "3.10.12"
  },
  "toc": {
   "base_numbering": 1,
   "nav_menu": {},
   "number_sections": true,
   "sideBar": true,
   "skip_h1_title": true,
   "title_cell": "Table of Contents",
   "title_sidebar": "Contents",
   "toc_cell": false,
   "toc_position": {},
   "toc_section_display": true,
   "toc_window_display": true
  }
 },
 "nbformat": 4,
 "nbformat_minor": 2
}
